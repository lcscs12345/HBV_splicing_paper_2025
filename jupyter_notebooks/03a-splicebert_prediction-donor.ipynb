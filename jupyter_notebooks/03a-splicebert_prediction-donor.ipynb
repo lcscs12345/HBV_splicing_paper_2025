{
 "cells": [
  {
   "cell_type": "markdown",
   "id": "60745610-a0e2-4951-b22a-067825e27e0f",
   "metadata": {},
   "source": [
    "# 03a-splicebert_prediction-donor.ipynb: Splicing propensity and donor site classification using SpliceBERT\n",
    "Analyses splicing propensity and classifies HBV splice donor sites using SpliceBERT, leveraging transformer-based sequence representations to identify predictive features. Includes performance metrics evaluation and splice donor site conservation analysis to assess model accuracy and evolutionary constraints, respectively."
   ]
  },
  {
   "cell_type": "code",
   "execution_count": 1,
   "id": "f2a98ae2-cd83-4762-9e19-cb18cc133abf",
   "metadata": {},
   "outputs": [],
   "source": [
    "import sys\n",
    "import os\n",
    "from glob import glob\n",
    "import numpy as np\n",
    "import pandas as pd\n",
    "import matplotlib.pyplot as plt\n",
    "import seaborn as sns\n",
    "import torch\n",
    "from transformers import AutoTokenizer, AutoModelForSequenceClassification\n",
    "import logging\n",
    "\n",
    "logging.basicConfig(level=logging.ERROR, format='%(levelname)s: %(message)s')\n",
    "\n",
    "\n",
    "scripts_dir = os.path.abspath(os.path.join(os.getcwd(), '../scripts'))\n",
    "\n",
    "if scripts_dir not in sys.path:\n",
    "    sys.path.append(scripts_dir)\n",
    "    \n",
    "from common import extract_quadruplet_rows, performance_metrics\n",
    "from splicebert_helpers import predict_with_sliding_window, cal_metric_by_group"
   ]
  },
  {
   "cell_type": "markdown",
   "id": "df28b43f-252c-4e2e-a06e-fc84c86e19ee",
   "metadata": {},
   "source": [
    "Load SpliceBERT pretrained model and a fine-tuned donor checkpoint"
   ]
  },
  {
   "cell_type": "code",
   "execution_count": 2,
   "id": "d16479d1-395c-4077-95b0-f0994f1ca8bf",
   "metadata": {},
   "outputs": [
    {
     "name": "stderr",
     "output_type": "stream",
     "text": [
      "Some weights of the model checkpoint at ../src/SpliceBERT/models/SpliceBERT.510nt/ were not used when initializing BertForSequenceClassification: ['cls.predictions.transform.LayerNorm.bias', 'cls.predictions.transform.LayerNorm.weight', 'cls.predictions.bias', 'cls.predictions.transform.dense.weight', 'cls.predictions.decoder.bias', 'cls.predictions.transform.dense.bias', 'cls.predictions.decoder.weight']\n",
      "- This IS expected if you are initializing BertForSequenceClassification from the checkpoint of a model trained on another task or with another architecture (e.g. initializing a BertForSequenceClassification model from a BertForPreTraining model).\n",
      "- This IS NOT expected if you are initializing BertForSequenceClassification from the checkpoint of a model that you expect to be exactly identical (initializing a BertForSequenceClassification model from a BertForSequenceClassification model).\n",
      "Some weights of BertForSequenceClassification were not initialized from the model checkpoint at ../src/SpliceBERT/models/SpliceBERT.510nt/ and are newly initialized: ['classifier.weight', 'bert.pooler.dense.weight', 'classifier.bias', 'bert.pooler.dense.bias']\n",
      "You should probably TRAIN this model on a down-stream task to be able to use it for predictions and inference.\n"
     ]
    },
    {
     "data": {
      "text/plain": [
       "BertForSequenceClassification(\n",
       "  (bert): BertModel(\n",
       "    (embeddings): BertEmbeddings(\n",
       "      (word_embeddings): Embedding(10, 512, padding_idx=0)\n",
       "      (position_embeddings): Embedding(512, 512)\n",
       "      (token_type_embeddings): Embedding(2, 512)\n",
       "      (LayerNorm): LayerNorm((512,), eps=1e-12, elementwise_affine=True)\n",
       "      (dropout): Dropout(p=0.1, inplace=False)\n",
       "    )\n",
       "    (encoder): BertEncoder(\n",
       "      (layer): ModuleList(\n",
       "        (0-5): 6 x BertLayer(\n",
       "          (attention): BertAttention(\n",
       "            (self): BertSelfAttention(\n",
       "              (query): Linear(in_features=512, out_features=512, bias=True)\n",
       "              (key): Linear(in_features=512, out_features=512, bias=True)\n",
       "              (value): Linear(in_features=512, out_features=512, bias=True)\n",
       "              (dropout): Dropout(p=0.1, inplace=False)\n",
       "            )\n",
       "            (output): BertSelfOutput(\n",
       "              (dense): Linear(in_features=512, out_features=512, bias=True)\n",
       "              (LayerNorm): LayerNorm((512,), eps=1e-12, elementwise_affine=True)\n",
       "              (dropout): Dropout(p=0.1, inplace=False)\n",
       "            )\n",
       "          )\n",
       "          (intermediate): BertIntermediate(\n",
       "            (dense): Linear(in_features=512, out_features=2048, bias=True)\n",
       "            (intermediate_act_fn): GELUActivation()\n",
       "          )\n",
       "          (output): BertOutput(\n",
       "            (dense): Linear(in_features=2048, out_features=512, bias=True)\n",
       "            (LayerNorm): LayerNorm((512,), eps=1e-12, elementwise_affine=True)\n",
       "            (dropout): Dropout(p=0.1, inplace=False)\n",
       "          )\n",
       "        )\n",
       "      )\n",
       "    )\n",
       "    (pooler): BertPooler(\n",
       "      (dense): Linear(in_features=512, out_features=512, bias=True)\n",
       "      (activation): Tanh()\n",
       "    )\n",
       "  )\n",
       "  (dropout): Dropout(p=0.1, inplace=False)\n",
       "  (classifier): Linear(in_features=512, out_features=1, bias=True)\n",
       ")"
      ]
     },
     "execution_count": 2,
     "metadata": {},
     "output_type": "execute_result"
    }
   ],
   "source": [
    "SPLICEBERT_510 = \"../src/SpliceBERT/models/SpliceBERT.510nt/\"\n",
    "tokenizer = AutoTokenizer.from_pretrained(SPLICEBERT_510)\n",
    "\n",
    "# Donor checkpoint\n",
    "weights = \"../src/SpliceBERT/examples/04-splicesite-prediction/output/finetune_splicebert_on_spliceator_GS-GS_1_donor_cv/fold0/checkpoint.pt.best_model.pt\"\n",
    "\n",
    "device = torch.device(\"cuda\" if torch.cuda.is_available() else \"cpu\")\n",
    "\n",
    "model = AutoModelForSequenceClassification.from_pretrained(SPLICEBERT_510, num_labels=1).to(device)\n",
    "\n",
    "# Load the checkpoint dictionary\n",
    "checkpoint = torch.load(weights, map_location=\"cpu\")\n",
    "model_state_dict = checkpoint[\"model\"]\n",
    "\n",
    "# Remove the missing key\n",
    "if \"bert.embeddings.position_ids\" in model_state_dict:\n",
    "    del model_state_dict[\"bert.embeddings.position_ids\"]\n",
    "\n",
    "model.load_state_dict(model_state_dict, strict=False)\n",
    "model.eval()"
   ]
  },
  {
   "cell_type": "code",
   "execution_count": null,
   "id": "51a36fc9-f5f3-4de6-a813-da0620bf3294",
   "metadata": {},
   "outputs": [],
   "source": []
  },
  {
   "cell_type": "markdown",
   "id": "f5eaa123-38c3-499a-9d3c-c549dd39298d",
   "metadata": {
    "tags": []
   },
   "source": [
    "Extend consensus fasta sequences by adding 200-nt flanking sequences to the upstream of PreC ORF and the downstream of X ORF"
   ]
  },
  {
   "cell_type": "code",
   "execution_count": null,
   "id": "306bbbb3-79cd-4fba-990f-cf94eff26a31",
   "metadata": {},
   "outputs": [],
   "source": [
    "! paste \\\n",
    "    <(grep \">\" ../ref/hbvdb/all_Genomes.fasta) \\\n",
    "    <(awk 'BEGIN{RS=\">\"}NR>1{sub(\"\\n\",\"\\t\"); gsub(\"\\n\",\"\"); print RS$0}' ../ref/hbvdb/all_Genomes.fasta | cut -f2 | cut -c1679-) \\\n",
    "    <(awk 'BEGIN{RS=\">\"}NR>1{sub(\"\\n\",\"\\t\"); gsub(\"\\n\",\"\"); print RS$0}' ../ref/hbvdb/all_Genomes.fasta | cut -f2 | cut -c-1677) \\\n",
    "    <(awk 'BEGIN{RS=\">\"}NR>1{sub(\"\\n\",\"\\t\"); gsub(\"\\n\",\"\"); print RS$0}' ../ref/hbvdb/all_Genomes.fasta | cut -f2 | cut -c1678-2296) \\\n",
    "    | awk '{print $1 \"\\t\" $2 $3 $4}' | sed 's/-/\\t/;s/\\t/\\.fa\\t/2;s/-//g' | awk 'BEGIN{OFS=\"\\t\"} {print $1, $2, length($NF), $3}' \\\n",
    "    > ../ref/hbvdb/pgrna/pgrna_flank200.txt\n",
    "\n",
    "! split -l 200 ../ref/hbvdb/pgrna/pgrna_flank200.txt \\\n",
    "    -d ../data/processed_files/pgrna/pgrna_flank200_"
   ]
  },
  {
   "cell_type": "markdown",
   "id": "5c2d44e4-e1cf-4c5c-8bd6-e0d324963c04",
   "metadata": {},
   "source": [
    "Predict HBV donor sites by sliding window"
   ]
  },
  {
   "cell_type": "code",
   "execution_count": 3,
   "id": "e2a9c09c-f726-44ea-bdd9-71a7af4a2766",
   "metadata": {
    "tags": []
   },
   "outputs": [
    {
     "data": {
      "application/vnd.jupyter.widget-view+json": {
       "model_id": "55b61dbccccb4b9d8c35994cb88fc8b9",
       "version_major": 2,
       "version_minor": 0
      },
      "text/plain": [
       "  0%|          | 0/200 [00:00<?, ?it/s]"
      ]
     },
     "metadata": {},
     "output_type": "display_data"
    },
    {
     "name": "stdout",
     "output_type": "stream",
     "text": [
      "Progress: 3%"
     ]
    },
    {
     "data": {
      "application/vnd.jupyter.widget-view+json": {
       "model_id": "96893927959248cf8b8b82b9bcb25131",
       "version_major": 2,
       "version_minor": 0
      },
      "text/plain": [
       "  0%|          | 0/200 [00:00<?, ?it/s]"
      ]
     },
     "metadata": {},
     "output_type": "display_data"
    },
    {
     "name": "stdout",
     "output_type": "stream",
     "text": [
      "Progress: 5%"
     ]
    },
    {
     "data": {
      "application/vnd.jupyter.widget-view+json": {
       "model_id": "b9d821a8659841ffb7e8ab2157c8db1b",
       "version_major": 2,
       "version_minor": 0
      },
      "text/plain": [
       "  0%|          | 0/200 [00:00<?, ?it/s]"
      ]
     },
     "metadata": {},
     "output_type": "display_data"
    },
    {
     "name": "stdout",
     "output_type": "stream",
     "text": [
      "Progress: 8%"
     ]
    },
    {
     "data": {
      "application/vnd.jupyter.widget-view+json": {
       "model_id": "891ce74a135f48488b912ae4595f3ec5",
       "version_major": 2,
       "version_minor": 0
      },
      "text/plain": [
       "  0%|          | 0/200 [00:00<?, ?it/s]"
      ]
     },
     "metadata": {},
     "output_type": "display_data"
    },
    {
     "name": "stdout",
     "output_type": "stream",
     "text": [
      "Progress: 11%"
     ]
    },
    {
     "data": {
      "application/vnd.jupyter.widget-view+json": {
       "model_id": "c7d779ba04da4211bc489e31bc16f924",
       "version_major": 2,
       "version_minor": 0
      },
      "text/plain": [
       "  0%|          | 0/200 [00:00<?, ?it/s]"
      ]
     },
     "metadata": {},
     "output_type": "display_data"
    },
    {
     "name": "stdout",
     "output_type": "stream",
     "text": [
      "Progress: 13%"
     ]
    },
    {
     "data": {
      "application/vnd.jupyter.widget-view+json": {
       "model_id": "dfdc86f55f844d4cb7f07b6649dd70ba",
       "version_major": 2,
       "version_minor": 0
      },
      "text/plain": [
       "  0%|          | 0/200 [00:00<?, ?it/s]"
      ]
     },
     "metadata": {},
     "output_type": "display_data"
    },
    {
     "name": "stdout",
     "output_type": "stream",
     "text": [
      "Progress: 16%"
     ]
    },
    {
     "data": {
      "application/vnd.jupyter.widget-view+json": {
       "model_id": "672e45097eda42eabe4e4d3d2c3e2004",
       "version_major": 2,
       "version_minor": 0
      },
      "text/plain": [
       "  0%|          | 0/200 [00:00<?, ?it/s]"
      ]
     },
     "metadata": {},
     "output_type": "display_data"
    },
    {
     "name": "stdout",
     "output_type": "stream",
     "text": [
      "Progress: 18%"
     ]
    },
    {
     "data": {
      "application/vnd.jupyter.widget-view+json": {
       "model_id": "ad587f9791e94d819951fba4d6d323f1",
       "version_major": 2,
       "version_minor": 0
      },
      "text/plain": [
       "  0%|          | 0/200 [00:00<?, ?it/s]"
      ]
     },
     "metadata": {},
     "output_type": "display_data"
    },
    {
     "name": "stdout",
     "output_type": "stream",
     "text": [
      "Progress: 21%"
     ]
    },
    {
     "data": {
      "application/vnd.jupyter.widget-view+json": {
       "model_id": "d00b11d4009a47a5b61456b8dc57d125",
       "version_major": 2,
       "version_minor": 0
      },
      "text/plain": [
       "  0%|          | 0/200 [00:00<?, ?it/s]"
      ]
     },
     "metadata": {},
     "output_type": "display_data"
    },
    {
     "name": "stdout",
     "output_type": "stream",
     "text": [
      "Progress: 24%"
     ]
    },
    {
     "data": {
      "application/vnd.jupyter.widget-view+json": {
       "model_id": "3746ce8a51a24b728d7a738f4a2d9d5f",
       "version_major": 2,
       "version_minor": 0
      },
      "text/plain": [
       "  0%|          | 0/200 [00:00<?, ?it/s]"
      ]
     },
     "metadata": {},
     "output_type": "display_data"
    },
    {
     "name": "stdout",
     "output_type": "stream",
     "text": [
      "Progress: 26%"
     ]
    },
    {
     "data": {
      "application/vnd.jupyter.widget-view+json": {
       "model_id": "12cf2054824d4a4bbf32aaae09213a34",
       "version_major": 2,
       "version_minor": 0
      },
      "text/plain": [
       "  0%|          | 0/200 [00:00<?, ?it/s]"
      ]
     },
     "metadata": {},
     "output_type": "display_data"
    },
    {
     "name": "stdout",
     "output_type": "stream",
     "text": [
      "Progress: 29%"
     ]
    },
    {
     "data": {
      "application/vnd.jupyter.widget-view+json": {
       "model_id": "e6e3431855694f0c9cc07ac062b64a69",
       "version_major": 2,
       "version_minor": 0
      },
      "text/plain": [
       "  0%|          | 0/200 [00:00<?, ?it/s]"
      ]
     },
     "metadata": {},
     "output_type": "display_data"
    },
    {
     "name": "stdout",
     "output_type": "stream",
     "text": [
      "Progress: 32%"
     ]
    },
    {
     "data": {
      "application/vnd.jupyter.widget-view+json": {
       "model_id": "d3b753ecf36042afb6d0963dce7b73a2",
       "version_major": 2,
       "version_minor": 0
      },
      "text/plain": [
       "  0%|          | 0/200 [00:00<?, ?it/s]"
      ]
     },
     "metadata": {},
     "output_type": "display_data"
    },
    {
     "name": "stdout",
     "output_type": "stream",
     "text": [
      "Progress: 34%"
     ]
    },
    {
     "data": {
      "application/vnd.jupyter.widget-view+json": {
       "model_id": "ac2614a93e0740c897702c0862807f93",
       "version_major": 2,
       "version_minor": 0
      },
      "text/plain": [
       "  0%|          | 0/200 [00:00<?, ?it/s]"
      ]
     },
     "metadata": {},
     "output_type": "display_data"
    },
    {
     "name": "stdout",
     "output_type": "stream",
     "text": [
      "Progress: 37%"
     ]
    },
    {
     "data": {
      "application/vnd.jupyter.widget-view+json": {
       "model_id": "d3778fa54758451f82b0515015ed0da9",
       "version_major": 2,
       "version_minor": 0
      },
      "text/plain": [
       "  0%|          | 0/200 [00:00<?, ?it/s]"
      ]
     },
     "metadata": {},
     "output_type": "display_data"
    },
    {
     "name": "stdout",
     "output_type": "stream",
     "text": [
      "Progress: 39%"
     ]
    },
    {
     "data": {
      "application/vnd.jupyter.widget-view+json": {
       "model_id": "0eaf196775944879a77b5dd57d367844",
       "version_major": 2,
       "version_minor": 0
      },
      "text/plain": [
       "  0%|          | 0/200 [00:00<?, ?it/s]"
      ]
     },
     "metadata": {},
     "output_type": "display_data"
    },
    {
     "name": "stdout",
     "output_type": "stream",
     "text": [
      "Progress: 42%"
     ]
    },
    {
     "data": {
      "application/vnd.jupyter.widget-view+json": {
       "model_id": "cb1ef18dc6a04f95bee9aa69d1895eb3",
       "version_major": 2,
       "version_minor": 0
      },
      "text/plain": [
       "  0%|          | 0/200 [00:00<?, ?it/s]"
      ]
     },
     "metadata": {},
     "output_type": "display_data"
    },
    {
     "name": "stdout",
     "output_type": "stream",
     "text": [
      "Progress: 45%"
     ]
    },
    {
     "data": {
      "application/vnd.jupyter.widget-view+json": {
       "model_id": "73582d93007f45bfa884432091998271",
       "version_major": 2,
       "version_minor": 0
      },
      "text/plain": [
       "  0%|          | 0/200 [00:00<?, ?it/s]"
      ]
     },
     "metadata": {},
     "output_type": "display_data"
    },
    {
     "name": "stdout",
     "output_type": "stream",
     "text": [
      "Progress: 47%"
     ]
    },
    {
     "data": {
      "application/vnd.jupyter.widget-view+json": {
       "model_id": "cef8e44eade94a69903943bc36fa783b",
       "version_major": 2,
       "version_minor": 0
      },
      "text/plain": [
       "  0%|          | 0/200 [00:00<?, ?it/s]"
      ]
     },
     "metadata": {},
     "output_type": "display_data"
    },
    {
     "name": "stdout",
     "output_type": "stream",
     "text": [
      "Progress: 50%"
     ]
    },
    {
     "data": {
      "application/vnd.jupyter.widget-view+json": {
       "model_id": "c65a702f30d543a79a8ba22a21097f11",
       "version_major": 2,
       "version_minor": 0
      },
      "text/plain": [
       "  0%|          | 0/200 [00:00<?, ?it/s]"
      ]
     },
     "metadata": {},
     "output_type": "display_data"
    },
    {
     "name": "stdout",
     "output_type": "stream",
     "text": [
      "Progress: 53%"
     ]
    },
    {
     "data": {
      "application/vnd.jupyter.widget-view+json": {
       "model_id": "0c50b7f4b5db48858be52ad96aca7599",
       "version_major": 2,
       "version_minor": 0
      },
      "text/plain": [
       "  0%|          | 0/200 [00:00<?, ?it/s]"
      ]
     },
     "metadata": {},
     "output_type": "display_data"
    },
    {
     "name": "stdout",
     "output_type": "stream",
     "text": [
      "Progress: 55%"
     ]
    },
    {
     "data": {
      "application/vnd.jupyter.widget-view+json": {
       "model_id": "7d1d40025d7d4a98a5be3e7598cf34b0",
       "version_major": 2,
       "version_minor": 0
      },
      "text/plain": [
       "  0%|          | 0/200 [00:00<?, ?it/s]"
      ]
     },
     "metadata": {},
     "output_type": "display_data"
    },
    {
     "name": "stdout",
     "output_type": "stream",
     "text": [
      "Progress: 58%"
     ]
    },
    {
     "data": {
      "application/vnd.jupyter.widget-view+json": {
       "model_id": "7946b668608d4b74a084dabd42e34126",
       "version_major": 2,
       "version_minor": 0
      },
      "text/plain": [
       "  0%|          | 0/200 [00:00<?, ?it/s]"
      ]
     },
     "metadata": {},
     "output_type": "display_data"
    },
    {
     "name": "stdout",
     "output_type": "stream",
     "text": [
      "Progress: 61%"
     ]
    },
    {
     "data": {
      "application/vnd.jupyter.widget-view+json": {
       "model_id": "d824fb8880104c558dea10a019ecfb34",
       "version_major": 2,
       "version_minor": 0
      },
      "text/plain": [
       "  0%|          | 0/200 [00:00<?, ?it/s]"
      ]
     },
     "metadata": {},
     "output_type": "display_data"
    },
    {
     "name": "stdout",
     "output_type": "stream",
     "text": [
      "Progress: 63%"
     ]
    },
    {
     "data": {
      "application/vnd.jupyter.widget-view+json": {
       "model_id": "789af3d44eff4994ba7174cddb6976fb",
       "version_major": 2,
       "version_minor": 0
      },
      "text/plain": [
       "  0%|          | 0/200 [00:00<?, ?it/s]"
      ]
     },
     "metadata": {},
     "output_type": "display_data"
    },
    {
     "name": "stdout",
     "output_type": "stream",
     "text": [
      "Progress: 66%"
     ]
    },
    {
     "data": {
      "application/vnd.jupyter.widget-view+json": {
       "model_id": "c10534c8abba404fbb96899c09b4b270",
       "version_major": 2,
       "version_minor": 0
      },
      "text/plain": [
       "  0%|          | 0/200 [00:00<?, ?it/s]"
      ]
     },
     "metadata": {},
     "output_type": "display_data"
    },
    {
     "name": "stdout",
     "output_type": "stream",
     "text": [
      "Progress: 68%"
     ]
    },
    {
     "data": {
      "application/vnd.jupyter.widget-view+json": {
       "model_id": "5c68324c21ed4545b6b573ee46a38258",
       "version_major": 2,
       "version_minor": 0
      },
      "text/plain": [
       "  0%|          | 0/200 [00:00<?, ?it/s]"
      ]
     },
     "metadata": {},
     "output_type": "display_data"
    },
    {
     "name": "stdout",
     "output_type": "stream",
     "text": [
      "Progress: 71%"
     ]
    },
    {
     "data": {
      "application/vnd.jupyter.widget-view+json": {
       "model_id": "785ce0a74e4c4939b44af1d488f416e2",
       "version_major": 2,
       "version_minor": 0
      },
      "text/plain": [
       "  0%|          | 0/200 [00:00<?, ?it/s]"
      ]
     },
     "metadata": {},
     "output_type": "display_data"
    },
    {
     "name": "stdout",
     "output_type": "stream",
     "text": [
      "Progress: 74%"
     ]
    },
    {
     "data": {
      "application/vnd.jupyter.widget-view+json": {
       "model_id": "1225556396664098ad023d68096cc9b1",
       "version_major": 2,
       "version_minor": 0
      },
      "text/plain": [
       "  0%|          | 0/200 [00:00<?, ?it/s]"
      ]
     },
     "metadata": {},
     "output_type": "display_data"
    },
    {
     "name": "stdout",
     "output_type": "stream",
     "text": [
      "Progress: 76%"
     ]
    },
    {
     "data": {
      "application/vnd.jupyter.widget-view+json": {
       "model_id": "85a76fa166ef473f9e1adbf3ef48322c",
       "version_major": 2,
       "version_minor": 0
      },
      "text/plain": [
       "  0%|          | 0/200 [00:00<?, ?it/s]"
      ]
     },
     "metadata": {},
     "output_type": "display_data"
    },
    {
     "name": "stdout",
     "output_type": "stream",
     "text": [
      "Progress: 79%"
     ]
    },
    {
     "data": {
      "application/vnd.jupyter.widget-view+json": {
       "model_id": "9282b8f6ecef452cbfcbdfe32f6ea5eb",
       "version_major": 2,
       "version_minor": 0
      },
      "text/plain": [
       "  0%|          | 0/200 [00:00<?, ?it/s]"
      ]
     },
     "metadata": {},
     "output_type": "display_data"
    },
    {
     "name": "stdout",
     "output_type": "stream",
     "text": [
      "Progress: 82%"
     ]
    },
    {
     "data": {
      "application/vnd.jupyter.widget-view+json": {
       "model_id": "a0e25007e942492995bc558c115aca5d",
       "version_major": 2,
       "version_minor": 0
      },
      "text/plain": [
       "  0%|          | 0/200 [00:00<?, ?it/s]"
      ]
     },
     "metadata": {},
     "output_type": "display_data"
    },
    {
     "name": "stdout",
     "output_type": "stream",
     "text": [
      "Progress: 84%"
     ]
    },
    {
     "data": {
      "application/vnd.jupyter.widget-view+json": {
       "model_id": "d435b00404854cdc9dc8f06095f5eeda",
       "version_major": 2,
       "version_minor": 0
      },
      "text/plain": [
       "  0%|          | 0/200 [00:00<?, ?it/s]"
      ]
     },
     "metadata": {},
     "output_type": "display_data"
    },
    {
     "name": "stdout",
     "output_type": "stream",
     "text": [
      "Progress: 87%"
     ]
    },
    {
     "data": {
      "application/vnd.jupyter.widget-view+json": {
       "model_id": "7c8cba9621b446ad822c0a8cf3745609",
       "version_major": 2,
       "version_minor": 0
      },
      "text/plain": [
       "  0%|          | 0/200 [00:00<?, ?it/s]"
      ]
     },
     "metadata": {},
     "output_type": "display_data"
    },
    {
     "name": "stdout",
     "output_type": "stream",
     "text": [
      "Progress: 89%"
     ]
    },
    {
     "data": {
      "application/vnd.jupyter.widget-view+json": {
       "model_id": "8993f38230fb4996941c28b4487ae7b0",
       "version_major": 2,
       "version_minor": 0
      },
      "text/plain": [
       "  0%|          | 0/200 [00:00<?, ?it/s]"
      ]
     },
     "metadata": {},
     "output_type": "display_data"
    },
    {
     "name": "stdout",
     "output_type": "stream",
     "text": [
      "Progress: 92%"
     ]
    },
    {
     "data": {
      "application/vnd.jupyter.widget-view+json": {
       "model_id": "bccafd1a95024a8ab2325ea3b4121fc3",
       "version_major": 2,
       "version_minor": 0
      },
      "text/plain": [
       "  0%|          | 0/200 [00:00<?, ?it/s]"
      ]
     },
     "metadata": {},
     "output_type": "display_data"
    },
    {
     "name": "stdout",
     "output_type": "stream",
     "text": [
      "Progress: 95%"
     ]
    },
    {
     "data": {
      "application/vnd.jupyter.widget-view+json": {
       "model_id": "6100263d6b1e4d6a8edf1ae63294a0d6",
       "version_major": 2,
       "version_minor": 0
      },
      "text/plain": [
       "  0%|          | 0/200 [00:00<?, ?it/s]"
      ]
     },
     "metadata": {},
     "output_type": "display_data"
    },
    {
     "name": "stdout",
     "output_type": "stream",
     "text": [
      "Progress: 97%"
     ]
    },
    {
     "data": {
      "application/vnd.jupyter.widget-view+json": {
       "model_id": "a05e582e0b134f7584cada0bb363c067",
       "version_major": 2,
       "version_minor": 0
      },
      "text/plain": [
       "  0%|          | 0/101 [00:00<?, ?it/s]"
      ]
     },
     "metadata": {},
     "output_type": "display_data"
    },
    {
     "name": "stdout",
     "output_type": "stream",
     "text": [
      "Progress: 100%"
     ]
    }
   ],
   "source": [
    "from tqdm.auto import tqdm\n",
    "tqdm.pandas()\n",
    "\n",
    "files = sorted(glob(\"../data/processed_files/pgrna/pgrna_flank200_*\"))\n",
    "\n",
    "for i in files:\n",
    "    path, basename = os.path.split(i)\n",
    "    index = int(basename.split(\"_\")[2])\n",
    "    \n",
    "    hbvdb = pd.read_csv(i, sep=\"\\t\", header=None)\n",
    "    hbvdb.columns = [\"tid\",\"genotype\",\"length\",\"seq\"]\n",
    "\n",
    "    hbvdb[\"splicebert_cls\"] = hbvdb.seq.progress_apply(lambda x: predict_with_sliding_window(\n",
    "            x,\n",
    "            model,\n",
    "            tokenizer,\n",
    "            max_len=400,\n",
    "            stride=1, # Slide by 1 nucleotide\n",
    "            dnabert_k=None,\n",
    "            device=device\n",
    "        ))\n",
    "    hbvdb.to_pickle(f\"{path}/splicebert_hbvdb_{index}.GT.pkl.gz\")\n",
    "    sys.stdout.write(f\"\\rProgress: {round((index+1)/len(files)*100)}%\")\n",
    "    sys.stdout.flush()"
   ]
  },
  {
   "cell_type": "code",
   "execution_count": null,
   "id": "e3c1720d-bdc4-4c49-a916-3010c56a3b65",
   "metadata": {},
   "outputs": [],
   "source": []
  },
  {
   "cell_type": "markdown",
   "id": "bebcae80-8144-49ce-a411-61e2d15c4129",
   "metadata": {},
   "source": [
    "Process sliding window output"
   ]
  },
  {
   "cell_type": "code",
   "execution_count": 2,
   "id": "30aea95d-19e4-42a3-900a-eea12db85c9b",
   "metadata": {},
   "outputs": [
    {
     "data": {
      "text/plain": [
       "genotype  length\n",
       "C         3639      2084\n",
       "B         3639      1728\n",
       "D         3606      1059\n",
       "A         3645       856\n",
       "RF        3639       642\n",
       "E         3636       301\n",
       "F         3639       252\n",
       "RF        3606       237\n",
       "C         3621        40\n",
       "G         3708        37\n",
       "H         3639        27\n",
       "B         3645        17\n",
       "RF        3645        16\n",
       "          3636        14\n",
       "C         3624        14\n",
       "D         3639         9\n",
       "C         3597         9\n",
       "D         3612         8\n",
       "C         3588         7\n",
       "RF        3708         7\n",
       "Name: count, dtype: int64"
      ]
     },
     "execution_count": 2,
     "metadata": {},
     "output_type": "execute_result"
    }
   ],
   "source": [
    "pred_donor = []\n",
    "\n",
    "for i in glob(\"../data/processed_files/pgrna/*.GT.pkl.gz\"):\n",
    "    pred = pd.read_pickle(i)\n",
    "    pred_donor.append(pred)\n",
    "    \n",
    "pred_donor = pd.concat(pred_donor)\n",
    "pred_donor[\"genotype\"] = pred_donor[\"genotype\"].str.replace(\".fa\",\"\")\n",
    "pred_donor['seq'] = pred_donor.seq.apply(lambda x: list(x[200:-199]))\n",
    "pred_donor.value_counts([\"genotype\",\"length\"]).head(20)"
   ]
  },
  {
   "cell_type": "code",
   "execution_count": 3,
   "id": "fd7de8ea-b23b-423e-ba7f-2a8bdc13ce7a",
   "metadata": {},
   "outputs": [],
   "source": [
    "pred_donor = pred_donor[(pred_donor[\"length\"]==3639)].copy()\n",
    "pred_donor[\"splicebert_cls\"]= pred_donor[\"splicebert_cls\"].apply(lambda x: pd.DataFrame(x))\n",
    "dpreds = pd.concat(pred_donor[\"splicebert_cls\"].tolist())\n",
    "dpreds[0] = dpreds[0].apply(lambda x: x-200)\n",
    "dpreds.columns = [\"position\",\"logit\",\"prob\"]\n",
    "dpreds.reset_index(drop=True, inplace=True)\n",
    "dpreds[\"id\"] = pred_donor[\"tid\"].repeat(3240).reset_index().tid\n",
    "dpreds = pd.merge(dpreds, pred_donor[[\"tid\",\"genotype\"]].rename(columns={\"tid\":\"id\"}))\n",
    "dpreds[\"base\"] = list(np.concatenate(pred_donor[\"seq\"].tolist()))"
   ]
  },
  {
   "cell_type": "code",
   "execution_count": 4,
   "id": "7f7d2482-6bc0-4002-961f-68bf08461592",
   "metadata": {},
   "outputs": [],
   "source": [
    "dset = dpreds[dpreds.genotype.str.contains(\"B|C|RF|F\")].copy()\n",
    "dset = dset[~dset.genotype.str.contains(\"RFC\")].copy()\n",
    "dsl = dset.groupby([\"id\",\"genotype\"]).logit.apply(list).reset_index()"
   ]
  },
  {
   "cell_type": "code",
   "execution_count": null,
   "id": "29e4bc38-8741-4c3f-8627-be5127fc64e9",
   "metadata": {},
   "outputs": [],
   "source": []
  },
  {
   "cell_type": "markdown",
   "id": "e64142f3-15d1-4f6e-98b9-e33055bfb690",
   "metadata": {},
   "source": [
    "Dimensional reduction and clustering"
   ]
  },
  {
   "cell_type": "code",
   "execution_count": 5,
   "id": "eb1e134c-1fed-44db-91ff-a64aa91a0445",
   "metadata": {},
   "outputs": [
    {
     "name": "stderr",
     "output_type": "stream",
     "text": [
      "/tmp/ipykernel_665664/3916490363.py:10: FutureWarning: In the future, the default backend for leiden will be igraph instead of leidenalg.\n",
      "\n",
      " To achieve the future defaults please pass: flavor=\"igraph\" and n_iterations=2.  directed must also be False to work with igraph's implementation.\n",
      "  sc.tl.leiden(adata, resolution=0.2)\n"
     ]
    }
   ],
   "source": [
    "import scanpy as sc\n",
    "\n",
    "adata = sc.AnnData(np.array(dsl.logit.tolist()))\n",
    "adata.obs[\"id\"] = dsl[\"id\"].tolist()\n",
    "adata.obs[\"genotype\"] = dsl[\"genotype\"].tolist()\n",
    "\n",
    "sc.pp.pca(adata, n_comps=128, random_state=0)\n",
    "sc.pp.neighbors(adata, use_rep='X_pca', n_neighbors=50)\n",
    "sc.tl.umap(adata, random_state=0)\n",
    "sc.tl.leiden(adata, resolution=0.2)"
   ]
  },
  {
   "cell_type": "code",
   "execution_count": 6,
   "id": "3e6d935d-5901-4141-8c90-a78edd84b8d2",
   "metadata": {},
   "outputs": [
    {
     "data": {
      "image/png": "[encoded data removed]",
      "text/plain": [
       "<Figure size 300x300 with 1 Axes>"
      ]
     },
     "metadata": {},
     "output_type": "display_data"
    },
    {
     "data": {
      "text/plain": [
       "<Figure size 640x480 with 0 Axes>"
      ]
     },
     "metadata": {},
     "output_type": "display_data"
    }
   ],
   "source": [
    "fig, ax = plt.subplots(figsize=(3, 3))\n",
    "\n",
    "sc.pl.umap(adata, ax=ax, color=\"genotype\", size=10, palette=\"tab20b\", alpha=0.5)\n",
    "\n",
    "plt.tight_layout()\n",
    "fig.savefig(\"../results/figures/fig4/umap.logit_donors.png\", bbox_inches='tight', dpi=300)"
   ]
  },
  {
   "cell_type": "code",
   "execution_count": 10,
   "id": "e1b3e493-4bcf-4aa2-8823-70375cf5e8e2",
   "metadata": {},
   "outputs": [
    {
     "data": {
      "image/png": "[encoded data removed]",
      "text/plain": [
       "<Figure size 300x300 with 1 Axes>"
      ]
     },
     "metadata": {},
     "output_type": "display_data"
    },
    {
     "data": {
      "text/plain": [
       "<Figure size 640x480 with 0 Axes>"
      ]
     },
     "metadata": {},
     "output_type": "display_data"
    }
   ],
   "source": [
    "fig, ax = plt.subplots(figsize=(3, 3))\n",
    "\n",
    "sc.pl.umap(adata, ax=ax, color=\"leiden\", size=10, palette=\"tab20\", alpha=0.5)\n",
    "\n",
    "plt.tight_layout()\n",
    "fig.savefig(\"../results/figures/fig4/umap.logit_donors.leiden.png\", bbox_inches='tight', dpi=300)"
   ]
  },
  {
   "cell_type": "code",
   "execution_count": 6,
   "id": "ce0704fd-6c22-4a04-b500-ad703199d4ae",
   "metadata": {},
   "outputs": [
    {
     "data": {
      "text/plain": [
       "0.5315173426698312"
      ]
     },
     "execution_count": 6,
     "metadata": {},
     "output_type": "execute_result"
    }
   ],
   "source": [
    "cal_metric_by_group(adata.obs[\"genotype\"], adata.obs[\"leiden\"], donors=adata.obs[\"genotype\"].unique().tolist())"
   ]
  },
  {
   "cell_type": "code",
   "execution_count": null,
   "id": "f8339315-56da-4342-bf4b-aa488617c277",
   "metadata": {},
   "outputs": [],
   "source": []
  },
  {
   "cell_type": "markdown",
   "id": "6095395c-693c-4d1c-8ef7-ed4c60347065",
   "metadata": {},
   "source": [
    "Visualise SpliceBERT model outputs by splice site usage"
   ]
  },
  {
   "cell_type": "code",
   "execution_count": 7,
   "id": "a75af4f1-956e-4d20-bbcc-30ba60b98994",
   "metadata": {},
   "outputs": [],
   "source": [
    "x,gu,t,y = extract_quadruplet_rows(dset.reset_index(drop=True), \"base\", \"G\", \"T\", pre_value_any=True)"
   ]
  },
  {
   "cell_type": "code",
   "execution_count": 8,
   "id": "f0cbe167-ff61-44fe-8e06-60c9c94d1a9c",
   "metadata": {},
   "outputs": [
    {
     "data": {
      "text/plain": [
       "genotype  base\n",
       "C         G       2084\n",
       "B         G       1728\n",
       "RF        G        642\n",
       "F         G        252\n",
       "Name: count, dtype: int64"
      ]
     },
     "execution_count": 8,
     "metadata": {},
     "output_type": "execute_result"
    }
   ],
   "source": [
    "gu.drop_duplicates([\"id\",\"base\"]).value_counts([\"genotype\",\"base\"])"
   ]
  },
  {
   "cell_type": "code",
   "execution_count": 10,
   "id": "e4eba7af-8e2d-4118-82fd-68e175495c60",
   "metadata": {},
   "outputs": [],
   "source": [
    "cosi_long = pd.read_pickle(\"../data/processed_files/cosi_long.pkl.gz\")\n",
    "h = cosi_long[cosi_long[\"Splicing efficiency\"]>=0.1].copy()\n",
    "h[\"group\"] = \"Higher usage\"\n",
    "\n",
    "l = cosi_long[cosi_long[\"Splicing efficiency\"]<0.1].copy()\n",
    "l[\"group\"] = \"Lower usage\"\n",
    "\n",
    "hl = pd.concat([h,l])\n",
    "\n",
    "pos = hl[hl[\"coSI\"]=='$\\\\theta_5$'].copy()\n",
    "pos[\"position\"] =  pos[\"start\"]\n",
    "\n",
    "a = pd.merge(gu, pos[[\"position\",\"group\",\"Splicing efficiency\",\"Splice site\"]], how=\"left\")\n",
    "a = a.sort_values(\"Splicing efficiency\", ascending=False).drop_duplicates([\"position\",\"logit\",\"prob\",\"id\",\"genotype\"])\n",
    "a[\"group\"] = a[\"group\"].fillna(\"Non-donor\")"
   ]
  },
  {
   "cell_type": "code",
   "execution_count": 11,
   "id": "bc98d5ff-7bfb-48ea-a9e6-5c7edf74a550",
   "metadata": {},
   "outputs": [
    {
     "data": {
      "image/png": "[encoded data removed]",
      "text/plain": [
       "<Figure size 500x300 with 1 Axes>"
      ]
     },
     "metadata": {},
     "output_type": "display_data"
    }
   ],
   "source": [
    "plt.figure(figsize=(5,3))\n",
    "\n",
    "flierprops = dict(markersize=1, alpha=0.005)\n",
    "g = sns.boxplot(data=a.sort_values(\"genotype\"), x=\"group\", y=\"logit\", hue=\"genotype\", \n",
    "                palette=\"tab10\", flierprops=flierprops, \n",
    "                order=[\"Higher usage\",\"Lower usage\",\"Non-donor\"])\n",
    "\n",
    "plt.xlabel(\"donor\")\n",
    "plt.ylabel(\"Logit\")\n",
    "sns.move_legend(g, \"upper left\", bbox_to_anchor=(1, 0.75))\n",
    "plt.savefig(\"../results/figures/fig5/logit_donors.png\", bbox_inches='tight', dpi=300)"
   ]
  },
  {
   "cell_type": "code",
   "execution_count": 10,
   "id": "6af85889-b4d3-4610-91b6-6bab9db1c545",
   "metadata": {},
   "outputs": [
    {
     "data": {
      "text/plain": [
       "genotype  Splice site  group       \n",
       "B         donor        Higher usage    7\n",
       "RF        donor        Higher usage    7\n",
       "C         donor        Higher usage    6\n",
       "F         donor        Higher usage    6\n",
       "B         donor        Lower usage     4\n",
       "C         donor        Lower usage     4\n",
       "F         donor        Lower usage     4\n",
       "RF        donor        Lower usage     4\n",
       "Name: count, dtype: int64"
      ]
     },
     "execution_count": 10,
     "metadata": {},
     "output_type": "execute_result"
    }
   ],
   "source": [
    "a.drop_duplicates([\"Splice site\",\"genotype\",\"position\"]).value_counts([\"genotype\",\"Splice site\",\"group\"])"
   ]
  },
  {
   "cell_type": "code",
   "execution_count": 11,
   "id": "e093ba37-a16a-4c80-866c-9bf7832ac1bc",
   "metadata": {},
   "outputs": [
    {
     "data": {
      "text/plain": [
       "Splice site  group       \n",
       "donor        Higher usage    26\n",
       "             Lower usage     16\n",
       "Name: count, dtype: int64"
      ]
     },
     "execution_count": 11,
     "metadata": {},
     "output_type": "execute_result"
    }
   ],
   "source": [
    "a.drop_duplicates([\"Splice site\",\"genotype\",\"position\"]).value_counts([\"Splice site\",\"group\"])"
   ]
  },
  {
   "cell_type": "code",
   "execution_count": 12,
   "id": "3775d9f5-05d6-408c-921a-192da39ff620",
   "metadata": {},
   "outputs": [
    {
     "data": {
      "text/plain": [
       "Splice site  group       \n",
       "donor        Higher usage    7\n",
       "             Lower usage     4\n",
       "Name: count, dtype: int64"
      ]
     },
     "execution_count": 12,
     "metadata": {},
     "output_type": "execute_result"
    }
   ],
   "source": [
    "a.drop_duplicates([\"Splice site\",\"position\"]).value_counts([\"Splice site\",\"group\"])"
   ]
  },
  {
   "cell_type": "code",
   "execution_count": 13,
   "id": "065f1ba7-2d59-4f3f-8a4f-22f0f27fd490",
   "metadata": {},
   "outputs": [
    {
     "data": {
      "text/plain": [
       "group\n",
       "Non-donor       757682\n",
       "Higher usage     25840\n",
       "Lower usage      14277\n",
       "Name: count, dtype: int64"
      ]
     },
     "execution_count": 13,
     "metadata": {},
     "output_type": "execute_result"
    }
   ],
   "source": [
    "a.value_counts(\"group\")"
   ]
  },
  {
   "cell_type": "code",
   "execution_count": 14,
   "id": "8ab37f1e-4ef7-4d17-a0f0-e122cabf571c",
   "metadata": {},
   "outputs": [
    {
     "data": {
      "text/html": [
       "<div>\n",
       "<style scoped>\n",
       "    .dataframe tbody tr th:only-of-type {\n",
       "        vertical-align: middle;\n",
       "    }\n",
       "\n",
       "    .dataframe tbody tr th {\n",
       "        vertical-align: top;\n",
       "    }\n",
       "\n",
       "    .dataframe thead th {\n",
       "        text-align: right;\n",
       "    }\n",
       "</style>\n",
       "<table border=\"1\" class=\"dataframe\">\n",
       "  <thead>\n",
       "    <tr style=\"text-align: right;\">\n",
       "      <th></th>\n",
       "      <th>position</th>\n",
       "      <th>logit</th>\n",
       "      <th>prob</th>\n",
       "      <th>id</th>\n",
       "      <th>genotype</th>\n",
       "      <th>base</th>\n",
       "      <th>group</th>\n",
       "      <th>Splicing efficiency</th>\n",
       "      <th>Splice site</th>\n",
       "    </tr>\n",
       "  </thead>\n",
       "  <tbody>\n",
       "    <tr>\n",
       "      <th>0</th>\n",
       "      <td>34</td>\n",
       "      <td>-6.007812</td>\n",
       "      <td>0.002453</td>\n",
       "      <td>&gt;gnl|hbvnuc|KX276778_FT00000_P</td>\n",
       "      <td>B</td>\n",
       "      <td>G</td>\n",
       "      <td>Non-donor</td>\n",
       "      <td>NaN</td>\n",
       "      <td>NaN</td>\n",
       "    </tr>\n",
       "    <tr>\n",
       "      <th>1</th>\n",
       "      <td>40</td>\n",
       "      <td>-5.695312</td>\n",
       "      <td>0.003351</td>\n",
       "      <td>&gt;gnl|hbvnuc|KX276778_FT00000_P</td>\n",
       "      <td>B</td>\n",
       "      <td>G</td>\n",
       "      <td>Non-donor</td>\n",
       "      <td>NaN</td>\n",
       "      <td>NaN</td>\n",
       "    </tr>\n",
       "    <tr>\n",
       "      <th>2</th>\n",
       "      <td>65</td>\n",
       "      <td>-5.234375</td>\n",
       "      <td>0.005302</td>\n",
       "      <td>&gt;gnl|hbvnuc|KX276778_FT00000_P</td>\n",
       "      <td>B</td>\n",
       "      <td>G</td>\n",
       "      <td>Non-donor</td>\n",
       "      <td>NaN</td>\n",
       "      <td>NaN</td>\n",
       "    </tr>\n",
       "    <tr>\n",
       "      <th>3</th>\n",
       "      <td>74</td>\n",
       "      <td>-5.292969</td>\n",
       "      <td>0.005001</td>\n",
       "      <td>&gt;gnl|hbvnuc|KX276778_FT00000_P</td>\n",
       "      <td>B</td>\n",
       "      <td>G</td>\n",
       "      <td>Non-donor</td>\n",
       "      <td>NaN</td>\n",
       "      <td>NaN</td>\n",
       "    </tr>\n",
       "    <tr>\n",
       "      <th>4</th>\n",
       "      <td>101</td>\n",
       "      <td>-5.484375</td>\n",
       "      <td>0.004135</td>\n",
       "      <td>&gt;gnl|hbvnuc|KX276778_FT00000_P</td>\n",
       "      <td>B</td>\n",
       "      <td>G</td>\n",
       "      <td>Non-donor</td>\n",
       "      <td>NaN</td>\n",
       "      <td>NaN</td>\n",
       "    </tr>\n",
       "    <tr>\n",
       "      <th>...</th>\n",
       "      <td>...</td>\n",
       "      <td>...</td>\n",
       "      <td>...</td>\n",
       "      <td>...</td>\n",
       "      <td>...</td>\n",
       "      <td>...</td>\n",
       "      <td>...</td>\n",
       "      <td>...</td>\n",
       "      <td>...</td>\n",
       "    </tr>\n",
       "    <tr>\n",
       "      <th>5480306</th>\n",
       "      <td>2653</td>\n",
       "      <td>-6.406250</td>\n",
       "      <td>0.001649</td>\n",
       "      <td>&gt;gnl|hbvnuc|AY123041_FT00000_P</td>\n",
       "      <td>RF</td>\n",
       "      <td>G</td>\n",
       "      <td>Non-donor</td>\n",
       "      <td>NaN</td>\n",
       "      <td>NaN</td>\n",
       "    </tr>\n",
       "    <tr>\n",
       "      <th>5486021</th>\n",
       "      <td>1461</td>\n",
       "      <td>-5.367188</td>\n",
       "      <td>0.004646</td>\n",
       "      <td>&gt;gnl|hbvnuc|JX661485_FT00000_P</td>\n",
       "      <td>RF</td>\n",
       "      <td>G</td>\n",
       "      <td>Non-donor</td>\n",
       "      <td>NaN</td>\n",
       "      <td>NaN</td>\n",
       "    </tr>\n",
       "    <tr>\n",
       "      <th>5486196</th>\n",
       "      <td>50</td>\n",
       "      <td>-5.718750</td>\n",
       "      <td>0.003273</td>\n",
       "      <td>&gt;gnl|hbvnuc|JX661486_FT00000_P</td>\n",
       "      <td>RF</td>\n",
       "      <td>G</td>\n",
       "      <td>Non-donor</td>\n",
       "      <td>NaN</td>\n",
       "      <td>NaN</td>\n",
       "    </tr>\n",
       "    <tr>\n",
       "      <th>5512657</th>\n",
       "      <td>1016</td>\n",
       "      <td>-4.953125</td>\n",
       "      <td>0.007011</td>\n",
       "      <td>&gt;gnl|hbvnuc|EU871992_FT00000_P</td>\n",
       "      <td>RF</td>\n",
       "      <td>G</td>\n",
       "      <td>Non-donor</td>\n",
       "      <td>NaN</td>\n",
       "      <td>NaN</td>\n",
       "    </tr>\n",
       "    <tr>\n",
       "      <th>5516433</th>\n",
       "      <td>2036</td>\n",
       "      <td>-6.394531</td>\n",
       "      <td>0.001668</td>\n",
       "      <td>&gt;gnl|hbvnuc|GU385774_FT00000_P</td>\n",
       "      <td>RF</td>\n",
       "      <td>G</td>\n",
       "      <td>Non-donor</td>\n",
       "      <td>NaN</td>\n",
       "      <td>NaN</td>\n",
       "    </tr>\n",
       "  </tbody>\n",
       "</table>\n",
       "<p>1011 rows × 9 columns</p>\n",
       "</div>"
      ],
      "text/plain": [
       "         position     logit      prob                              id  \\\n",
       "0              34 -6.007812  0.002453  >gnl|hbvnuc|KX276778_FT00000_P   \n",
       "1              40 -5.695312  0.003351  >gnl|hbvnuc|KX276778_FT00000_P   \n",
       "2              65 -5.234375  0.005302  >gnl|hbvnuc|KX276778_FT00000_P   \n",
       "3              74 -5.292969  0.005001  >gnl|hbvnuc|KX276778_FT00000_P   \n",
       "4             101 -5.484375  0.004135  >gnl|hbvnuc|KX276778_FT00000_P   \n",
       "...           ...       ...       ...                             ...   \n",
       "5480306      2653 -6.406250  0.001649  >gnl|hbvnuc|AY123041_FT00000_P   \n",
       "5486021      1461 -5.367188  0.004646  >gnl|hbvnuc|JX661485_FT00000_P   \n",
       "5486196        50 -5.718750  0.003273  >gnl|hbvnuc|JX661486_FT00000_P   \n",
       "5512657      1016 -4.953125  0.007011  >gnl|hbvnuc|EU871992_FT00000_P   \n",
       "5516433      2036 -6.394531  0.001668  >gnl|hbvnuc|GU385774_FT00000_P   \n",
       "\n",
       "        genotype base      group  Splicing efficiency Splice site  \n",
       "0              B    G  Non-donor                  NaN         NaN  \n",
       "1              B    G  Non-donor                  NaN         NaN  \n",
       "2              B    G  Non-donor                  NaN         NaN  \n",
       "3              B    G  Non-donor                  NaN         NaN  \n",
       "4              B    G  Non-donor                  NaN         NaN  \n",
       "...          ...  ...        ...                  ...         ...  \n",
       "5480306       RF    G  Non-donor                  NaN         NaN  \n",
       "5486021       RF    G  Non-donor                  NaN         NaN  \n",
       "5486196       RF    G  Non-donor                  NaN         NaN  \n",
       "5512657       RF    G  Non-donor                  NaN         NaN  \n",
       "5516433       RF    G  Non-donor                  NaN         NaN  \n",
       "\n",
       "[1011 rows x 9 columns]"
      ]
     },
     "execution_count": 14,
     "metadata": {},
     "output_type": "execute_result"
    }
   ],
   "source": [
    "a[a.group==\"Non-donor\"].drop_duplicates(\"position\")"
   ]
  },
  {
   "cell_type": "code",
   "execution_count": null,
   "id": "3a30c88a-40f6-404b-b845-763de441e176",
   "metadata": {},
   "outputs": [],
   "source": []
  },
  {
   "cell_type": "markdown",
   "id": "9f825459-efb8-498e-88bc-873946391b34",
   "metadata": {},
   "source": [
    "Conservation of splice donor sites vs non-donor GU sites"
   ]
  },
  {
   "cell_type": "code",
   "execution_count": 14,
   "id": "c794db96-fbb6-4da4-9b33-0797157e293b",
   "metadata": {},
   "outputs": [],
   "source": [
    "astats = pd.merge(a[[\"position\",\"group\",\"genotype\"]].drop_duplicates(), a.groupby([\"position\",\"genotype\"]).logit.describe().reset_index())\n",
    "gucounts = gu.drop_duplicates(\"id\").value_counts(\"genotype\").reset_index()\n",
    "gucounts.columns = [\"genotype\",\"total sequences\"]\n",
    "astats = pd.merge(astats, gucounts, on=\"genotype\")\n",
    "astats[\"% Conserved GU sites\"] = astats[\"count\"]/astats[\"total sequences\"] *100"
   ]
  },
  {
   "cell_type": "code",
   "execution_count": 15,
   "id": "70d01bf9-3d50-4fdf-97df-fdaefc1d4450",
   "metadata": {},
   "outputs": [
    {
     "data": {
      "image/png": "[encoded data removed]",
      "text/plain": [
       "<Figure size 500x300 with 1 Axes>"
      ]
     },
     "metadata": {},
     "output_type": "display_data"
    }
   ],
   "source": [
    "plt.figure(figsize=(5,3))\n",
    "g = sns.boxplot(data=astats.sort_values(\"genotype\"), x=\"group\", y=\"% Conserved GU sites\", hue=\"genotype\", \n",
    "                order=[\"Higher usage\",\"Lower usage\",\"Non-donor\"],\n",
    "                palette=\"tab10\", showfliers=False)\n",
    "g = sns.stripplot(data=astats.sort_values(\"genotype\"), x=\"group\", y=\"% Conserved GU sites\", hue=\"genotype\", \n",
    "                  order=[\"Higher usage\",\"Lower usage\",\"Non-donor\"],\n",
    "                  edgecolor='black', linewidth=0.1, alpha=0.2, jitter=0.25, s=2, \n",
    "                  palette=\"tab10\", dodge=True, legend=False)\n",
    "plt.xlabel(\"donor\")\n",
    "# g.set(xlabel=None)\n",
    "sns.move_legend(g, \"upper left\", bbox_to_anchor=(1, 0.75))\n",
    "plt.savefig(\"../results/figures/fig5/conservation_donors.png\", bbox_inches='tight', dpi=300)"
   ]
  },
  {
   "cell_type": "code",
   "execution_count": null,
   "id": "34512c8f-fae8-4623-812c-414f30dd0847",
   "metadata": {},
   "outputs": [],
   "source": []
  },
  {
   "cell_type": "markdown",
   "id": "6c8057ad-7f4d-45d9-8b40-491cfe1043de",
   "metadata": {},
   "source": [
    "Calculate performance metrics for splice donor sites"
   ]
  },
  {
   "cell_type": "code",
   "execution_count": 12,
   "id": "1483f5b0-7c74-4d65-9c45-de64fb423959",
   "metadata": {},
   "outputs": [],
   "source": [
    "usage = {'Higher usage':1, 'Lower usage':1, 'Non-donor':0}\n",
    "\n",
    "a[\"label\"] = a.group.apply(lambda x: usage[x])\n",
    "\n",
    "y_true = a[\"label\"].to_numpy()\n",
    "y_pred = a.logit.to_numpy()"
   ]
  },
  {
   "cell_type": "code",
   "execution_count": 13,
   "id": "8378f667-c7e2-4769-a890-de72fd46035c",
   "metadata": {},
   "outputs": [
    {
     "name": "stdout",
     "output_type": "stream",
     "text": [
      "\n",
      "AUROC: 0.72\n",
      "AUPRC: 0.59\n",
      "\n",
      "Predicted binary labels unique values: [0 1]\n",
      "\n",
      "Metrics at threshold=0.5:\n",
      "Accuracy: 0.95\n",
      "F1-Score: 0.52\n",
      "Precision: 0.47\n",
      "Recall: 0.59\n",
      "\n",
      "Classification Report at threshold=0.5:\n",
      "              precision    recall  f1-score   support\n",
      "\n",
      "Not Positive       0.98      0.97      0.97    757682\n",
      "    Positive       0.47      0.59      0.52     40117\n",
      "\n",
      "    accuracy                           0.95    797799\n",
      "   macro avg       0.72      0.78      0.75    797799\n",
      "weighted avg       0.95      0.95      0.95    797799\n",
      "\n"
     ]
    }
   ],
   "source": [
    "performance_metrics(y_true, y_pred, 0.5)"
   ]
  },
  {
   "cell_type": "code",
   "execution_count": null,
   "id": "f29b92de-8bf9-4a7d-96ee-95e412851b79",
   "metadata": {},
   "outputs": [],
   "source": []
  }
 ],
 "metadata": {
  "kernelspec": {
   "display_name": "Python [conda env:llm] *",
   "language": "python",
   "name": "conda-env-llm-py"
  },
  "language_info": {
   "codemirror_mode": {
    "name": "ipython",
    "version": 3
   },
   "file_extension": ".py",
   "mimetype": "text/x-python",
   "name": "python",
   "nbconvert_exporter": "python",
   "pygments_lexer": "ipython3",
   "version": "3.9.16"
  }
 },
 "nbformat": 4,
 "nbformat_minor": 5
}
