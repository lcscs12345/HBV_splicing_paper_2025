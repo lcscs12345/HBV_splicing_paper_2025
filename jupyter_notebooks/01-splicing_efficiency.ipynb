{
 "cells": [
  {
   "cell_type": "markdown",
   "metadata": {},
   "source": [
    "# 01-splicing_efficiency.ipynb: Quantification of spliced HBV RNAs across tissues and cell lines\n",
    "Compares the proportions of spliced HBV RNAs and evaluates splice site-level splicing efficiency across liver biopsy tissues and cultured cell lines. It highlights that the splice site-level measurement may serve as a stronger biomarker than the overall proportions of HBV splicing."
   ]
  },
  {
   "cell_type": "code",
   "execution_count": 1,
   "metadata": {},
   "outputs": [],
   "source": [
    "import pandas as pd\n",
    "import seaborn as sns\n",
    "import matplotlib.pyplot as plt\n",
    "from scipy.stats import ttest_ind"
   ]
  },
  {
   "cell_type": "markdown",
   "metadata": {},
   "source": [
    "Read in Supplementary files from [Lim et al 2021](https://doi.org/10.1099/mgen.0.000492)"
   ]
  },
  {
   "cell_type": "code",
   "execution_count": 2,
   "metadata": {},
   "outputs": [],
   "source": [
    "s1 = pd.read_excel(\"../data/processed_files/mgen-7-492-s002.xlsx\", sheet_name=\"S1_Percent_HBV_RNA\")\n",
    "s1 = s1[(~s1.TCONS.isna()) & (s1.num_exons>1)].copy()\n",
    "s1['HBV_genotype'] = s1.HBV_genotype.apply(lambda x: list(x)[0])\n",
    "sp = s1.groupby([\"Library_name\",\"Biological_materials\",\"HBV_genotype\"])[\"Percent_HBV_RNA\"].sum().reset_index()"
   ]
  },
  {
   "cell_type": "code",
   "execution_count": 3,
   "metadata": {},
   "outputs": [],
   "source": [
    "# read in SRA metadata to replace replicate IDs with Run IDs\n",
    "sratbl = pd.read_csv(\"../data/huh7/SraRunTable.csv\")\n",
    "sratbl = pd.concat([sratbl[[\"Run\",'hbv_genotype']], sp[sp.Library_name.str.contains(\"rep\")]], axis=1)\n",
    "sratbl = sratbl.drop([\"Library_name\",\"hbv_genotype\"], axis=1)\n",
    "\n",
    "sp = pd.concat([sratbl.dropna(), sp[~sp.Library_name.str.contains(\"rep\")].rename(columns={\"Library_name\":\"Run\"})])\n",
    "sp.to_csv(\"../results/data/Percent_HBV_RNA.csv\", index=None)"
   ]
  },
  {
   "cell_type": "code",
   "execution_count": 4,
   "metadata": {},
   "outputs": [
    {
     "data": {
      "text/html": [
       "<div>\n",
       "<style scoped>\n",
       "    .dataframe tbody tr th:only-of-type {\n",
       "        vertical-align: middle;\n",
       "    }\n",
       "\n",
       "    .dataframe tbody tr th {\n",
       "        vertical-align: top;\n",
       "    }\n",
       "\n",
       "    .dataframe thead th {\n",
       "        text-align: right;\n",
       "    }\n",
       "</style>\n",
       "<table border=\"1\" class=\"dataframe\">\n",
       "  <thead>\n",
       "    <tr style=\"text-align: right;\">\n",
       "      <th></th>\n",
       "      <th>count</th>\n",
       "      <th>mean</th>\n",
       "      <th>std</th>\n",
       "      <th>min</th>\n",
       "      <th>25%</th>\n",
       "      <th>50%</th>\n",
       "      <th>75%</th>\n",
       "      <th>max</th>\n",
       "    </tr>\n",
       "    <tr>\n",
       "      <th>Biological_materials</th>\n",
       "      <th></th>\n",
       "      <th></th>\n",
       "      <th></th>\n",
       "      <th></th>\n",
       "      <th></th>\n",
       "      <th></th>\n",
       "      <th></th>\n",
       "      <th></th>\n",
       "    </tr>\n",
       "  </thead>\n",
       "  <tbody>\n",
       "    <tr>\n",
       "      <th>Huh7</th>\n",
       "      <td>12.0</td>\n",
       "      <td>22.496470</td>\n",
       "      <td>5.366076</td>\n",
       "      <td>11.846812</td>\n",
       "      <td>19.944020</td>\n",
       "      <td>21.891377</td>\n",
       "      <td>28.060739</td>\n",
       "      <td>28.822891</td>\n",
       "    </tr>\n",
       "    <tr>\n",
       "      <th>PHH</th>\n",
       "      <td>69.0</td>\n",
       "      <td>14.542064</td>\n",
       "      <td>12.877714</td>\n",
       "      <td>0.176838</td>\n",
       "      <td>1.048511</td>\n",
       "      <td>14.185680</td>\n",
       "      <td>18.743140</td>\n",
       "      <td>63.905519</td>\n",
       "    </tr>\n",
       "    <tr>\n",
       "      <th>PVTT</th>\n",
       "      <td>41.0</td>\n",
       "      <td>20.791220</td>\n",
       "      <td>30.179198</td>\n",
       "      <td>0.195906</td>\n",
       "      <td>0.952231</td>\n",
       "      <td>6.896828</td>\n",
       "      <td>22.807426</td>\n",
       "      <td>97.772864</td>\n",
       "    </tr>\n",
       "    <tr>\n",
       "      <th>Tissue</th>\n",
       "      <td>108.0</td>\n",
       "      <td>7.996230</td>\n",
       "      <td>12.276224</td>\n",
       "      <td>0.132285</td>\n",
       "      <td>1.056800</td>\n",
       "      <td>2.792780</td>\n",
       "      <td>9.630256</td>\n",
       "      <td>83.182862</td>\n",
       "    </tr>\n",
       "    <tr>\n",
       "      <th>Tumor</th>\n",
       "      <td>49.0</td>\n",
       "      <td>16.007469</td>\n",
       "      <td>26.049187</td>\n",
       "      <td>0.077641</td>\n",
       "      <td>0.953740</td>\n",
       "      <td>7.002013</td>\n",
       "      <td>17.732252</td>\n",
       "      <td>97.814719</td>\n",
       "    </tr>\n",
       "  </tbody>\n",
       "</table>\n",
       "</div>"
      ],
      "text/plain": [
       "                      count       mean        std        min        25%  \\\n",
       "Biological_materials                                                      \n",
       "Huh7                   12.0  22.496470   5.366076  11.846812  19.944020   \n",
       "PHH                    69.0  14.542064  12.877714   0.176838   1.048511   \n",
       "PVTT                   41.0  20.791220  30.179198   0.195906   0.952231   \n",
       "Tissue                108.0   7.996230  12.276224   0.132285   1.056800   \n",
       "Tumor                  49.0  16.007469  26.049187   0.077641   0.953740   \n",
       "\n",
       "                            50%        75%        max  \n",
       "Biological_materials                                   \n",
       "Huh7                  21.891377  28.060739  28.822891  \n",
       "PHH                   14.185680  18.743140  63.905519  \n",
       "PVTT                   6.896828  22.807426  97.772864  \n",
       "Tissue                 2.792780   9.630256  83.182862  \n",
       "Tumor                  7.002013  17.732252  97.814719  "
      ]
     },
     "execution_count": 4,
     "metadata": {},
     "output_type": "execute_result"
    }
   ],
   "source": [
    "sp.groupby(\"Biological_materials\")[\"Percent_HBV_RNA\"].describe()"
   ]
  },
  {
   "cell_type": "markdown",
   "metadata": {},
   "source": [
    "Count the number of samples by types"
   ]
  },
  {
   "cell_type": "code",
   "execution_count": 4,
   "metadata": {},
   "outputs": [
    {
     "data": {
      "text/html": [
       "<div>\n",
       "<style scoped>\n",
       "    .dataframe tbody tr th:only-of-type {\n",
       "        vertical-align: middle;\n",
       "    }\n",
       "\n",
       "    .dataframe tbody tr th {\n",
       "        vertical-align: top;\n",
       "    }\n",
       "\n",
       "    .dataframe thead th {\n",
       "        text-align: right;\n",
       "    }\n",
       "</style>\n",
       "<table border=\"1\" class=\"dataframe\">\n",
       "  <thead>\n",
       "    <tr style=\"text-align: right;\">\n",
       "      <th></th>\n",
       "      <th>Biological_materials</th>\n",
       "      <th>count</th>\n",
       "    </tr>\n",
       "  </thead>\n",
       "  <tbody>\n",
       "    <tr>\n",
       "      <th>0</th>\n",
       "      <td>Tissue</td>\n",
       "      <td>108</td>\n",
       "    </tr>\n",
       "    <tr>\n",
       "      <th>1</th>\n",
       "      <td>Tumor</td>\n",
       "      <td>49</td>\n",
       "    </tr>\n",
       "    <tr>\n",
       "      <th>2</th>\n",
       "      <td>PVTT</td>\n",
       "      <td>41</td>\n",
       "    </tr>\n",
       "    <tr>\n",
       "      <th>3</th>\n",
       "      <td>PHH</td>\n",
       "      <td>69</td>\n",
       "    </tr>\n",
       "    <tr>\n",
       "      <th>4</th>\n",
       "      <td>Huh7</td>\n",
       "      <td>12</td>\n",
       "    </tr>\n",
       "  </tbody>\n",
       "</table>\n",
       "</div>"
      ],
      "text/plain": [
       "  Biological_materials  count\n",
       "0               Tissue    108\n",
       "1                Tumor     49\n",
       "2                 PVTT     41\n",
       "3                  PHH     69\n",
       "4                 Huh7     12"
      ]
     },
     "execution_count": 4,
     "metadata": {},
     "output_type": "execute_result"
    }
   ],
   "source": [
    "spsum = sp.value_counts(\"Biological_materials\").reindex([\"Tissue\",\"Tumor\",\"PVTT\",\"PHH\",\"Huh7\"]).reset_index()\n",
    "spsum"
   ]
  },
  {
   "cell_type": "markdown",
   "metadata": {},
   "source": [
    "Compare the proportions of spliced HBV RNAs across samples (Fig 1A)"
   ]
  },
  {
   "cell_type": "code",
   "execution_count": 5,
   "metadata": {},
   "outputs": [
    {
     "data": {
      "image/png": "[encoded data removed]",
      "text/plain": [
       "<Figure size 350x350 with 1 Axes>"
      ]
     },
     "metadata": {},
     "output_type": "display_data"
    }
   ],
   "source": [
    "plt.figure(figsize=(3.5,3.5))\n",
    "g = sns.boxplot(data=sp, x=\"Biological_materials\", y=\"Percent_HBV_RNA\", hue=\"Biological_materials\", order=[\"Tissue\",\"Tumor\",\"PVTT\",\"PHH\",\"Huh7\"], showfliers=False)\n",
    "g = sns.stripplot(data=sp, x=\"Biological_materials\", y=\"Percent_HBV_RNA\", hue=\"Biological_materials\", order=[\"Tissue\",\"Tumor\",\"PVTT\",\"PHH\",\"Huh7\"], \n",
    "              edgecolor='black', linewidth=1, alpha=0.5, jitter=0.2)\n",
    "\n",
    "plt.ylabel(\"% Spliced RNAs in HBV transcripts\")\n",
    "plt.xlabel(\"Biological source\")\n",
    "g.set_xticks(range(sp.value_counts(\"Biological_materials\").shape[0]))\n",
    "g.set_xticklabels(spsum.Biological_materials + \"\\n(n=\" + spsum[\"count\"].astype(str) + \")\")\n",
    "plt.savefig(\"../results/figures/fig1/percent_splice_variants.pdf\", bbox_inches='tight')"
   ]
  },
  {
   "cell_type": "markdown",
   "metadata": {},
   "source": [
    "Calculate independent t-test to compare the proportions of spliced HBV RNAs across samples"
   ]
  },
  {
   "cell_type": "code",
   "execution_count": 4,
   "metadata": {},
   "outputs": [
    {
     "data": {
      "text/html": [
       "<style type=\"text/css\">\n",
       "</style>\n",
       "<table id=\"T_d9aa2\">\n",
       "  <thead>\n",
       "    <tr>\n",
       "      <th class=\"blank level0\" >&nbsp;</th>\n",
       "      <th id=\"T_d9aa2_level0_col0\" class=\"col_heading level0 col0\" >Biological_materials</th>\n",
       "      <th id=\"T_d9aa2_level0_col1\" class=\"col_heading level0 col1\" >t-statistic</th>\n",
       "      <th id=\"T_d9aa2_level0_col2\" class=\"col_heading level0 col2\" >pvalue</th>\n",
       "    </tr>\n",
       "  </thead>\n",
       "  <tbody>\n",
       "    <tr>\n",
       "      <th id=\"T_d9aa2_level0_row0\" class=\"row_heading level0 row0\" >0</th>\n",
       "      <td id=\"T_d9aa2_row0_col0\" class=\"data row0 col0\" >Huh7</td>\n",
       "      <td id=\"T_d9aa2_row0_col1\" class=\"data row0 col1\" >-4.036895</td>\n",
       "      <td id=\"T_d9aa2_row0_col2\" class=\"data row0 col2\" >4.83E-05</td>\n",
       "    </tr>\n",
       "    <tr>\n",
       "      <th id=\"T_d9aa2_level0_row1\" class=\"row_heading level0 row1\" >1</th>\n",
       "      <td id=\"T_d9aa2_row1_col0\" class=\"data row1 col0\" >Tissue</td>\n",
       "      <td id=\"T_d9aa2_row1_col1\" class=\"data row1 col1\" >0.000000</td>\n",
       "      <td id=\"T_d9aa2_row1_col2\" class=\"data row1 col2\" >5.00E-01</td>\n",
       "    </tr>\n",
       "    <tr>\n",
       "      <th id=\"T_d9aa2_level0_row2\" class=\"row_heading level0 row2\" >2</th>\n",
       "      <td id=\"T_d9aa2_row2_col0\" class=\"data row2 col0\" >Tumor</td>\n",
       "      <td id=\"T_d9aa2_row2_col1\" class=\"data row2 col1\" >-2.624081</td>\n",
       "      <td id=\"T_d9aa2_row2_col2\" class=\"data row2 col2\" >4.78E-03</td>\n",
       "    </tr>\n",
       "    <tr>\n",
       "      <th id=\"T_d9aa2_level0_row3\" class=\"row_heading level0 row3\" >3</th>\n",
       "      <td id=\"T_d9aa2_row3_col0\" class=\"data row3 col0\" >PHH</td>\n",
       "      <td id=\"T_d9aa2_row3_col1\" class=\"data row3 col1\" >-3.394221</td>\n",
       "      <td id=\"T_d9aa2_row3_col2\" class=\"data row3 col2\" >4.26E-04</td>\n",
       "    </tr>\n",
       "    <tr>\n",
       "      <th id=\"T_d9aa2_level0_row4\" class=\"row_heading level0 row4\" >4</th>\n",
       "      <td id=\"T_d9aa2_row4_col0\" class=\"data row4 col0\" >PVTT</td>\n",
       "      <td id=\"T_d9aa2_row4_col1\" class=\"data row4 col1\" >-3.688880</td>\n",
       "      <td id=\"T_d9aa2_row4_col2\" class=\"data row4 col2\" >1.58E-04</td>\n",
       "    </tr>\n",
       "  </tbody>\n",
       "</table>\n"
      ],
      "text/plain": [
       "<pandas.io.formats.style.Styler at 0x152207089a00>"
      ]
     },
     "execution_count": 4,
     "metadata": {},
     "output_type": "execute_result"
    }
   ],
   "source": [
    "results = []\n",
    "\n",
    "for i in sp[\"Biological_materials\"].unique():\n",
    "    result = ttest_ind(sp[sp[\"Biological_materials\"]==\"Tissue\"][\"Percent_HBV_RNA\"], sp[sp[\"Biological_materials\"]==i][\"Percent_HBV_RNA\"], alternative=\"less\")\n",
    "    results.append([i, result[0], result[1]])\n",
    "    \n",
    "results = pd.DataFrame(results)\n",
    "results.columns = [\"Biological_materials\",\"t-statistic\",\"pvalue\"]\n",
    "results.style.format({\"pvalue\": \"{:.2E}\"})"
   ]
  },
  {
   "cell_type": "code",
   "execution_count": null,
   "metadata": {},
   "outputs": [],
   "source": []
  },
  {
   "cell_type": "markdown",
   "metadata": {},
   "source": [
    "Compare the proportions of spliced HBV RNAs across genotypes (Supplementary Fig S1B)"
   ]
  },
  {
   "cell_type": "code",
   "execution_count": 5,
   "metadata": {},
   "outputs": [
    {
     "data": {
      "text/html": [
       "<svg  width=\"550\" height=\"55\"><rect x=\"0\" y=\"0\" width=\"55\" height=\"55\" style=\"fill:#1f77b4;stroke-width:2;stroke:rgb(255,255,255)\"/><rect x=\"55\" y=\"0\" width=\"55\" height=\"55\" style=\"fill:#ff7f0e;stroke-width:2;stroke:rgb(255,255,255)\"/><rect x=\"110\" y=\"0\" width=\"55\" height=\"55\" style=\"fill:#2ca02c;stroke-width:2;stroke:rgb(255,255,255)\"/><rect x=\"165\" y=\"0\" width=\"55\" height=\"55\" style=\"fill:#d62728;stroke-width:2;stroke:rgb(255,255,255)\"/><rect x=\"220\" y=\"0\" width=\"55\" height=\"55\" style=\"fill:#9467bd;stroke-width:2;stroke:rgb(255,255,255)\"/><rect x=\"275\" y=\"0\" width=\"55\" height=\"55\" style=\"fill:#8c564b;stroke-width:2;stroke:rgb(255,255,255)\"/><rect x=\"330\" y=\"0\" width=\"55\" height=\"55\" style=\"fill:#e377c2;stroke-width:2;stroke:rgb(255,255,255)\"/><rect x=\"385\" y=\"0\" width=\"55\" height=\"55\" style=\"fill:#7f7f7f;stroke-width:2;stroke:rgb(255,255,255)\"/><rect x=\"440\" y=\"0\" width=\"55\" height=\"55\" style=\"fill:#bcbd22;stroke-width:2;stroke:rgb(255,255,255)\"/><rect x=\"495\" y=\"0\" width=\"55\" height=\"55\" style=\"fill:#17becf;stroke-width:2;stroke:rgb(255,255,255)\"/></svg>"
      ],
      "text/plain": [
       "['#1f77b4',\n",
       " '#ff7f0e',\n",
       " '#2ca02c',\n",
       " '#d62728',\n",
       " '#9467bd',\n",
       " '#8c564b',\n",
       " '#e377c2',\n",
       " '#7f7f7f',\n",
       " '#bcbd22',\n",
       " '#17becf']"
      ]
     },
     "execution_count": 5,
     "metadata": {},
     "output_type": "execute_result"
    }
   ],
   "source": [
    "sns.color_palette().as_hex()"
   ]
  },
  {
   "cell_type": "code",
   "execution_count": 6,
   "metadata": {},
   "outputs": [
    {
     "name": "stdout",
     "output_type": "stream",
     "text": [
      "['#1f77b4', '#ff7f0e', '#2ca02c', '#d62728', '#9467bd', '#8c564b', '#e377c2', '#7f7f7f', '#bcbd22', '#17becf']\n"
     ]
    }
   ],
   "source": [
    "print(sns.color_palette().as_hex())"
   ]
  },
  {
   "cell_type": "markdown",
   "metadata": {},
   "source": [
    "Count the number of samples by genotypes"
   ]
  },
  {
   "cell_type": "code",
   "execution_count": 7,
   "metadata": {},
   "outputs": [
    {
     "data": {
      "text/html": [
       "<div>\n",
       "<style scoped>\n",
       "    .dataframe tbody tr th:only-of-type {\n",
       "        vertical-align: middle;\n",
       "    }\n",
       "\n",
       "    .dataframe tbody tr th {\n",
       "        vertical-align: top;\n",
       "    }\n",
       "\n",
       "    .dataframe thead th {\n",
       "        text-align: right;\n",
       "    }\n",
       "</style>\n",
       "<table border=\"1\" class=\"dataframe\">\n",
       "  <thead>\n",
       "    <tr style=\"text-align: right;\">\n",
       "      <th></th>\n",
       "      <th>HBV_genotype</th>\n",
       "      <th>count</th>\n",
       "    </tr>\n",
       "  </thead>\n",
       "  <tbody>\n",
       "    <tr>\n",
       "      <th>0</th>\n",
       "      <td>A</td>\n",
       "      <td>1</td>\n",
       "    </tr>\n",
       "    <tr>\n",
       "      <th>1</th>\n",
       "      <td>B</td>\n",
       "      <td>48</td>\n",
       "    </tr>\n",
       "    <tr>\n",
       "      <th>2</th>\n",
       "      <td>C</td>\n",
       "      <td>145</td>\n",
       "    </tr>\n",
       "    <tr>\n",
       "      <th>3</th>\n",
       "      <td>D</td>\n",
       "      <td>4</td>\n",
       "    </tr>\n",
       "  </tbody>\n",
       "</table>\n",
       "</div>"
      ],
      "text/plain": [
       "  HBV_genotype  count\n",
       "0            A      1\n",
       "1            B     48\n",
       "2            C    145\n",
       "3            D      4"
      ]
     },
     "execution_count": 7,
     "metadata": {},
     "output_type": "execute_result"
    }
   ],
   "source": [
    "sp = sp[(sp.Biological_materials!=\"Huh7\") & (sp.Biological_materials!=\"PHH\")].copy()\n",
    "\n",
    "spsum = sp.value_counts(\"HBV_genotype\").reindex([\"A\",\"B\",\"C\",\"D\"]).reset_index()\n",
    "spsum"
   ]
  },
  {
   "cell_type": "code",
   "execution_count": 8,
   "metadata": {},
   "outputs": [
    {
     "data": {
      "image/png": "[encoded data removed]",
      "text/plain": [
       "<Figure size 350x350 with 1 Axes>"
      ]
     },
     "metadata": {},
     "output_type": "display_data"
    }
   ],
   "source": [
    "plt.figure(figsize=(3.5,3.5))\n",
    "g = sns.boxplot(data=sp, x=\"HBV_genotype\", y=\"Percent_HBV_RNA\", showfliers=False, color=\"white\", order=[\"A\",\"B\",\"C\",\"D\"])\n",
    "g = sns.stripplot(data=sp, x=\"HBV_genotype\", y=\"Percent_HBV_RNA\", hue=\"Biological_materials\", palette=['#ff7f0e', '#2ca02c', '#9467bd'], order=[\"A\",\"B\",\"C\",\"D\"],\n",
    "              edgecolor='black', linewidth=1, alpha=0.4, jitter=0.2)\n",
    "plt.ylabel(\"% Spliced RNAs in HBV transcripts\")\n",
    "plt.xlabel(\"HBV genotype\")\n",
    "g.set_xticks(range(sp.value_counts(\"HBV_genotype\").shape[0]))\n",
    "g.set_xticklabels(spsum.HBV_genotype + \"\\n(n=\" + spsum[\"count\"].astype(str) + \")\")\n",
    "plt.savefig(\"../results/figures/figs1/percent_splice_variants_HBV_genotype.pdf\", bbox_inches='tight')"
   ]
  },
  {
   "cell_type": "markdown",
   "metadata": {},
   "source": [
    "Perform independent t-tests"
   ]
  },
  {
   "cell_type": "code",
   "execution_count": 3,
   "metadata": {},
   "outputs": [
    {
     "data": {
      "text/html": [
       "<style type=\"text/css\">\n",
       "</style>\n",
       "<table id=\"T_e20c9\">\n",
       "  <thead>\n",
       "    <tr>\n",
       "      <th class=\"blank level0\" >&nbsp;</th>\n",
       "      <th id=\"T_e20c9_level0_col0\" class=\"col_heading level0 col0\" >HBV_genotype</th>\n",
       "      <th id=\"T_e20c9_level0_col1\" class=\"col_heading level0 col1\" >t-statistic</th>\n",
       "      <th id=\"T_e20c9_level0_col2\" class=\"col_heading level0 col2\" >pvalue</th>\n",
       "    </tr>\n",
       "  </thead>\n",
       "  <tbody>\n",
       "    <tr>\n",
       "      <th id=\"T_e20c9_level0_row0\" class=\"row_heading level0 row0\" >0</th>\n",
       "      <td id=\"T_e20c9_row0_col0\" class=\"data row0 col0\" >A</td>\n",
       "      <td id=\"T_e20c9_row0_col1\" class=\"data row0 col1\" >-2.751248</td>\n",
       "      <td id=\"T_e20c9_row0_col2\" class=\"data row0 col2\" >8.11E-03</td>\n",
       "    </tr>\n",
       "    <tr>\n",
       "      <th id=\"T_e20c9_level0_row1\" class=\"row_heading level0 row1\" >1</th>\n",
       "      <td id=\"T_e20c9_row1_col0\" class=\"data row1 col0\" >B</td>\n",
       "      <td id=\"T_e20c9_row1_col1\" class=\"data row1 col1\" >0.000000</td>\n",
       "      <td id=\"T_e20c9_row1_col2\" class=\"data row1 col2\" >1.00E+00</td>\n",
       "    </tr>\n",
       "    <tr>\n",
       "      <th id=\"T_e20c9_level0_row2\" class=\"row_heading level0 row2\" >2</th>\n",
       "      <td id=\"T_e20c9_row2_col0\" class=\"data row2 col0\" >C</td>\n",
       "      <td id=\"T_e20c9_row2_col1\" class=\"data row2 col1\" >-2.248201</td>\n",
       "      <td id=\"T_e20c9_row2_col2\" class=\"data row2 col2\" >2.57E-02</td>\n",
       "    </tr>\n",
       "    <tr>\n",
       "      <th id=\"T_e20c9_level0_row3\" class=\"row_heading level0 row3\" >3</th>\n",
       "      <td id=\"T_e20c9_row3_col0\" class=\"data row3 col0\" >D</td>\n",
       "      <td id=\"T_e20c9_row3_col1\" class=\"data row3 col1\" >-4.147771</td>\n",
       "      <td id=\"T_e20c9_row3_col2\" class=\"data row3 col2\" >6.15E-05</td>\n",
       "    </tr>\n",
       "  </tbody>\n",
       "</table>\n"
      ],
      "text/plain": [
       "<pandas.io.formats.style.Styler at 0x1468ff397e20>"
      ]
     },
     "execution_count": 3,
     "metadata": {},
     "output_type": "execute_result"
    }
   ],
   "source": [
    "results = []\n",
    "\n",
    "for i in sp[\"HBV_genotype\"].unique():\n",
    "    result = ttest_ind(sp[sp[\"HBV_genotype\"]==\"B\"][\"Percent_HBV_RNA\"], sp[sp[\"HBV_genotype\"]==i][\"Percent_HBV_RNA\"], alternative=less)\n",
    "    results.append([i, result[0], result[1]])\n",
    "    \n",
    "results = pd.DataFrame(results)\n",
    "results.columns = [\"HBV_genotype\",\"t-statistic\",\"pvalue\"]\n",
    "results.style.format({\"pvalue\": \"{:.2E}\"})"
   ]
  },
  {
   "cell_type": "code",
   "execution_count": null,
   "metadata": {},
   "outputs": [],
   "source": []
  },
  {
   "cell_type": "markdown",
   "metadata": {},
   "source": [
    "Comparing splicing efficiency (coSI) of HBV RNAs across samples"
   ]
  },
  {
   "cell_type": "code",
   "execution_count": null,
   "metadata": {},
   "outputs": [],
   "source": [
    "! cat ../data/processed_files/*/*/stringtie.gtf > ../data/processed_files/stringtie.gtf\n",
    "\n",
    "! gtfToGenePred ../data/processed_files/stringtie.gtf stdout \\\n",
    "    | genePredToBed stdin stdout | bed12ToBed6 -i stdin \\\n",
    "    | awk 'BEGIN{OFS=\"\\t\"} {print $4,$2,$3,$4,$5,$6}' \\\n",
    "    | sed 's/\\./\\t/' | cut -f1,3- \\\n",
    "    | sort -k4,4  \\\n",
    "    | join -1 4 -2 2 -t$'\\t' -o 1.1,1.2,1.3,1.4,2.1,1.6 - \\\n",
    "    <(cut -f4,6 ../data/processed_files/tcons.txt | sort -k2,2) > ../data/processed_files/stringtie.bed\n",
    "\n",
    "! for i in ../data/processed_files/*/*/intron.zeta.bed; do \\\n",
    "    awk -v sra=$(dirname $i) 'BEGIN{OFS=\"\\t\"} {print $1,sra,$2,$3,$4,$5,$6}' $i | sed 's|/|\\t|g' | cut -f1,6- | sed 's/\\t/_/'; done \\\n",
    "> ../data/processed_files/intron.zeta.bed\n",
    "\n",
    "! bedtools intersect -a ../data/processed_files/stringtie.bed -b ../data/processed_files/intron.zeta.bed -wo \\\n",
    "    | awk 'BEGIN{FS=\"\\t\"} $NF==1 {if($3==($8+1)) {print $0 \"\\tdonor\"} else if($2==($9-1)) {print $0 \"\\tacceptor\"}}' > ../data/processed_files/cosi.hbv.txt"
   ]
  },
  {
   "cell_type": "code",
   "execution_count": 2,
   "metadata": {},
   "outputs": [],
   "source": [
    "cosi = pd.read_csv(\"../data/processed_files/cosi.hbv.txt\", header=None, sep=\"\\t\")\n",
    "cosi[[\"HBV_genotype\",\"SRA\"]] = cosi[6].str.split(\"_\", n=1, expand=True)\n",
    "cosi = cosi[[0,1,2,3,4,5,13,9,10,\"HBV_genotype\",\"SRA\"]]\n",
    "\n",
    "dsra = cosi[cosi[13]==\"donor\"].copy()\n",
    "dsra[\"end\"] = dsra[2] + 2\n",
    "dsra = dsra[[0,2,\"end\",3,4,5,13,9,10,\"HBV_genotype\",\"SRA\"]]\n",
    "dsra.columns = [\"chrom\",\"start\",\"end\",\"name\",\"name2\",\"strand\",\"Splice site\",\"coSI 3'\",\"coSI 5'\",\"HBV_genotype\",\"SRA\"]\n",
    "\n",
    "asra = cosi[cosi[13]==\"acceptor\"].copy()\n",
    "asra[\"start\"] = asra[1] - 2\n",
    "asra = asra[[0,\"start\",1,3,4,5,13,9,10,\"HBV_genotype\",\"SRA\"]]\n",
    "asra.columns = [\"chrom\",\"start\",\"end\",\"name\",\"name2\",\"strand\",\"Splice site\",\"coSI 3'\",\"coSI 5'\",\"HBV_genotype\",\"SRA\"]\n",
    "\n",
    "cosi = pd.concat([dsra, asra])\n",
    "\n",
    "\n",
    "tcons = pd.read_csv(\"../data/tcons.txt\", header=None, sep=\"\\t\")\n",
    "tcons = tcons[[0,1,3,4,5]]\n",
    "tcons.columns = [\"SRA\",\"Biological_materials\",\"name2\",\"HBV_genotype\",\"name\"]\n",
    "\n",
    "id_mapping = pd.read_csv(\"../data/map.txt\", header=None, sep=\"\\t\")\n",
    "id_mapping.columns = [\"Transcript ID\",\"name2\"]\n",
    "\n",
    "tcons = pd.merge(tcons, id_mapping, how=\"left\")\n",
    "cosi = pd.merge(cosi, tcons)\n",
    "nanid = cosi[cosi[\"Transcript ID\"].isna()].copy()\n",
    "nanid[\"Transcript ID\"] = nanid[\"name2\"]\n",
    "cosi = pd.concat([cosi[~cosi[\"Transcript ID\"].isna()].copy(), nanid])\n",
    "cosi = cosi[~cosi[\"Transcript ID\"].str.contains(\"TCONS_00000075|TCONS_00000076|TCONS_00000087|TCONS_00000088\")]\n",
    "\n",
    "dsra = cosi[cosi[\"Splice site\"]==\"donor\"].drop(\"coSI 3'\", axis=1).drop_duplicates().copy()\n",
    "asra = cosi[cosi[\"Splice site\"]==\"acceptor\"].drop(\"coSI 5'\", axis=1).drop_duplicates().copy()\n",
    "cosi = pd.merge(dsra,asra, on=['chrom','name', 'name2', 'strand', 'HBV_genotype', 'SRA', 'Biological_materials', 'Transcript ID'])\n",
    "\n",
    "dsra = dsra.rename(columns={\"coSI 5'\":\"Splicing efficiency\"})\n",
    "dsra[\"coSI\"] = r\"$\\theta_5$\"\n",
    "asra = asra.rename(columns={\"coSI 3'\":\"Splicing efficiency\"})\n",
    "asra[\"coSI\"] = r\"$\\theta_3$\"\n",
    "cosi_long = pd.concat([dsra, asra])\n",
    "\n",
    "cosi.to_pickle(\"../data/processed_files/cosi.pkl.gz\")\n",
    "cosi_long.to_pickle(\"../data/processed_files/cosi_long.pkl.gz\")"
   ]
  },
  {
   "cell_type": "code",
   "execution_count": 8,
   "metadata": {},
   "outputs": [
    {
     "data": {
      "text/html": [
       "<div>\n",
       "<style scoped>\n",
       "    .dataframe tbody tr th:only-of-type {\n",
       "        vertical-align: middle;\n",
       "    }\n",
       "\n",
       "    .dataframe tbody tr th {\n",
       "        vertical-align: top;\n",
       "    }\n",
       "\n",
       "    .dataframe thead th {\n",
       "        text-align: right;\n",
       "    }\n",
       "</style>\n",
       "<table border=\"1\" class=\"dataframe\">\n",
       "  <thead>\n",
       "    <tr style=\"text-align: right;\">\n",
       "      <th></th>\n",
       "      <th>chrom</th>\n",
       "      <th>start</th>\n",
       "      <th>end</th>\n",
       "      <th>name</th>\n",
       "      <th>name2</th>\n",
       "      <th>strand</th>\n",
       "      <th>Splice site</th>\n",
       "      <th>Splicing efficiency</th>\n",
       "      <th>HBV_genotype</th>\n",
       "      <th>SRA</th>\n",
       "      <th>Biological_materials</th>\n",
       "      <th>Transcript ID</th>\n",
       "      <th>coSI</th>\n",
       "    </tr>\n",
       "  </thead>\n",
       "  <tbody>\n",
       "    <tr>\n",
       "      <th>2524</th>\n",
       "      <td>D3_SRR5992894</td>\n",
       "      <td>1827</td>\n",
       "      <td>1829</td>\n",
       "      <td>D3_SRR5992894.2.4</td>\n",
       "      <td>TCONS_00000001</td>\n",
       "      <td>+</td>\n",
       "      <td>donor</td>\n",
       "      <td>0.00094</td>\n",
       "      <td>D3</td>\n",
       "      <td>SRR5992894</td>\n",
       "      <td>PHH</td>\n",
       "      <td>pSP9</td>\n",
       "      <td>$\\theta_5$</td>\n",
       "    </tr>\n",
       "    <tr>\n",
       "      <th>2520</th>\n",
       "      <td>D3_SRR5992894</td>\n",
       "      <td>1827</td>\n",
       "      <td>1829</td>\n",
       "      <td>D3_SRR5992894.2.3</td>\n",
       "      <td>TCONS_00000047</td>\n",
       "      <td>+</td>\n",
       "      <td>donor</td>\n",
       "      <td>0.00094</td>\n",
       "      <td>D3</td>\n",
       "      <td>SRR5992894</td>\n",
       "      <td>PHH</td>\n",
       "      <td>pSP10</td>\n",
       "      <td>$\\theta_5$</td>\n",
       "    </tr>\n",
       "    <tr>\n",
       "      <th>1769</th>\n",
       "      <td>D3_SRR5145396</td>\n",
       "      <td>1827</td>\n",
       "      <td>1829</td>\n",
       "      <td>D3_SRR5145396.1.3</td>\n",
       "      <td>TCONS_00000047</td>\n",
       "      <td>+</td>\n",
       "      <td>donor</td>\n",
       "      <td>0.00102</td>\n",
       "      <td>D3</td>\n",
       "      <td>SRR5145396</td>\n",
       "      <td>PHH</td>\n",
       "      <td>pSP10</td>\n",
       "      <td>$\\theta_5$</td>\n",
       "    </tr>\n",
       "    <tr>\n",
       "      <th>1773</th>\n",
       "      <td>D3_SRR5145396</td>\n",
       "      <td>1827</td>\n",
       "      <td>1829</td>\n",
       "      <td>D3_SRR5145396.1.4</td>\n",
       "      <td>TCONS_00000001</td>\n",
       "      <td>+</td>\n",
       "      <td>donor</td>\n",
       "      <td>0.00102</td>\n",
       "      <td>D3</td>\n",
       "      <td>SRR5145396</td>\n",
       "      <td>PHH</td>\n",
       "      <td>pSP9</td>\n",
       "      <td>$\\theta_5$</td>\n",
       "    </tr>\n",
       "    <tr>\n",
       "      <th>5242</th>\n",
       "      <td>D3_SRR5992882</td>\n",
       "      <td>2453</td>\n",
       "      <td>2455</td>\n",
       "      <td>D3_SRR5992882.1.7</td>\n",
       "      <td>TCONS_00000065</td>\n",
       "      <td>+</td>\n",
       "      <td>acceptor</td>\n",
       "      <td>0.00105</td>\n",
       "      <td>D3</td>\n",
       "      <td>SRR5992882</td>\n",
       "      <td>PHH</td>\n",
       "      <td>93050_ccs</td>\n",
       "      <td>$\\theta_3$</td>\n",
       "    </tr>\n",
       "    <tr>\n",
       "      <th>...</th>\n",
       "      <td>...</td>\n",
       "      <td>...</td>\n",
       "      <td>...</td>\n",
       "      <td>...</td>\n",
       "      <td>...</td>\n",
       "      <td>...</td>\n",
       "      <td>...</td>\n",
       "      <td>...</td>\n",
       "      <td>...</td>\n",
       "      <td>...</td>\n",
       "      <td>...</td>\n",
       "      <td>...</td>\n",
       "      <td>...</td>\n",
       "    </tr>\n",
       "    <tr>\n",
       "      <th>2918</th>\n",
       "      <td>D3_SRR6872346</td>\n",
       "      <td>634</td>\n",
       "      <td>636</td>\n",
       "      <td>D3_SRR6872346.2.1</td>\n",
       "      <td>TCONS_00000012</td>\n",
       "      <td>+</td>\n",
       "      <td>donor</td>\n",
       "      <td>NaN</td>\n",
       "      <td>D3</td>\n",
       "      <td>SRR6872346</td>\n",
       "      <td>PHH</td>\n",
       "      <td>SP1</td>\n",
       "      <td>$\\theta_5$</td>\n",
       "    </tr>\n",
       "    <tr>\n",
       "      <th>3117</th>\n",
       "      <td>D3_SRR9592409</td>\n",
       "      <td>658</td>\n",
       "      <td>660</td>\n",
       "      <td>D3_SRR9592409.1.1</td>\n",
       "      <td>TCONS_00000002</td>\n",
       "      <td>+</td>\n",
       "      <td>donor</td>\n",
       "      <td>NaN</td>\n",
       "      <td>D3</td>\n",
       "      <td>SRR9592409</td>\n",
       "      <td>PHH</td>\n",
       "      <td>SP6</td>\n",
       "      <td>$\\theta_5$</td>\n",
       "    </tr>\n",
       "    <tr>\n",
       "      <th>1083</th>\n",
       "      <td>C2_SRR3140465</td>\n",
       "      <td>274</td>\n",
       "      <td>276</td>\n",
       "      <td>C2_SRR3140465.3.3</td>\n",
       "      <td>TCONS_00000083</td>\n",
       "      <td>+</td>\n",
       "      <td>donor</td>\n",
       "      <td>NaN</td>\n",
       "      <td>C2</td>\n",
       "      <td>SRR3140465</td>\n",
       "      <td>PVTT</td>\n",
       "      <td>TCONS_00000083</td>\n",
       "      <td>$\\theta_5$</td>\n",
       "    </tr>\n",
       "    <tr>\n",
       "      <th>1085</th>\n",
       "      <td>C2_SRR3140466</td>\n",
       "      <td>274</td>\n",
       "      <td>276</td>\n",
       "      <td>C2_SRR3140466.1.2</td>\n",
       "      <td>TCONS_00000083</td>\n",
       "      <td>+</td>\n",
       "      <td>donor</td>\n",
       "      <td>NaN</td>\n",
       "      <td>C2</td>\n",
       "      <td>SRR3140466</td>\n",
       "      <td>PVTT</td>\n",
       "      <td>TCONS_00000083</td>\n",
       "      <td>$\\theta_5$</td>\n",
       "    </tr>\n",
       "    <tr>\n",
       "      <th>3953</th>\n",
       "      <td>C2_SRR3140463</td>\n",
       "      <td>422</td>\n",
       "      <td>424</td>\n",
       "      <td>C2_SRR3140463.1.5</td>\n",
       "      <td>TCONS_00000083</td>\n",
       "      <td>+</td>\n",
       "      <td>acceptor</td>\n",
       "      <td>NaN</td>\n",
       "      <td>C2</td>\n",
       "      <td>SRR3140463</td>\n",
       "      <td>PVTT</td>\n",
       "      <td>TCONS_00000083</td>\n",
       "      <td>$\\theta_3$</td>\n",
       "    </tr>\n",
       "  </tbody>\n",
       "</table>\n",
       "<p>2729 rows × 13 columns</p>\n",
       "</div>"
      ],
      "text/plain": [
       "              chrom  start   end               name           name2 strand  \\\n",
       "2524  D3_SRR5992894   1827  1829  D3_SRR5992894.2.4  TCONS_00000001      +   \n",
       "2520  D3_SRR5992894   1827  1829  D3_SRR5992894.2.3  TCONS_00000047      +   \n",
       "1769  D3_SRR5145396   1827  1829  D3_SRR5145396.1.3  TCONS_00000047      +   \n",
       "1773  D3_SRR5145396   1827  1829  D3_SRR5145396.1.4  TCONS_00000001      +   \n",
       "5242  D3_SRR5992882   2453  2455  D3_SRR5992882.1.7  TCONS_00000065      +   \n",
       "...             ...    ...   ...                ...             ...    ...   \n",
       "2918  D3_SRR6872346    634   636  D3_SRR6872346.2.1  TCONS_00000012      +   \n",
       "3117  D3_SRR9592409    658   660  D3_SRR9592409.1.1  TCONS_00000002      +   \n",
       "1083  C2_SRR3140465    274   276  C2_SRR3140465.3.3  TCONS_00000083      +   \n",
       "1085  C2_SRR3140466    274   276  C2_SRR3140466.1.2  TCONS_00000083      +   \n",
       "3953  C2_SRR3140463    422   424  C2_SRR3140463.1.5  TCONS_00000083      +   \n",
       "\n",
       "     Splice site  Splicing efficiency HBV_genotype         SRA  \\\n",
       "2524       donor              0.00094           D3  SRR5992894   \n",
       "2520       donor              0.00094           D3  SRR5992894   \n",
       "1769       donor              0.00102           D3  SRR5145396   \n",
       "1773       donor              0.00102           D3  SRR5145396   \n",
       "5242    acceptor              0.00105           D3  SRR5992882   \n",
       "...          ...                  ...          ...         ...   \n",
       "2918       donor                  NaN           D3  SRR6872346   \n",
       "3117       donor                  NaN           D3  SRR9592409   \n",
       "1083       donor                  NaN           C2  SRR3140465   \n",
       "1085       donor                  NaN           C2  SRR3140466   \n",
       "3953    acceptor                  NaN           C2  SRR3140463   \n",
       "\n",
       "     Biological_materials   Transcript ID        coSI  \n",
       "2524                  PHH            pSP9  $\\theta_5$  \n",
       "2520                  PHH           pSP10  $\\theta_5$  \n",
       "1769                  PHH           pSP10  $\\theta_5$  \n",
       "1773                  PHH            pSP9  $\\theta_5$  \n",
       "5242                  PHH       93050_ccs  $\\theta_3$  \n",
       "...                   ...             ...         ...  \n",
       "2918                  PHH             SP1  $\\theta_5$  \n",
       "3117                  PHH             SP6  $\\theta_5$  \n",
       "1083                 PVTT  TCONS_00000083  $\\theta_5$  \n",
       "1085                 PVTT  TCONS_00000083  $\\theta_5$  \n",
       "3953                 PVTT  TCONS_00000083  $\\theta_3$  \n",
       "\n",
       "[2729 rows x 13 columns]"
      ]
     },
     "execution_count": 8,
     "metadata": {},
     "output_type": "execute_result"
    }
   ],
   "source": [
    "cosi_long.sort_values(\"Splicing efficiency\")"
   ]
  },
  {
   "cell_type": "code",
   "execution_count": null,
   "metadata": {},
   "outputs": [],
   "source": []
  },
  {
   "cell_type": "markdown",
   "metadata": {},
   "source": [
    "Count the number of samples by types"
   ]
  },
  {
   "cell_type": "code",
   "execution_count": 3,
   "metadata": {},
   "outputs": [
    {
     "data": {
      "text/html": [
       "<div>\n",
       "<style scoped>\n",
       "    .dataframe tbody tr th:only-of-type {\n",
       "        vertical-align: middle;\n",
       "    }\n",
       "\n",
       "    .dataframe tbody tr th {\n",
       "        vertical-align: top;\n",
       "    }\n",
       "\n",
       "    .dataframe thead th {\n",
       "        text-align: right;\n",
       "    }\n",
       "</style>\n",
       "<table border=\"1\" class=\"dataframe\">\n",
       "  <thead>\n",
       "    <tr style=\"text-align: right;\">\n",
       "      <th></th>\n",
       "      <th>Biological_materials</th>\n",
       "      <th>count</th>\n",
       "    </tr>\n",
       "  </thead>\n",
       "  <tbody>\n",
       "    <tr>\n",
       "      <th>0</th>\n",
       "      <td>Tissue</td>\n",
       "      <td>53</td>\n",
       "    </tr>\n",
       "    <tr>\n",
       "      <th>1</th>\n",
       "      <td>Tumor</td>\n",
       "      <td>21</td>\n",
       "    </tr>\n",
       "    <tr>\n",
       "      <th>2</th>\n",
       "      <td>PVTT</td>\n",
       "      <td>13</td>\n",
       "    </tr>\n",
       "    <tr>\n",
       "      <th>3</th>\n",
       "      <td>PHH</td>\n",
       "      <td>49</td>\n",
       "    </tr>\n",
       "    <tr>\n",
       "      <th>4</th>\n",
       "      <td>Huh7</td>\n",
       "      <td>12</td>\n",
       "    </tr>\n",
       "  </tbody>\n",
       "</table>\n",
       "</div>"
      ],
      "text/plain": [
       "  Biological_materials  count\n",
       "0               Tissue     53\n",
       "1                Tumor     21\n",
       "2                 PVTT     13\n",
       "3                  PHH     49\n",
       "4                 Huh7     12"
      ]
     },
     "execution_count": 3,
     "metadata": {},
     "output_type": "execute_result"
    }
   ],
   "source": [
    "cosisum = cosi.drop_duplicates(\"SRA\").value_counts(\"Biological_materials\").reindex([\"Tissue\",\"Tumor\",\"PVTT\",\"PHH\",\"Huh7\"]).reset_index()\n",
    "cosisum"
   ]
  },
  {
   "cell_type": "markdown",
   "metadata": {},
   "source": [
    "Compare the splicing efficiency of HBV splice sites across samples (Fig 1B)"
   ]
  },
  {
   "cell_type": "code",
   "execution_count": 4,
   "metadata": {},
   "outputs": [
    {
     "data": {
      "text/html": [
       "<svg  width=\"440\" height=\"55\"><rect x=\"0\" y=\"0\" width=\"55\" height=\"55\" style=\"fill:#b3e2cd;stroke-width:2;stroke:rgb(255,255,255)\"/><rect x=\"55\" y=\"0\" width=\"55\" height=\"55\" style=\"fill:#fdcdac;stroke-width:2;stroke:rgb(255,255,255)\"/><rect x=\"110\" y=\"0\" width=\"55\" height=\"55\" style=\"fill:#cbd5e8;stroke-width:2;stroke:rgb(255,255,255)\"/><rect x=\"165\" y=\"0\" width=\"55\" height=\"55\" style=\"fill:#f4cae4;stroke-width:2;stroke:rgb(255,255,255)\"/><rect x=\"220\" y=\"0\" width=\"55\" height=\"55\" style=\"fill:#e6f5c9;stroke-width:2;stroke:rgb(255,255,255)\"/><rect x=\"275\" y=\"0\" width=\"55\" height=\"55\" style=\"fill:#fff2ae;stroke-width:2;stroke:rgb(255,255,255)\"/><rect x=\"330\" y=\"0\" width=\"55\" height=\"55\" style=\"fill:#f1e2cc;stroke-width:2;stroke:rgb(255,255,255)\"/><rect x=\"385\" y=\"0\" width=\"55\" height=\"55\" style=\"fill:#cccccc;stroke-width:2;stroke:rgb(255,255,255)\"/></svg>"
      ],
      "text/plain": [
       "['#b3e2cd',\n",
       " '#fdcdac',\n",
       " '#cbd5e8',\n",
       " '#f4cae4',\n",
       " '#e6f5c9',\n",
       " '#fff2ae',\n",
       " '#f1e2cc',\n",
       " '#cccccc']"
      ]
     },
     "execution_count": 4,
     "metadata": {},
     "output_type": "execute_result"
    }
   ],
   "source": [
    "sns.color_palette(\"Pastel2\").as_hex()"
   ]
  },
  {
   "cell_type": "code",
   "execution_count": 5,
   "metadata": {},
   "outputs": [
    {
     "name": "stdout",
     "output_type": "stream",
     "text": [
      "['#b3e2cd', '#fdcdac', '#cbd5e8', '#f4cae4', '#e6f5c9', '#fff2ae', '#f1e2cc', '#cccccc']\n"
     ]
    }
   ],
   "source": [
    "print(sns.color_palette(\"Pastel2\").as_hex())"
   ]
  },
  {
   "cell_type": "code",
   "execution_count": 6,
   "metadata": {},
   "outputs": [
    {
     "data": {
      "image/png": "[encoded data removed]",
      "text/plain": [
       "<Figure size 350x350 with 1 Axes>"
      ]
     },
     "metadata": {},
     "output_type": "display_data"
    }
   ],
   "source": [
    "plt.figure(figsize=(3.5,3.5))\n",
    "g = sns.boxplot(data=cosi_long, x=\"Biological_materials\", y=\"Splicing efficiency\", hue=\"coSI\", order=[\"Tissue\",\"Tumor\",\"PVTT\",\"PHH\",\"Huh7\"], showfliers=False, palette=['#f1e2cc', '#cccccc'])\n",
    "g = sns.stripplot(data=cosi_long, x=\"Biological_materials\", y=\"Splicing efficiency\", hue=\"coSI\", order=[\"Tissue\",\"Tumor\",\"PVTT\",\"PHH\",\"Huh7\"], \n",
    "                  edgecolor='black', linewidth=1, alpha=0.1, jitter=0.2, dodge=True, legend=False, palette=['#f1e2cc', '#cccccc'])\n",
    "\n",
    "plt.ylabel(r\"Splicing efficiency\")\n",
    "plt.xlabel(\"Biological source\")\n",
    "g.set_xticks(range(cosi_long.drop_duplicates(\"SRA\").value_counts(\"Biological_materials\").shape[0]))\n",
    "g.set_xticklabels(cosisum.Biological_materials + \"\\n(n=\" + cosisum[\"count\"].astype(str) + \")\")\n",
    "plt.savefig(\"../results/figures/fig1/cosi_splice_variants.pdf\", bbox_inches='tight')"
   ]
  },
  {
   "cell_type": "code",
   "execution_count": null,
   "metadata": {},
   "outputs": [],
   "source": []
  },
  {
   "cell_type": "markdown",
   "metadata": {},
   "source": [
    "Get the top 10 most common spliced HBV RNAs and plot Supplementary Fig S1"
   ]
  },
  {
   "cell_type": "code",
   "execution_count": 7,
   "metadata": {},
   "outputs": [
    {
     "data": {
      "text/plain": [
       "['SP1', 'SP14', 'SP7', 'pSP12', 'SP9', 'SP6', 'SP13', 'SP18', 'SP11', 'pSP9']"
      ]
     },
     "execution_count": 7,
     "metadata": {},
     "output_type": "execute_result"
    }
   ],
   "source": [
    "tcounts = cosi.drop_duplicates([\"Transcript ID\", \"SRA\"]).value_counts(\"Transcript ID\").reset_index()\n",
    "tcounts.head(10)[\"Transcript ID\"].tolist()"
   ]
  },
  {
   "cell_type": "code",
   "execution_count": 8,
   "metadata": {},
   "outputs": [
    {
     "data": {
      "text/plain": [
       "(77, 2)"
      ]
     },
     "execution_count": 8,
     "metadata": {},
     "output_type": "execute_result"
    }
   ],
   "source": [
    "tcounts.shape"
   ]
  },
  {
   "cell_type": "code",
   "execution_count": 9,
   "metadata": {},
   "outputs": [
    {
     "data": {
      "image/png": "[encoded data removed]",
      "text/plain": [
       "<Figure size 500x350 with 1 Axes>"
      ]
     },
     "metadata": {},
     "output_type": "display_data"
    }
   ],
   "source": [
    "plt.figure(figsize=(5,3.5))\n",
    "\n",
    "g = sns.boxplot(data=pd.merge(cosi_long,tcounts.head(10)),\n",
    "            x=\"Transcript ID\", y=\"Splicing efficiency\", hue=\"coSI\", \n",
    "            showfliers=False, order=['SP1', 'SP6', 'SP7', 'SP9', 'SP11', 'SP13', 'SP14', 'SP18', 'pSP9', 'pSP12'], \n",
    "            palette=['#f1e2cc', '#cccccc'])\n",
    "g = sns.stripplot(data=pd.merge(cosi_long,tcounts.head(10)), x=\"Transcript ID\", y=\"Splicing efficiency\", hue=\"coSI\", order=['SP1', 'SP6', 'SP7', 'SP9', 'SP11', 'SP13', 'SP14', 'SP18', 'pSP9', 'pSP12'], \n",
    "                  edgecolor='black', s=2, linewidth=1, alpha=0.2, jitter=0.2, dodge=True, legend=False, palette=['#f1e2cc', '#cccccc'])\n",
    "\n",
    "plt.xticks(rotation=90)\n",
    "plt.savefig(\"../results/figures/figs1/cosi_splice_variants-sm.pdf\", bbox_inches='tight')"
   ]
  },
  {
   "cell_type": "code",
   "execution_count": 24,
   "metadata": {},
   "outputs": [
    {
     "data": {
      "text/plain": [
       "((490, 13), (413, 13))"
      ]
     },
     "execution_count": 24,
     "metadata": {},
     "output_type": "execute_result"
    }
   ],
   "source": [
    "cosi_long[cosi_long[\"Transcript ID\"].str.contains(\"pSP\")].shape, cosi_long[cosi_long[\"Transcript ID\"].str.contains(\"TCONS\")].shape"
   ]
  },
  {
   "cell_type": "code",
   "execution_count": null,
   "metadata": {},
   "outputs": [],
   "source": []
  },
  {
   "cell_type": "markdown",
   "metadata": {
    "jp-MarkdownHeadingCollapsed": true,
    "tags": []
   },
   "source": [
    "Create annotation for lollipop plot in Fig 1C"
   ]
  },
  {
   "cell_type": "code",
   "execution_count": null,
   "metadata": {},
   "outputs": [],
   "source": [
    "! join -t$'\\t' \\\n",
    "    <(gtfToGenePred ../data/processed_files/combined.gtf stdout | sort -k1,1) \\\n",
    "    <(echo -e \"SP1\\nSP6\\nSP7\\nSP9\\nSP11\\nSP13\\nSP14\\nSP18\\npSP9\\npSP12\" | sort) \\\n",
    "    | genePredToGtf file stdin ../data/processed_files/track.gtf\n",
    "\n",
    "! cat <(awk '$4!=1 {print $4}' ../data/processed_files/track.gtf) <(awk '$5!=3246 {print $5}' ../data/processed_files/track.gtf) | sort -u \\\n",
    "    | join -t$'\\t' - \\\n",
    "    <(sed '1d' ../data/processed_files/lol.txt | sort -k1,1) \\\n",
    "    | sed '1i pos\\tlabel\\tss' > ../data/processed_files/track.lol.txt"
   ]
  },
  {
   "cell_type": "code",
   "execution_count": 1,
   "metadata": {},
   "outputs": [],
   "source": [
    "import pandas as pd\n",
    "\n",
    "cosi_long = pd.read_pickle(\"../data/processed_files/cosi_long.pkl.gz\")\n",
    "\n",
    "c3 = cosi_long[cosi_long.coSI=='$\\\\theta_3$'].copy()\n",
    "c3[\"pos\"] = c3[\"end\"]+1\n",
    "\n",
    "c5 = cosi_long[cosi_long.coSI=='$\\\\theta_5$'].copy()\n",
    "c5[\"pos\"] = c5[\"start\"]\n",
    "\n",
    "se = pd.concat([c5,c3]).groupby(\"pos\")[\"Splicing efficiency\"].median().reset_index()\n",
    "se.columns = [\"pos\",\"coSI\"]\n",
    "\n",
    "lol = pd.read_csv(\"../data/processed_files/track.lol.txt\", sep=\"\\t\")\n",
    "\n",
    "lol = pd.merge(lol,se)\n",
    "lol.to_csv(\"../data/processed_files/track.lol.txt\", sep=\"\\t\", index=None)"
   ]
  },
  {
   "cell_type": "code",
   "execution_count": null,
   "metadata": {},
   "outputs": [],
   "source": [
    "! Rscript ../scripts/track.r"
   ]
  },
  {
   "cell_type": "code",
   "execution_count": null,
   "metadata": {},
   "outputs": [],
   "source": []
  },
  {
   "cell_type": "markdown",
   "metadata": {},
   "source": [
    "Calculcate independent t-tests for comparing splicing efficiency across samples for Fig 1B"
   ]
  },
  {
   "cell_type": "code",
   "execution_count": 11,
   "metadata": {},
   "outputs": [
    {
     "data": {
      "text/html": [
       "<style type=\"text/css\">\n",
       "</style>\n",
       "<table id=\"T_23c44\">\n",
       "  <thead>\n",
       "    <tr>\n",
       "      <th class=\"blank level0\" >&nbsp;</th>\n",
       "      <th id=\"T_23c44_level0_col0\" class=\"col_heading level0 col0\" >Biological_materials</th>\n",
       "      <th id=\"T_23c44_level0_col1\" class=\"col_heading level0 col1\" >t-statistic</th>\n",
       "      <th id=\"T_23c44_level0_col2\" class=\"col_heading level0 col2\" >pvalue</th>\n",
       "    </tr>\n",
       "  </thead>\n",
       "  <tbody>\n",
       "    <tr>\n",
       "      <th id=\"T_23c44_level0_row0\" class=\"row_heading level0 row0\" >0</th>\n",
       "      <td id=\"T_23c44_row0_col0\" class=\"data row0 col0\" >Huh7</td>\n",
       "      <td id=\"T_23c44_row0_col1\" class=\"data row0 col1\" >-2.005513</td>\n",
       "      <td id=\"T_23c44_row0_col2\" class=\"data row0 col2\" >2.26E-02</td>\n",
       "    </tr>\n",
       "    <tr>\n",
       "      <th id=\"T_23c44_level0_row1\" class=\"row_heading level0 row1\" >1</th>\n",
       "      <td id=\"T_23c44_row1_col0\" class=\"data row1 col0\" >Tissue</td>\n",
       "      <td id=\"T_23c44_row1_col1\" class=\"data row1 col1\" >0.000000</td>\n",
       "      <td id=\"T_23c44_row1_col2\" class=\"data row1 col2\" >5.00E-01</td>\n",
       "    </tr>\n",
       "    <tr>\n",
       "      <th id=\"T_23c44_level0_row2\" class=\"row_heading level0 row2\" >2</th>\n",
       "      <td id=\"T_23c44_row2_col0\" class=\"data row2 col0\" >Tumor</td>\n",
       "      <td id=\"T_23c44_row2_col1\" class=\"data row2 col1\" >-4.244280</td>\n",
       "      <td id=\"T_23c44_row2_col2\" class=\"data row2 col2\" >1.41E-05</td>\n",
       "    </tr>\n",
       "    <tr>\n",
       "      <th id=\"T_23c44_level0_row3\" class=\"row_heading level0 row3\" >3</th>\n",
       "      <td id=\"T_23c44_row3_col0\" class=\"data row3 col0\" >PVTT</td>\n",
       "      <td id=\"T_23c44_row3_col1\" class=\"data row3 col1\" >-2.301029</td>\n",
       "      <td id=\"T_23c44_row3_col2\" class=\"data row3 col2\" >1.10E-02</td>\n",
       "    </tr>\n",
       "    <tr>\n",
       "      <th id=\"T_23c44_level0_row4\" class=\"row_heading level0 row4\" >4</th>\n",
       "      <td id=\"T_23c44_row4_col0\" class=\"data row4 col0\" >PHH</td>\n",
       "      <td id=\"T_23c44_row4_col1\" class=\"data row4 col1\" >0.990948</td>\n",
       "      <td id=\"T_23c44_row4_col2\" class=\"data row4 col2\" >8.39E-01</td>\n",
       "    </tr>\n",
       "  </tbody>\n",
       "</table>\n"
      ],
      "text/plain": [
       "<pandas.io.formats.style.Styler at 0x15171fb9e6d0>"
      ]
     },
     "execution_count": 11,
     "metadata": {},
     "output_type": "execute_result"
    }
   ],
   "source": [
    "results = []\n",
    "\n",
    "for i in cosi[\"Biological_materials\"].unique():\n",
    "    result = ttest_ind(cosi[cosi[\"Biological_materials\"]==\"Tissue\"][\"coSI 5'\"].dropna(), cosi[cosi[\"Biological_materials\"]==i][\"coSI 5'\"].dropna(), alternative=\"less\")\n",
    "    results.append([i, result[0], result[1]])\n",
    "    \n",
    "results = pd.DataFrame(results)\n",
    "results.columns = [\"Biological_materials\",\"t-statistic\",\"pvalue\"]\n",
    "results.style.format({\"pvalue\": \"{:.2E}\"})"
   ]
  },
  {
   "cell_type": "code",
   "execution_count": 12,
   "metadata": {},
   "outputs": [
    {
     "data": {
      "text/html": [
       "<style type=\"text/css\">\n",
       "</style>\n",
       "<table id=\"T_abb71\">\n",
       "  <thead>\n",
       "    <tr>\n",
       "      <th class=\"blank level0\" >&nbsp;</th>\n",
       "      <th id=\"T_abb71_level0_col0\" class=\"col_heading level0 col0\" >Biological_materials</th>\n",
       "      <th id=\"T_abb71_level0_col1\" class=\"col_heading level0 col1\" >t-statistic</th>\n",
       "      <th id=\"T_abb71_level0_col2\" class=\"col_heading level0 col2\" >pvalue</th>\n",
       "    </tr>\n",
       "  </thead>\n",
       "  <tbody>\n",
       "    <tr>\n",
       "      <th id=\"T_abb71_level0_row0\" class=\"row_heading level0 row0\" >0</th>\n",
       "      <td id=\"T_abb71_row0_col0\" class=\"data row0 col0\" >Huh7</td>\n",
       "      <td id=\"T_abb71_row0_col1\" class=\"data row0 col1\" >2.545496</td>\n",
       "      <td id=\"T_abb71_row0_col2\" class=\"data row0 col2\" >9.94E-01</td>\n",
       "    </tr>\n",
       "    <tr>\n",
       "      <th id=\"T_abb71_level0_row1\" class=\"row_heading level0 row1\" >1</th>\n",
       "      <td id=\"T_abb71_row1_col0\" class=\"data row1 col0\" >Tissue</td>\n",
       "      <td id=\"T_abb71_row1_col1\" class=\"data row1 col1\" >0.000000</td>\n",
       "      <td id=\"T_abb71_row1_col2\" class=\"data row1 col2\" >5.00E-01</td>\n",
       "    </tr>\n",
       "    <tr>\n",
       "      <th id=\"T_abb71_level0_row2\" class=\"row_heading level0 row2\" >2</th>\n",
       "      <td id=\"T_abb71_row2_col0\" class=\"data row2 col0\" >Tumor</td>\n",
       "      <td id=\"T_abb71_row2_col1\" class=\"data row2 col1\" >-5.268017</td>\n",
       "      <td id=\"T_abb71_row2_col2\" class=\"data row2 col2\" >1.20E-07</td>\n",
       "    </tr>\n",
       "    <tr>\n",
       "      <th id=\"T_abb71_level0_row3\" class=\"row_heading level0 row3\" >3</th>\n",
       "      <td id=\"T_abb71_row3_col0\" class=\"data row3 col0\" >PVTT</td>\n",
       "      <td id=\"T_abb71_row3_col1\" class=\"data row3 col1\" >-8.881673</td>\n",
       "      <td id=\"T_abb71_row3_col2\" class=\"data row3 col2\" >2.47E-17</td>\n",
       "    </tr>\n",
       "    <tr>\n",
       "      <th id=\"T_abb71_level0_row4\" class=\"row_heading level0 row4\" >4</th>\n",
       "      <td id=\"T_abb71_row4_col0\" class=\"data row4 col0\" >PHH</td>\n",
       "      <td id=\"T_abb71_row4_col1\" class=\"data row4 col1\" >1.311271</td>\n",
       "      <td id=\"T_abb71_row4_col2\" class=\"data row4 col2\" >9.05E-01</td>\n",
       "    </tr>\n",
       "  </tbody>\n",
       "</table>\n"
      ],
      "text/plain": [
       "<pandas.io.formats.style.Styler at 0x151729737550>"
      ]
     },
     "execution_count": 12,
     "metadata": {},
     "output_type": "execute_result"
    }
   ],
   "source": [
    "results = []\n",
    "\n",
    "for i in cosi[\"Biological_materials\"].unique():\n",
    "    result = ttest_ind(cosi[cosi[\"Biological_materials\"]==\"Tissue\"][\"coSI 3'\"].dropna(), cosi[cosi[\"Biological_materials\"]==i][\"coSI 3'\"].dropna(), alternative=\"less\")\n",
    "    results.append([i, result[0], result[1]])\n",
    "    \n",
    "results = pd.DataFrame(results)\n",
    "results.columns = [\"Biological_materials\",\"t-statistic\",\"pvalue\"]\n",
    "results.style.format({\"pvalue\": \"{:.2E}\"})"
   ]
  },
  {
   "cell_type": "code",
   "execution_count": null,
   "metadata": {},
   "outputs": [],
   "source": []
  },
  {
   "cell_type": "markdown",
   "metadata": {},
   "source": [
    "Prepare data files for results"
   ]
  },
  {
   "cell_type": "code",
   "execution_count": 1,
   "metadata": {},
   "outputs": [],
   "source": [
    "import pandas as pd\n",
    "\n",
    "s1 = pd.read_excel(\"../data/processed_files/mgen-7-492-s002.xlsx\", sheet_name=\"S1_Percent_HBV_RNA\")\n",
    "s1 = s1[(~s1.TCONS.isna()) & (s1.num_exons>1)].copy()\n",
    "s1['HBV_genotype'] = s1.HBV_genotype.apply(lambda x: list(x)[0])\n",
    "sp = s1.groupby([\"Library_name\",\"Biological_materials\",\"HBV_genotype\"])[\"Percent_HBV_RNA\"].sum().reset_index()\n",
    "\n",
    "# read in SRA metadata to replace replicate IDs with Run IDs\n",
    "sratbl = pd.read_csv(\"../data/huh7/SraRunTable.csv\")\n",
    "sratbl = pd.concat([sratbl[[\"Run\",'hbv_genotype']], sp[sp.Library_name.str.contains(\"rep\")]], axis=1)"
   ]
  },
  {
   "cell_type": "code",
   "execution_count": 2,
   "metadata": {},
   "outputs": [],
   "source": [
    "cosi_long = pd.read_pickle(\"../data/processed_files/cosi_long.pkl.gz\")\n",
    "\n",
    "huh7 = pd.merge(cosi_long, sratbl[[\"Run\",\"Library_name\"]].rename(columns={\"Library_name\":\"SRA\"}))\n",
    "huh7 = huh7.drop(\"SRA\", axis=1)#.rename(columns={\"Run\":\"Library_name\"})\n",
    "\n",
    "cosi_long = cosi_long[~cosi_long.SRA.str.contains(\"rep\")].rename(columns={\"SRA\":\"Run\"})\n",
    "cosi_long = pd.concat([huh7, cosi_long])\n",
    "cosi_long[\"HBV_genotype\"] = cosi_long.HBV_genotype.apply(lambda x: list(x)).str[0]\n",
    "\n",
    "cosi_long.to_csv(\"../results/data/coSI.csv\", index=None)"
   ]
  },
  {
   "cell_type": "code",
   "execution_count": null,
   "metadata": {},
   "outputs": [],
   "source": []
  }
 ],
 "metadata": {
  "kernelspec": {
   "display_name": "Python [conda env:llm] *",
   "language": "python",
   "name": "conda-env-llm-py"
  },
  "language_info": {
   "codemirror_mode": {
    "name": "ipython",
    "version": 3
   },
   "file_extension": ".py",
   "mimetype": "text/x-python",
   "name": "python",
   "nbconvert_exporter": "python",
   "pygments_lexer": "ipython3",
   "version": "3.9.16"
  }
 },
 "nbformat": 4,
 "nbformat_minor": 4
}
