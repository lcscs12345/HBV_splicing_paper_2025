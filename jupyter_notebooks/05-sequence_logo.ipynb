{
 "cells": [
  {
   "cell_type": "markdown",
   "id": "37d2ce03-0c45-45c7-b582-f0defece7bd7",
   "metadata": {},
   "source": [
    "#### Plot splice sites logo"
   ]
  },
  {
   "cell_type": "code",
   "execution_count": 1,
   "id": "4cc5f01c-4f49-4cba-895e-b631a5feb846",
   "metadata": {},
   "outputs": [],
   "source": [
    "import pandas as pd\n",
    "\n",
    "cosi_long = pd.read_pickle(\"../data/processed_files/cosi_long.pkl.gz\")\n",
    "\n",
    "c3 = cosi_long[cosi_long.coSI=='$\\\\theta_3$'].copy()\n",
    "c3[\"pos\"] = c3[\"end\"]+1\n",
    "\n",
    "c5 = cosi_long[cosi_long.coSI=='$\\\\theta_5$'].copy()\n",
    "c5[\"pos\"] = c5[\"start\"]"
   ]
  },
  {
   "cell_type": "markdown",
   "id": "a6987761-0ce4-4de2-a8fa-fb4a8a83d414",
   "metadata": {},
   "source": [
    "Create BED files for HBV splice sites"
   ]
  },
  {
   "cell_type": "code",
   "execution_count": 2,
   "id": "6407cf80-9b21-43b2-892b-363931d5e2c2",
   "metadata": {},
   "outputs": [],
   "source": [
    "mc5 = c5[(c5[\"HBV_genotype\"].str.contains(\"B|C\"))].groupby(\"pos\").max(\"Splicing efficiency\")\n",
    "mc5[\"start\"] = mc5[\"start\"]-10\n",
    "mc5[\"end\"] = mc5[\"end\"]+18\n",
    "mc5.to_csv(\"../data/processed_files/mc5.bed\", sep=\"\\t\", header=None, index=None)\n",
    "\n",
    "mc3 = c3[(c3[\"HBV_genotype\"].str.contains(\"B|C\"))].groupby(\"pos\").max(\"Splicing efficiency\")\n",
    "mc3[\"start\"] = mc3[\"start\"]-20\n",
    "mc3[\"end\"] = mc3[\"end\"]+8\n",
    "mc3.to_csv(\"../data/processed_files/mc3.bed\", sep=\"\\t\", header=None, index=None)"
   ]
  },
  {
   "cell_type": "markdown",
   "id": "24f3d965-ea85-4386-b798-cfd51bb1c76e",
   "metadata": {},
   "source": [
    "Get fasta sequences for HBV splice sites "
   ]
  },
  {
   "cell_type": "code",
   "execution_count": null,
   "id": "fedcf9a0-201c-479e-b6c5-cc2431d37286",
   "metadata": {},
   "outputs": [],
   "source": [
    "# select genotypes B, C, and F, and recombinant forms (RF)\n",
    "! awk 'BEGIN{RS=\">\"}NR>1{sub(\"\\n\",\"\\t\"); gsub(\"\\n\",\"\"); print RS$0}' ../ref/hbvdb/pgrna/pgrna.fa \\\n",
    "    | awk '(/B.fa|C.fa|F.fa|RF.fa/) && (length($NF)==3240) {print $1 \"|\" $2, \"\\t\" $NF}' \\\n",
    "    | sed 's/\\.fa//' | awk '{print $1 \"\\n\" $NF}' > ../data/processed_files/hbvdb_pgrna.fa\n",
    "\n",
    "# get sequences and convert the format to BED\n",
    "! grep \">\" ../data/processed_files/hbvdb_pgrna.fa | sed 's/>//' \\\n",
    "    | while read i; do awk -v chrom=$i '{print chrom \"\\t\" $0}' ../data/processed_files/mc5.bed; done \\\n",
    "    | bedtools getfasta -bed stdin -fi ../data/processed_files/hbvdb_pgrna.fa -tab -name \\\n",
    "    | sed 's/::/\\t/;s/|/\\t/3;s/:/\\t/;s/-/\\t/' \\\n",
    "    | awk 'BEGIN{OFS=\"\\t\"} {print $2,$4,$5,$3,$1,$NF}' > ../data/processed_files/hbvdb_pgrna_mc5.bed\n",
    "\n",
    "! grep \">\" ../data/processed_files/hbvdb_pgrna.fa | sed 's/>//' \\\n",
    "    | while read i; do awk -v chrom=$i '{print chrom \"\\t\" $0}' ../data/processed_files/mc3.bed; done \\\n",
    "    | bedtools getfasta -bed stdin -fi ../data/processed_files/hbvdb_pgrna.fa -tab -name \\\n",
    "    | sed 's/::/\\t/;s/|/\\t/3;s/:/\\t/;s/-/\\t/' \\\n",
    "    | awk 'BEGIN{OFS=\"\\t\"} {print $2,$4,$5,$3,$1,$NF}' > ../data/processed_files/hbvdb_pgrna_mc3.bed"
   ]
  },
  {
   "cell_type": "markdown",
   "id": "5d15ef51-e9a6-4364-8556-c591ac627f20",
   "metadata": {},
   "source": [
    "Plot sequence logos for HBV splice sites"
   ]
  },
  {
   "cell_type": "code",
   "execution_count": null,
   "id": "5c0dcc9d-c365-4bd6-84ea-acdf0128c6ad",
   "metadata": {},
   "outputs": [],
   "source": [
    "# randomly select overlaps for sliding windows\n",
    "! SEED=123 && \\\n",
    "  MIN=1 && \\\n",
    "  MAX=12 && \\\n",
    "  \\\n",
    "  RANDOM=$SEED && \\\n",
    "  for i in {1..5}; do \\\n",
    "    RAND_NUM=$(( ( RANDOM % (MAX - MIN + 1) ) + MIN )) && \\\n",
    "    pyfasta split -k30 -n1 -o $RAND_NUM ../data/processed_files/hbvdb_pgrna.fa; done\n",
    "\n",
    "! cat ../data/processed_files/hbvdb_pgrna.split.30mer.*overlap.fa > ../data/processed_files/hbvdb_pgrna.split.30mer.fa\n",
    "\n",
    "# randomly sample 10% sequences\n",
    "SEQS=`grep -c \">\" ../data/processed_files/hbvdb_pgrna.split.30mer.fa | awk '{print int(($1*0.01)+0.5)}'`\n",
    "! pyfastx sample -n ${SEQS} -s 42 --sequential-read -o ../data/processed_files/hbvdb_pgrna.split.30mer.10perc.fa  ../data/processed_files/hbvdb_pgrna.split.30mer.fa\n",
    "\n",
    "# separate higher usage splice sites from lower usage and get fasta sequences\n",
    "! awk '$5>=0.1 {print \">\" $1 \"\\n\" $NF}' ../data/processed_files/hbvdb_pgrna_mc5.bed > ../data/processed_files/hbvdb_pgrna_mc5_high.fa\n",
    "! awk '$5<0.1 {print \">\" $1 \"\\n\" $NF}' ../data/processed_files/hbvdb_pgrna_mc5.bed > ../data/processed_files/hbvdb_pgrna_mc5_low.fa\n",
    "\n",
    "! awk '$5>=0.1 {print \">\" $1 \"\\n\" $NF}' ../data/processed_files/hbvdb_pgrna_mc3.bed > ../data/processed_files/hbvdb_pgrna_mc3_high.fa\n",
    "! awk '$5<0.1 {print \">\" $1 \"\\n\" $NF}' ../data/processed_files/hbvdb_pgrna_mc3.bed > ../data/processed_files/hbvdb_pgrna_mc3_low.fa\n",
    "\n",
    "# plot logo\n",
    "! for i in ../data/processed_files/hbvdb_pgrna_mc*fa; do \\\n",
    "    mkdir -p ${i%.*} && \\\n",
    "    kpLogo $i -bgfile ../data/processed_files/hbvdb_pgrna.split.30mer.10perc.fa -o ${i%.*}/kpLogo; done"
   ]
  },
  {
   "cell_type": "code",
   "execution_count": null,
   "id": "eb30f597-bba0-4d2a-bfcd-a8396d71cb89",
   "metadata": {},
   "outputs": [],
   "source": []
  },
  {
   "cell_type": "markdown",
   "id": "809d50dc-9aa9-478f-8905-262ba5cdcd74",
   "metadata": {},
   "source": [
    "Create BED files for human CDS splice sites"
   ]
  },
  {
   "cell_type": "code",
   "execution_count": null,
   "id": "28caa68a-ce30-474b-a652-d1d1b8e084da",
   "metadata": {},
   "outputs": [],
   "source": [
    "# Filter out splice sites in the UTRs\n",
    "bedtools intersect -a ../data/processed_files/ss.bed -b <(bed12ToBed6 -i ../ref/gencode.v41lift37.annotation.bed) -wo -s \\\n",
    "    | bedtools intersect -a stdin -b ../ref/utr.hs.bed -v \\\n",
    "    | cut -f-6 | awk '!seen[$0]++' \\\n",
    "    | bedtools intersect -a stdin -b <(awk 'BEGIN{OFS=\"\\t\"} {print $1,$2+1,$3,$4,$5,$6}' ../data/huh7/intron.zeta.pUC57.bed) -wo \\\n",
    "    | awk 'BEGIN{OFS=\"\\t\"} ($2==$8) && /donor/ {print $1,$2-10,$3+18,$5 \"|\" $11,$4,$6}' \\\n",
    "    | bedtools getfasta -bed stdin -fi ../ref/hg19.fa -tab -name -s \\\n",
    "    | sed 's/::/\\t/;s/|/\\t/;s/:/\\t/;s/-/\\t/;s/(/\\t/;s/)//' \\\n",
    "    | awk 'BEGIN{OFS=\"\\t\"} {print $3,$4,$5,$1,$2,$6,toupper($NF)}' \\\n",
    "    | sort -u > ../data/processed_files/exonicss_mc5.bed\n",
    "\n",
    "bedtools intersect -a ../data/processed_files/ss.bed -b <(bed12ToBed6 -i ../ref/gencode.v41lift37.annotation.bed) -wo -s \\\n",
    "    | bedtools intersect -a stdin -b ../ref/utr.hs.bed -v \\\n",
    "    | cut -f-6 | awk '!seen[$0]++' \\\n",
    "    | bedtools intersect -a stdin -b <(awk 'BEGIN{OFS=\"\\t\"} {print $1,$2,$3-1,$4,$5,$6}' ../data/huh7/intron.zeta.pUC57.bed) -wo \\\n",
    "    | awk 'BEGIN{OFS=\"\\t\"} ($3==$9) && /acceptor/ {print $1,$2-20,$3+8,$5 \"|\" $11,$4,$6}' \\\n",
    "    | bedtools getfasta -bed stdin -fi ../ref/hg19.fa -tab -name -s \\\n",
    "    | sed 's/::/\\t/;s/|/\\t/;s/:/\\t/;s/-/\\t/;s/(/\\t/;s/)//' \\\n",
    "    | awk 'BEGIN{OFS=\"\\t\"} {print $3,$4,$5,$1,$2,$6,toupper($NF)}' \\\n",
    "    | sort -u > ../data/processed_files/exonicss_mc3.bed\n",
    "\n",
    "# get genes with CDS splice sites\n",
    "cat ../data/processed_files/exonicss_mc*.bed \\\n",
    "    | cut -f4 | sort -u \\\n",
    "    | join -1 1 -2 12 -o 2.1,2.2,2.3,2.4,2.5,2.6,2.7,2.8,2.9,2.10,2.11,2.12,2.13,2.14,2.15 -t$'\\t' - \\\n",
    "    <(zcat ../ref/gencode.v41lift37.annotation.genepred.txt.gz | sort -k12,12) \\\n",
    "    | genePredToBed stdin stdout \\\n",
    "    | bedtools getfasta -bed stdin -fi ../ref/hg19.fa -split -name -s > ../data/processed_files/exonicss_genes.fa"
   ]
  },
  {
   "cell_type": "markdown",
   "id": "889e4cf8-e425-44d2-9275-b9ee3f3cba79",
   "metadata": {},
   "source": [
    "Plot sequence logos for human CDS splice sites"
   ]
  },
  {
   "cell_type": "code",
   "execution_count": null,
   "id": "9d9be0cc-cab1-496b-b100-775f5ad20379",
   "metadata": {},
   "outputs": [],
   "source": [
    "# randomly select overlaps for sliding windows\n",
    "! SEED=123 && \\\n",
    "  MIN=1 && \\\n",
    "  MAX=12 && \\\n",
    "  \\\n",
    "  RANDOM=$SEED && \\\n",
    "  for i in {1..5}; do \\\n",
    "    RAND_NUM=$(( ( RANDOM % (MAX - MIN + 1) ) + MIN )) && \\\n",
    "    pyfasta split -k30 -n1 -o $RAND_NUM ../data/processed_files/exonicss_genes.fa; done\n",
    "    \n",
    "! cat ../data/processed_files/exonicss_genes.split.30mer.*overlap.fa > ../data/processed_files/exonicss_genes.split.30mer.fa\n",
    "\n",
    "# randomly sample 1% sequences\n",
    "SEQS=`grep -c \">\" ../data/processed_files/exonicss_genes.split.30mer.fa | awk '{print int(($1*0.01)+0.5)}'`\n",
    "! pyfastx sample -n ${SEQS} -s 42 --sequential-read -o ../data/processed_files/exonicss_genes.split.30mer.1perc.fa  ../data/processed_files/exonicss_genes.split.30mer.fa\n",
    "\n",
    "# get fasta sequences\n",
    "! awk '{print \">\" $1 \"\\n\" $NF}' ../data/processed_files/exonicss_mc5.bed > ../data/processed_files/exonicss_mc5.fa\n",
    "! awk '{print \">\" $1 \"\\n\" $NF}' ../data/processed_files/exonicss_mc3.bed > ../data/processed_files/exonicss_mc3.fa\n",
    "\n",
    "# plot logo\n",
    "! for i in ../data/processed_files/exonicss_mc*fa; do \\\n",
    "    mkdir -p ${i%.*} && \\\n",
    "    kpLogo $i -bgfile ../data/processed_files/exonicss_genes.split.30mer.1perc.fa -o ${i%.*}/kpLogo; done"
   ]
  },
  {
   "cell_type": "code",
   "execution_count": null,
   "id": "dce2c419-65b4-411a-8668-9bdfcb22e90d",
   "metadata": {},
   "outputs": [],
   "source": []
  },
  {
   "cell_type": "markdown",
   "id": "bb49ce02-4f06-4ab6-bc28-9c4b94492bf3",
   "metadata": {},
   "source": [
    "Create BED files for human typical splice sites"
   ]
  },
  {
   "cell_type": "code",
   "execution_count": null,
   "id": "1b911f16-680a-4a44-ba30-d648b10d1042",
   "metadata": {},
   "outputs": [],
   "source": [
    "! bedtools intersect -a ../data/processed_files/ss.bed -b <(awk 'BEGIN{OFS=\"\\t\"} {print $1,$2+1,$3,$4,$5,$6}' ../data/huh7/intron.zeta.pUC57.bed) -wo \\\n",
    "    | awk 'BEGIN{OFS=\"\\t\"} ($2==$8) && /donor/ {print $1,$2-10,$3+18,$5 \"|\" $11,$4,$6}' \\\n",
    "    | bedtools getfasta -bed stdin -fi ../ref/hg19.fa -tab -name -s \\\n",
    "    | sed 's/::/\\t/;s/|/\\t/;s/:/\\t/;s/-/\\t/;s/(/\\t/;s/)//' \\\n",
    "    | awk 'BEGIN{OFS=\"\\t\"} {print $3,$4,$5,$1,$2,$6,toupper($NF)}' \\\n",
    "    | sort -u > ../data/processed_files/hg19_mc5.bed\n",
    "# exclude CDS splice donor sites\n",
    "! comm -23 <(sort ../data/processed_files/hg19_mc5.bed) <(sort ../data/processed_files/exonicss_mc5.bed) > ../data/processed_files/hg19_mc5.bed2\n",
    "! mv ../data/processed_files/hg19_mc5.bed2 ../data/processed_files/hg19_mc5.bed\n",
    "\n",
    "! bedtools intersect -a ../data/processed_files/ss.bed -b <(awk 'BEGIN{OFS=\"\\t\"} {print $1,$2,$3-1,$4,$5,$6}' ../data/huh7/intron.zeta.pUC57.bed) -wo \\\n",
    "    | awk 'BEGIN{OFS=\"\\t\"} ($3==$9) && /acceptor/ {print $1,$2-20,$3+8,$5 \"|\" $11,$4,$6}' \\\n",
    "    | bedtools getfasta -bed stdin -fi ../ref/hg19.fa -tab -name -s \\\n",
    "    | sed 's/::/\\t/;s/|/\\t/;s/:/\\t/;s/-/\\t/;s/(/\\t/;s/)//' \\\n",
    "    | awk 'BEGIN{OFS=\"\\t\"} {print $3,$4,$5,$1,$2,$6,toupper($NF)}' \\\n",
    "    | sort -u > ../data/processed_files/hg19_mc3.bed\n",
    "# exclude CDS splice acceptor sites\n",
    "! comm -23 <(sort ../data/processed_files/hg19_mc3.bed) <(sort ../data/processed_files/exonicss_mc3.bed) > ../data/processed_files/hg19_mc3.bed2\n",
    "! mv ../data/processed_files/hg19_mc3.bed2 ../data/processed_files/hg19_mc3.bed\n",
    "\n",
    "# get genes with typical splice sites\n",
    "! cat ../data/processed_files/hg19_mc*.bed \\\n",
    "    | cut -f4 | sort -u \\\n",
    "    | join -1 1 -2 12 -o 2.1,2.2,2.3,2.4,2.5,2.6,2.7,2.8,2.9,2.10,2.11,2.12,2.13,2.14,2.15 -t$'\\t' - \\\n",
    "    <(zcat ../ref/gencode.v41lift37.annotation.genepred.txt.gz | sort -k12,12) \\\n",
    "    | genePredToBed stdin stdout \\\n",
    "    | bedtools getfasta -bed stdin -fi ../ref/hg19.fa -split -name -s > ../ref/hg19_genes.fa"
   ]
  },
  {
   "cell_type": "markdown",
   "id": "8bf4e823-5d46-40d9-b0ed-6c4f18f3421c",
   "metadata": {},
   "source": [
    "Plot sequence logos for human typical splice sites"
   ]
  },
  {
   "cell_type": "code",
   "execution_count": null,
   "id": "314dc036-8739-44ee-ae28-33f19738e99a",
   "metadata": {},
   "outputs": [],
   "source": [
    "# randomly select overlaps for sliding windows\n",
    "! SEED=123 && \\\n",
    "  MIN=1 && \\\n",
    "  MAX=12 && \\\n",
    "  \\\n",
    "  RANDOM=$SEED && \\\n",
    "  for i in {1..5}; do \\\n",
    "    RAND_NUM=$(( ( RANDOM % (MAX - MIN + 1) ) + MIN )) && \\\n",
    "    pyfasta split -k30 -n1 -o $RAND_NUM ../data/processed_files/hg19_genes.fa; done\n",
    "    \n",
    "! cat ../data/processed_files/hg19_genes.split.30mer.*overlap.fa > ../data/processed_files/hg19_genes.split.30mer.fa\n",
    "\n",
    "# randomly sample 1% sequences\n",
    "SEQS=`grep -c \">\" ../data/processed_files/hg19_genes.split.30mer.fa | awk '{print int(($1*0.01)+0.5)}'`\n",
    "! pyfastx sample -n ${SEQS} -s 42 --sequential-read -o ../data/processed_files/hg19_genes.split.30mer.1perc.fa  ../data/processed_files/hg19_genes.split.30mer.fa\n",
    "\n",
    "# get fasta sequences\n",
    "! awk '{print \">\" $1 \"\\n\" $NF}' ../data/processed_files/hg19_mc5.bed > ../data/processed_files/hg19_mc5.fa\n",
    "! awk '{print \">\" $1 \"\\n\" $NF}' ../data/processed_files/hg19_mc3.bed > ../data/processed_files/hg19_mc3.fa\n",
    "\n",
    "# plot logo\n",
    "! for i in ../data/processed_files/hg19_mc*fa; do \\\n",
    "    mkdir -p ${i%.*} && \\\n",
    "    kpLogo $i -bgfile ../data/processed_files/hg19_genes.split.30mer.1perc.fa -o ${i%.*}/kpLogo; done"
   ]
  }
 ],
 "metadata": {
  "kernelspec": {
   "display_name": "Python [conda env:llm]",
   "language": "python",
   "name": "conda-env-llm-py"
  },
  "language_info": {
   "codemirror_mode": {
    "name": "ipython",
    "version": 3
   },
   "file_extension": ".py",
   "mimetype": "text/x-python",
   "name": "python",
   "nbconvert_exporter": "python",
   "pygments_lexer": "ipython3",
   "version": "3.9.16"
  }
 },
 "nbformat": 4,
 "nbformat_minor": 5
}
