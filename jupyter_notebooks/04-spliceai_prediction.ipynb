{
 "cells": [
  {
   "cell_type": "code",
   "execution_count": 1,
   "id": "a33cd4a4-4223-492b-872a-d38afd94cb66",
   "metadata": {},
   "outputs": [],
   "source": [
    "import sys\n",
    "import os\n",
    "import numpy as np\n",
    "import pandas as pd\n",
    "import matplotlib.pyplot as plt\n",
    "import seaborn as sns\n",
    "from tqdm.auto import tqdm\n",
    "tqdm.pandas()\n",
    "\n",
    "\n",
    "scripts_dir = os.path.abspath(os.path.join(os.getcwd(), '../scripts'))\n",
    "\n",
    "if scripts_dir not in sys.path:\n",
    "    sys.path.append(scripts_dir)\n",
    "\n",
    "from openspliceai_helpers import openspliceai_predict\n",
    "from common import extract_quadruplet_rows, performance_metrics"
   ]
  },
  {
   "cell_type": "code",
   "execution_count": 2,
   "id": "93cc54dc-b922-453d-a546-6c9b8847cf2f",
   "metadata": {},
   "outputs": [
    {
     "data": {
      "application/vnd.jupyter.widget-view+json": {
       "model_id": "4bc1f3d4055e425d93bb010316edf970",
       "version_major": 2,
       "version_minor": 0
      },
      "text/plain": [
       "  0%|          | 0/7501 [00:00<?, ?it/s]"
      ]
     },
     "metadata": {},
     "output_type": "display_data"
    }
   ],
   "source": [
    "df = pd.read_csv(\"../ref/hbvdb/pgrna/pgrna_flank200.txt\", header=None, sep=\"\\t\")\n",
    "flanking_size = 400\n",
    "model = f\"../src/OpenSpliceAI/models/openspliceai-mane/{flanking_size}nt/model_{flanking_size}nt_rs14.pt\"\n",
    "\n",
    "df[\"preds\"] = df[3].progress_apply(lambda x: openspliceai_predict(x, model, flanking_size))\n",
    "df[\"length\"] = df[3].apply(len)\n",
    "bf = df[df[\"length\"]==3639].copy()\n",
    "bf[\"seq\"] = bf[3].apply(lambda x: x[200:3440])"
   ]
  },
  {
   "cell_type": "code",
   "execution_count": 3,
   "id": "c9ccd4d4-7ecc-4b0e-94da-f1b5b4d83a67",
   "metadata": {},
   "outputs": [],
   "source": [
    "preds = pd.concat(bf[\"preds\"].tolist())\n",
    "preds.reset_index(drop=True, inplace=True)\n",
    "preds[\"id\"] = bf[0].repeat(3240).reset_index()[0]\n",
    "preds[\"base\"] = list(''.join(bf[\"seq\"].tolist()))\n",
    "preds[\"genotype\"] = bf[1].repeat(3240).reset_index()[1]\n",
    "preds[\"genotype\"] = preds[\"genotype\"].str.replace(\".fa\",\"\")\n",
    "\n",
    "aset = preds[(preds.genotype.str.contains(\"B|C|RF|F\")) & (~preds.genotype.str.contains(\"RFC\"))].copy()\n",
    "aset.columns = [0,\"acceptor probability\",\"donor probability\",\"position\",\"id\",\"base\",\"genotype\"]"
   ]
  },
  {
   "cell_type": "code",
   "execution_count": null,
   "id": "2fd356e5-16fb-4100-bb90-20c2b0022ebd",
   "metadata": {},
   "outputs": [],
   "source": []
  },
  {
   "cell_type": "markdown",
   "id": "59170af5-93a8-4404-ab3e-b8f1c018f610",
   "metadata": {},
   "source": [
    "Prediction results for splice donor sites"
   ]
  },
  {
   "cell_type": "code",
   "execution_count": 4,
   "id": "22770c83-f003-4b99-a7d7-a7e8bd139090",
   "metadata": {},
   "outputs": [],
   "source": [
    "x,g,t,y = extract_quadruplet_rows(aset.reset_index(drop=True), \"base\", \"G\", \"T\", pre_value_any=True)\n",
    "x[\"position\"] = x[\"position\"] + 1../results/figures/"
   ]
  },
  {
   "cell_type": "code",
   "execution_count": 5,
   "id": "67ffd1d4-17d8-4463-8a74-be4118feac71",
   "metadata": {},
   "outputs": [],
   "source": [
    "cosi_long = pd.read_pickle(\"../data/processed_files/cosi_long.pkl.gz\")\n",
    "h = cosi_long[cosi_long[\"Splicing efficiency\"]>=0.1].copy()\n",
    "h[\"group\"] = \"Higher usage\"\n",
    "\n",
    "l = cosi_long[cosi_long[\"Splicing efficiency\"]<0.1].copy()\n",
    "l[\"group\"] = \"Lower usage\"\n",
    "\n",
    "hl = pd.concat([h,l])\n",
    "\n",
    "pos = hl[hl[\"coSI\"]=='$\\\\theta_5$'].copy()\n",
    "pos[\"position\"] =  pos[\"start\"]"
   ]
  },
  {
   "cell_type": "code",
   "execution_count": 6,
   "id": "7f83e437-ec29-4c9b-a137-359856a1144d",
   "metadata": {},
   "outputs": [],
   "source": [
    "a = pd.merge(x, pos[[\"position\",\"group\",\"Splicing efficiency\",\"Splice site\"]], how=\"left\")\n",
    "a = a.sort_values(\"Splicing efficiency\", ascending=False).drop_duplicates([\"position\",0,\"acceptor probability\",\"donor probability\",\"id\",\"genotype\"])\n",
    "a[\"group\"] = a[\"group\"].fillna(\"Non-donor\")"
   ]
  },
  {
   "cell_type": "code",
   "execution_count": 7,
   "id": "a6678576-eea1-44fb-9b10-88ca50578b13",
   "metadata": {},
   "outputs": [
    {
     "data": {
      "image/png": "[encoded data removed]",
      "text/plain": [
       "<Figure size 500x300 with 1 Axes>"
      ]
     },
     "metadata": {},
     "output_type": "display_data"
    }
   ],
   "source": [
    "plt.figure(figsize=(5,3))\n",
    "\n",
    "flierprops = dict(markersize=1, alpha=0.5)\n",
    "g = sns.boxplot(data=a.sort_values(\"genotype\"), x=\"group\", y=\"donor probability\", hue=\"genotype\", \n",
    "                order=[\"Higher usage\",\"Lower usage\",\"Non-donor\"],\n",
    "                palette=\"tab10\", flierprops=flierprops)\n",
    "\n",
    "plt.xlabel(\"donor\")\n",
    "plt.ylabel(\"Probability\")\n",
    "sns.move_legend(g, \"upper left\", bbox_to_anchor=(1, 0.75))\n",
    "plt.savefig(\"../results/figures/fig5/openspliceai_donors.png\", bbox_inches='tight', dpi=300)"
   ]
  },
  {
   "cell_type": "code",
   "execution_count": 8,
   "id": "92e80d50-d16b-4a5a-a1d9-c4326f6fb984",
   "metadata": {},
   "outputs": [
    {
     "data": {
      "text/plain": [
       "group\n",
       "Non-donor       757682\n",
       "Higher usage     25840\n",
       "Lower usage      14277\n",
       "Name: count, dtype: int64"
      ]
     },
     "execution_count": 8,
     "metadata": {},
     "output_type": "execute_result"
    }
   ],
   "source": [
    "a.value_counts(\"group\")"
   ]
  },
  {
   "cell_type": "code",
   "execution_count": 9,
   "id": "c979f7e4-921f-49bb-b5a0-e500e652182b",
   "metadata": {},
   "outputs": [
    {
     "data": {
      "text/plain": [
       "Splice site  genotype\n",
       "donor        B           11\n",
       "             RF          11\n",
       "             C           10\n",
       "             F           10\n",
       "Name: count, dtype: int64"
      ]
     },
     "execution_count": 9,
     "metadata": {},
     "output_type": "execute_result"
    }
   ],
   "source": [
    "a.drop_duplicates([\"Splice site\",\"genotype\",\"position\"]).value_counts([\"Splice site\",\"genotype\"])"
   ]
  },
  {
   "cell_type": "code",
   "execution_count": null,
   "id": "4f731184-0106-430e-b3c8-2f22a5a45792",
   "metadata": {},
   "outputs": [],
   "source": []
  },
  {
   "cell_type": "markdown",
   "id": "eef50588-fc98-4730-b296-9304414ac9ed",
   "metadata": {},
   "source": [
    "Calculate performance metrics for splice donor sites"
   ]
  },
  {
   "cell_type": "code",
   "execution_count": 10,
   "id": "275ebd37-3d9d-44d7-9821-5c0c68fc6ef7",
   "metadata": {},
   "outputs": [],
   "source": [
    "usage = {'Higher usage':1, 'Lower usage':1, 'Non-donor':0}\n",
    "\n",
    "a[\"label\"] = a.group.apply(lambda x: usage[x])\n",
    "\n",
    "y_true = a[\"label\"].to_numpy()\n",
    "y_pred = a[\"donor probability\"].to_numpy()"
   ]
  },
  {
   "cell_type": "code",
   "execution_count": 11,
   "id": "83462749-8165-4f56-a950-6ad41d97eda9",
   "metadata": {},
   "outputs": [
    {
     "name": "stdout",
     "output_type": "stream",
     "text": [
      "\n",
      "AUROC: 0.78\n",
      "AUPRC: 0.61\n",
      "\n",
      "Predicted binary labels unique values: [0 1]\n",
      "\n",
      "Metrics at threshold=0.5:\n",
      "Accuracy: 0.97\n",
      "F1-Score: 0.51\n",
      "Precision: 0.99\n",
      "Recall: 0.34\n",
      "\n",
      "Classification Report at threshold=0.5:\n",
      "              precision    recall  f1-score   support\n",
      "\n",
      "Not Positive       0.97      1.00      0.98    757682\n",
      "    Positive       0.99      0.34      0.51     40117\n",
      "\n",
      "    accuracy                           0.97    797799\n",
      "   macro avg       0.98      0.67      0.75    797799\n",
      "weighted avg       0.97      0.97      0.96    797799\n",
      "\n"
     ]
    }
   ],
   "source": [
    "performance_metrics(y_true, y_pred, 0.5)"
   ]
  },
  {
   "cell_type": "code",
   "execution_count": null,
   "id": "9cb41fa5-552a-4371-82fd-6cdde49cb102",
   "metadata": {},
   "outputs": [],
   "source": []
  },
  {
   "cell_type": "markdown",
   "id": "d4a1f624-3300-4093-8a4d-8476ce4c059a",
   "metadata": {},
   "source": [
    "Prediction results for splice acceptor sites"
   ]
  },
  {
   "cell_type": "code",
   "execution_count": 12,
   "id": "989ebfa7-32de-431a-ba90-9cfcee314137",
   "metadata": {},
   "outputs": [],
   "source": [
    "x,a,g,y = extract_quadruplet_rows(aset.reset_index(drop=True), \"base\", \"A\", \"G\", pre_value_any=True)\n",
    "# n[\"position\"] = n[\"position\"] + 1"
   ]
  },
  {
   "cell_type": "code",
   "execution_count": 13,
   "id": "0c7aa312-e0f4-412a-ab45-08b7c6358c3b",
   "metadata": {},
   "outputs": [],
   "source": [
    "pos = hl[hl[\"coSI\"]=='$\\\\theta_3$'].copy()\n",
    "pos[\"position\"] =  pos[\"end\"]"
   ]
  },
  {
   "cell_type": "code",
   "execution_count": 14,
   "id": "fcb150fe-94f6-45b7-873a-d22c277eb30c",
   "metadata": {},
   "outputs": [],
   "source": [
    "a = pd.merge(y, pos[[\"position\",\"group\",\"Splicing efficiency\",\"Splice site\"]], how=\"left\")\n",
    "a = a.sort_values(\"Splicing efficiency\", ascending=False).drop_duplicates([\"position\",0,\"acceptor probability\",\"donor probability\",\"id\",\"genotype\"])\n",
    "a[\"group\"] = a[\"group\"].fillna(\"Non-acceptor\")"
   ]
  },
  {
   "cell_type": "code",
   "execution_count": 15,
   "id": "a09d6ba6-29c7-4cf9-a4c4-c6e8ceb50e8c",
   "metadata": {},
   "outputs": [
    {
     "data": {
      "image/png": "[encoded data removed]",
      "text/plain": [
       "<Figure size 500x300 with 1 Axes>"
      ]
     },
     "metadata": {},
     "output_type": "display_data"
    }
   ],
   "source": [
    "plt.figure(figsize=(5,3))\n",
    "\n",
    "flierprops = dict(markersize=1, alpha=0.005)\n",
    "g = sns.boxplot(data=a.sort_values(\"genotype\"), x=\"group\", y=\"acceptor probability\", hue=\"genotype\", \n",
    "                order=[\"Higher usage\",\"Lower usage\",\"Non-acceptor\"],\n",
    "                palette=\"tab10\", flierprops=flierprops)\n",
    "\n",
    "plt.xlabel(\"acceptor\")\n",
    "plt.ylabel(\"Probability\")\n",
    "sns.move_legend(g, \"upper left\", bbox_to_anchor=(1, 0.75))\n",
    "plt.savefig(\"../results/figures/fig5/openspliceai_acceptors.png\", bbox_inches='tight', dpi=300)"
   ]
  },
  {
   "cell_type": "code",
   "execution_count": 16,
   "id": "dd1d5747-2912-43de-803f-b8ccc9e8d8cb",
   "metadata": {},
   "outputs": [
    {
     "data": {
      "text/plain": [
       "group\n",
       "Non-acceptor    652160\n",
       "Lower usage      47042\n",
       "Higher usage     20220\n",
       "Name: count, dtype: int64"
      ]
     },
     "execution_count": 16,
     "metadata": {},
     "output_type": "execute_result"
    }
   ],
   "source": [
    "a.value_counts(\"group\")"
   ]
  },
  {
   "cell_type": "code",
   "execution_count": 17,
   "id": "b7d7c251-4fbd-492d-8e4c-507594e8ae22",
   "metadata": {},
   "outputs": [
    {
     "data": {
      "text/plain": [
       "Splice site  genotype\n",
       "acceptor     C           18\n",
       "             B           17\n",
       "             RF          17\n",
       "             F           15\n",
       "Name: count, dtype: int64"
      ]
     },
     "execution_count": 17,
     "metadata": {},
     "output_type": "execute_result"
    }
   ],
   "source": [
    "a.drop_duplicates([\"Splice site\",\"genotype\",\"position\"]).value_counts([\"Splice site\",\"genotype\"])"
   ]
  },
  {
   "cell_type": "code",
   "execution_count": null,
   "id": "54cf2a07-da53-4caa-bdf4-da442bd774e4",
   "metadata": {},
   "outputs": [],
   "source": []
  },
  {
   "cell_type": "markdown",
   "id": "f1a4fe9d-255b-4f6e-a31d-cef7f4da9c96",
   "metadata": {},
   "source": [
    "Calculate performance metrics for splice donor sites"
   ]
  },
  {
   "cell_type": "code",
   "execution_count": 18,
   "id": "6dd6c7a7-7e77-4fc9-a63f-5ad985f49943",
   "metadata": {
    "tags": []
   },
   "outputs": [],
   "source": [
    "usage = {'Higher usage':1, 'Lower usage':1, 'Non-acceptor':0}\n",
    "\n",
    "a[\"label\"] = a.group.apply(lambda x: usage[x])\n",
    "\n",
    "y_true = a[\"label\"].to_numpy()\n",
    "y_pred = a[\"acceptor probability\"].to_numpy()"
   ]
  },
  {
   "cell_type": "code",
   "execution_count": 19,
   "id": "36810bd1-a098-4f46-bdcf-8afaefaa6e4f",
   "metadata": {
    "tags": []
   },
   "outputs": [
    {
     "name": "stdout",
     "output_type": "stream",
     "text": [
      "\n",
      "AUROC: 0.89\n",
      "AUPRC: 0.57\n",
      "\n",
      "Predicted binary labels unique values: [0 1]\n",
      "\n",
      "Metrics at threshold=0.5:\n",
      "Accuracy: 0.91\n",
      "F1-Score: 0.13\n",
      "Precision: 0.97\n",
      "Recall: 0.07\n",
      "\n",
      "Classification Report at threshold=0.5:\n",
      "              precision    recall  f1-score   support\n",
      "\n",
      "Not Positive       0.91      1.00      0.95    652160\n",
      "    Positive       0.97      0.07      0.13     67262\n",
      "\n",
      "    accuracy                           0.91    719422\n",
      "   macro avg       0.94      0.53      0.54    719422\n",
      "weighted avg       0.92      0.91      0.88    719422\n",
      "\n"
     ]
    }
   ],
   "source": [
    "performance_metrics(y_true, y_pred, 0.5)"
   ]
  },
  {
   "cell_type": "code",
   "execution_count": null,
   "id": "dd3018c6-ddc1-4637-93f8-9dd363276b51",
   "metadata": {},
   "outputs": [],
   "source": []
  }
 ],
 "metadata": {
  "kernelspec": {
   "display_name": "Python [conda env:openspliceai]",
   "language": "python",
   "name": "conda-env-openspliceai-py"
  },
  "language_info": {
   "codemirror_mode": {
    "name": "ipython",
    "version": 3
   },
   "file_extension": ".py",
   "mimetype": "text/x-python",
   "name": "python",
   "nbconvert_exporter": "python",
   "pygments_lexer": "ipython3",
   "version": "3.12.11"
  }
 },
 "nbformat": 4,
 "nbformat_minor": 5
}
