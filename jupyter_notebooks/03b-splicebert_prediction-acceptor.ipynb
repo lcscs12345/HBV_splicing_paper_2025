{
 "cells": [
  {
   "cell_type": "code",
   "execution_count": 1,
   "id": "f2a98ae2-cd83-4762-9e19-cb18cc133abf",
   "metadata": {},
   "outputs": [],
   "source": [
    "import sys\n",
    "import os\n",
    "from glob import glob\n",
    "import numpy as np\n",
    "import pandas as pd\n",
    "import matplotlib.pyplot as plt\n",
    "import seaborn as sns\n",
    "import torch\n",
    "from transformers import AutoTokenizer, AutoModelForSequenceClassification\n",
    "import logging\n",
    "\n",
    "logging.basicConfig(level=logging.ERROR, format='%(levelname)s: %(message)s')\n",
    "\n",
    "\n",
    "scripts_dir = os.path.abspath(os.path.join(os.getcwd(), '../scripts'))\n",
    "\n",
    "if scripts_dir not in sys.path:\n",
    "    sys.path.append(scripts_dir)\n",
    "    \n",
    "from common import extract_quadruplet_rows, performance_metrics\n",
    "from splicebert_helpers import predict_with_sliding_window, cal_metric_by_group"
   ]
  },
  {
   "cell_type": "markdown",
   "id": "b4ad3451-e565-471e-b20a-50f59a1edbd9",
   "metadata": {},
   "source": [
    "Load SpliceBERT pretrained model and a fine-tuned acceptor checkpoint"
   ]
  },
  {
   "cell_type": "code",
   "execution_count": 2,
   "id": "691afa1e-e6c5-4a94-96dd-67b993735fba",
   "metadata": {},
   "outputs": [
    {
     "name": "stderr",
     "output_type": "stream",
     "text": [
      "Some weights of the model checkpoint at ../src/SpliceBERT/models/SpliceBERT.510nt/ were not used when initializing BertForSequenceClassification: ['cls.predictions.transform.LayerNorm.weight', 'cls.predictions.decoder.weight', 'cls.predictions.bias', 'cls.predictions.decoder.bias', 'cls.predictions.transform.LayerNorm.bias', 'cls.predictions.transform.dense.bias', 'cls.predictions.transform.dense.weight']\n",
      "- This IS expected if you are initializing BertForSequenceClassification from the checkpoint of a model trained on another task or with another architecture (e.g. initializing a BertForSequenceClassification model from a BertForPreTraining model).\n",
      "- This IS NOT expected if you are initializing BertForSequenceClassification from the checkpoint of a model that you expect to be exactly identical (initializing a BertForSequenceClassification model from a BertForSequenceClassification model).\n",
      "Some weights of BertForSequenceClassification were not initialized from the model checkpoint at ../src/SpliceBERT/models/SpliceBERT.510nt/ and are newly initialized: ['classifier.weight', 'bert.pooler.dense.bias', 'bert.pooler.dense.weight', 'classifier.bias']\n",
      "You should probably TRAIN this model on a down-stream task to be able to use it for predictions and inference.\n"
     ]
    },
    {
     "data": {
      "text/plain": [
       "BertForSequenceClassification(\n",
       "  (bert): BertModel(\n",
       "    (embeddings): BertEmbeddings(\n",
       "      (word_embeddings): Embedding(10, 512, padding_idx=0)\n",
       "      (position_embeddings): Embedding(512, 512)\n",
       "      (token_type_embeddings): Embedding(2, 512)\n",
       "      (LayerNorm): LayerNorm((512,), eps=1e-12, elementwise_affine=True)\n",
       "      (dropout): Dropout(p=0.1, inplace=False)\n",
       "    )\n",
       "    (encoder): BertEncoder(\n",
       "      (layer): ModuleList(\n",
       "        (0-5): 6 x BertLayer(\n",
       "          (attention): BertAttention(\n",
       "            (self): BertSelfAttention(\n",
       "              (query): Linear(in_features=512, out_features=512, bias=True)\n",
       "              (key): Linear(in_features=512, out_features=512, bias=True)\n",
       "              (value): Linear(in_features=512, out_features=512, bias=True)\n",
       "              (dropout): Dropout(p=0.1, inplace=False)\n",
       "            )\n",
       "            (output): BertSelfOutput(\n",
       "              (dense): Linear(in_features=512, out_features=512, bias=True)\n",
       "              (LayerNorm): LayerNorm((512,), eps=1e-12, elementwise_affine=True)\n",
       "              (dropout): Dropout(p=0.1, inplace=False)\n",
       "            )\n",
       "          )\n",
       "          (intermediate): BertIntermediate(\n",
       "            (dense): Linear(in_features=512, out_features=2048, bias=True)\n",
       "            (intermediate_act_fn): GELUActivation()\n",
       "          )\n",
       "          (output): BertOutput(\n",
       "            (dense): Linear(in_features=2048, out_features=512, bias=True)\n",
       "            (LayerNorm): LayerNorm((512,), eps=1e-12, elementwise_affine=True)\n",
       "            (dropout): Dropout(p=0.1, inplace=False)\n",
       "          )\n",
       "        )\n",
       "      )\n",
       "    )\n",
       "    (pooler): BertPooler(\n",
       "      (dense): Linear(in_features=512, out_features=512, bias=True)\n",
       "      (activation): Tanh()\n",
       "    )\n",
       "  )\n",
       "  (dropout): Dropout(p=0.1, inplace=False)\n",
       "  (classifier): Linear(in_features=512, out_features=1, bias=True)\n",
       ")"
      ]
     },
     "execution_count": 2,
     "metadata": {},
     "output_type": "execute_result"
    }
   ],
   "source": [
    "SPLICEBERT_510 = \"../src/SpliceBERT/models/SpliceBERT.510nt/\"\n",
    "tokenizer = AutoTokenizer.from_pretrained(SPLICEBERT_510)\n",
    "\n",
    "# Acceptor checkpoint\n",
    "weights = \"/home/limch05p/lim_group/cslim/hbv/src/SpliceBERT/examples/04-splicesite-prediction/output/finetune_splicebert_on_spliceator_GS-GS_1_acceptor_cv/fold0/checkpoint.pt.best_model.pt\"\n",
    "\n",
    "device = torch.device(\"cuda\" if torch.cuda.is_available() else \"cpu\")\n",
    "\n",
    "model = AutoModelForSequenceClassification.from_pretrained(SPLICEBERT_510, num_labels=1).to(device)\n",
    "\n",
    "# Load the checkpoint dictionary\n",
    "checkpoint = torch.load(weights, map_location=\"cpu\")\n",
    "model_state_dict = checkpoint[\"model\"]\n",
    "\n",
    "# Remove the missing key\n",
    "if \"bert.embeddings.position_ids\" in model_state_dict:\n",
    "    del model_state_dict[\"bert.embeddings.position_ids\"]\n",
    "\n",
    "model.load_state_dict(model_state_dict, strict=False)\n",
    "model.eval()"
   ]
  },
  {
   "cell_type": "code",
   "execution_count": 3,
   "id": "d9aebc83-367f-4bf7-9ce3-901959117cf5",
   "metadata": {},
   "outputs": [
    {
     "data": {
      "application/vnd.jupyter.widget-view+json": {
       "model_id": "6d4c18615d734ec2b26e9df11307148a",
       "version_major": 2,
       "version_minor": 0
      },
      "text/plain": [
       "  0%|          | 0/200 [00:00<?, ?it/s]"
      ]
     },
     "metadata": {},
     "output_type": "display_data"
    },
    {
     "name": "stdout",
     "output_type": "stream",
     "text": [
      "Progress: 3%"
     ]
    },
    {
     "data": {
      "application/vnd.jupyter.widget-view+json": {
       "model_id": "c7f814a9764949b0aaa5e24cf79ab845",
       "version_major": 2,
       "version_minor": 0
      },
      "text/plain": [
       "  0%|          | 0/200 [00:00<?, ?it/s]"
      ]
     },
     "metadata": {},
     "output_type": "display_data"
    },
    {
     "name": "stdout",
     "output_type": "stream",
     "text": [
      "Progress: 5%"
     ]
    },
    {
     "data": {
      "application/vnd.jupyter.widget-view+json": {
       "model_id": "c8b7377b908547e6a5652e1efd208cd1",
       "version_major": 2,
       "version_minor": 0
      },
      "text/plain": [
       "  0%|          | 0/200 [00:00<?, ?it/s]"
      ]
     },
     "metadata": {},
     "output_type": "display_data"
    },
    {
     "name": "stdout",
     "output_type": "stream",
     "text": [
      "Progress: 8%"
     ]
    },
    {
     "data": {
      "application/vnd.jupyter.widget-view+json": {
       "model_id": "099823b4abb246d0a716ccaa3f6fe5ea",
       "version_major": 2,
       "version_minor": 0
      },
      "text/plain": [
       "  0%|          | 0/200 [00:00<?, ?it/s]"
      ]
     },
     "metadata": {},
     "output_type": "display_data"
    },
    {
     "name": "stdout",
     "output_type": "stream",
     "text": [
      "Progress: 11%"
     ]
    },
    {
     "data": {
      "application/vnd.jupyter.widget-view+json": {
       "model_id": "6fbcb03a1d9b4df3bf386e539e496909",
       "version_major": 2,
       "version_minor": 0
      },
      "text/plain": [
       "  0%|          | 0/200 [00:00<?, ?it/s]"
      ]
     },
     "metadata": {},
     "output_type": "display_data"
    },
    {
     "name": "stdout",
     "output_type": "stream",
     "text": [
      "Progress: 13%"
     ]
    },
    {
     "data": {
      "application/vnd.jupyter.widget-view+json": {
       "model_id": "3ac37dacc3ab425a9ae3ea56bca8c035",
       "version_major": 2,
       "version_minor": 0
      },
      "text/plain": [
       "  0%|          | 0/200 [00:00<?, ?it/s]"
      ]
     },
     "metadata": {},
     "output_type": "display_data"
    },
    {
     "name": "stdout",
     "output_type": "stream",
     "text": [
      "Progress: 16%"
     ]
    },
    {
     "data": {
      "application/vnd.jupyter.widget-view+json": {
       "model_id": "aaf66d277a2349ceb19bfa20841975e7",
       "version_major": 2,
       "version_minor": 0
      },
      "text/plain": [
       "  0%|          | 0/200 [00:00<?, ?it/s]"
      ]
     },
     "metadata": {},
     "output_type": "display_data"
    },
    {
     "name": "stdout",
     "output_type": "stream",
     "text": [
      "Progress: 18%"
     ]
    },
    {
     "data": {
      "application/vnd.jupyter.widget-view+json": {
       "model_id": "a9615f6277af4c0a801819b3132ccc31",
       "version_major": 2,
       "version_minor": 0
      },
      "text/plain": [
       "  0%|          | 0/200 [00:00<?, ?it/s]"
      ]
     },
     "metadata": {},
     "output_type": "display_data"
    },
    {
     "name": "stdout",
     "output_type": "stream",
     "text": [
      "Progress: 21%"
     ]
    },
    {
     "data": {
      "application/vnd.jupyter.widget-view+json": {
       "model_id": "13c45bb314544cacaeadf81801b2e140",
       "version_major": 2,
       "version_minor": 0
      },
      "text/plain": [
       "  0%|          | 0/200 [00:00<?, ?it/s]"
      ]
     },
     "metadata": {},
     "output_type": "display_data"
    },
    {
     "name": "stdout",
     "output_type": "stream",
     "text": [
      "Progress: 24%"
     ]
    },
    {
     "data": {
      "application/vnd.jupyter.widget-view+json": {
       "model_id": "2acd97b75c3844b59212469e39fcbf82",
       "version_major": 2,
       "version_minor": 0
      },
      "text/plain": [
       "  0%|          | 0/200 [00:00<?, ?it/s]"
      ]
     },
     "metadata": {},
     "output_type": "display_data"
    },
    {
     "name": "stdout",
     "output_type": "stream",
     "text": [
      "Progress: 26%"
     ]
    },
    {
     "data": {
      "application/vnd.jupyter.widget-view+json": {
       "model_id": "3f5757bbc6064fca9c3163d341b200b9",
       "version_major": 2,
       "version_minor": 0
      },
      "text/plain": [
       "  0%|          | 0/200 [00:00<?, ?it/s]"
      ]
     },
     "metadata": {},
     "output_type": "display_data"
    },
    {
     "name": "stdout",
     "output_type": "stream",
     "text": [
      "Progress: 29%"
     ]
    },
    {
     "data": {
      "application/vnd.jupyter.widget-view+json": {
       "model_id": "e5248eebc9404986969de737ea0a5cf8",
       "version_major": 2,
       "version_minor": 0
      },
      "text/plain": [
       "  0%|          | 0/200 [00:00<?, ?it/s]"
      ]
     },
     "metadata": {},
     "output_type": "display_data"
    },
    {
     "name": "stdout",
     "output_type": "stream",
     "text": [
      "Progress: 32%"
     ]
    },
    {
     "data": {
      "application/vnd.jupyter.widget-view+json": {
       "model_id": "a87cd1b908d84892846192abc5a5f56c",
       "version_major": 2,
       "version_minor": 0
      },
      "text/plain": [
       "  0%|          | 0/200 [00:00<?, ?it/s]"
      ]
     },
     "metadata": {},
     "output_type": "display_data"
    },
    {
     "name": "stdout",
     "output_type": "stream",
     "text": [
      "Progress: 34%"
     ]
    },
    {
     "data": {
      "application/vnd.jupyter.widget-view+json": {
       "model_id": "6e09745e42e0488d98978a24f12a06bb",
       "version_major": 2,
       "version_minor": 0
      },
      "text/plain": [
       "  0%|          | 0/200 [00:00<?, ?it/s]"
      ]
     },
     "metadata": {},
     "output_type": "display_data"
    },
    {
     "name": "stdout",
     "output_type": "stream",
     "text": [
      "Progress: 37%"
     ]
    },
    {
     "data": {
      "application/vnd.jupyter.widget-view+json": {
       "model_id": "342f51b5b85740f0977c98566f8f4a38",
       "version_major": 2,
       "version_minor": 0
      },
      "text/plain": [
       "  0%|          | 0/200 [00:00<?, ?it/s]"
      ]
     },
     "metadata": {},
     "output_type": "display_data"
    },
    {
     "name": "stdout",
     "output_type": "stream",
     "text": [
      "Progress: 39%"
     ]
    },
    {
     "data": {
      "application/vnd.jupyter.widget-view+json": {
       "model_id": "c9787d648b1e45d38a19b3512234e52f",
       "version_major": 2,
       "version_minor": 0
      },
      "text/plain": [
       "  0%|          | 0/200 [00:00<?, ?it/s]"
      ]
     },
     "metadata": {},
     "output_type": "display_data"
    },
    {
     "name": "stdout",
     "output_type": "stream",
     "text": [
      "Progress: 42%"
     ]
    },
    {
     "data": {
      "application/vnd.jupyter.widget-view+json": {
       "model_id": "ee09e5108e8a4bf49cf9f84da0a1cbde",
       "version_major": 2,
       "version_minor": 0
      },
      "text/plain": [
       "  0%|          | 0/200 [00:00<?, ?it/s]"
      ]
     },
     "metadata": {},
     "output_type": "display_data"
    },
    {
     "name": "stdout",
     "output_type": "stream",
     "text": [
      "Progress: 45%"
     ]
    },
    {
     "data": {
      "application/vnd.jupyter.widget-view+json": {
       "model_id": "7f734a95a6034342b9834ee2dbfe9236",
       "version_major": 2,
       "version_minor": 0
      },
      "text/plain": [
       "  0%|          | 0/200 [00:00<?, ?it/s]"
      ]
     },
     "metadata": {},
     "output_type": "display_data"
    },
    {
     "name": "stdout",
     "output_type": "stream",
     "text": [
      "Progress: 47%"
     ]
    },
    {
     "data": {
      "application/vnd.jupyter.widget-view+json": {
       "model_id": "c3c184b5034b4388a47990cfe0dfd853",
       "version_major": 2,
       "version_minor": 0
      },
      "text/plain": [
       "  0%|          | 0/200 [00:00<?, ?it/s]"
      ]
     },
     "metadata": {},
     "output_type": "display_data"
    },
    {
     "name": "stdout",
     "output_type": "stream",
     "text": [
      "Progress: 50%"
     ]
    },
    {
     "data": {
      "application/vnd.jupyter.widget-view+json": {
       "model_id": "c805ade15d004188898c87a17fb91c69",
       "version_major": 2,
       "version_minor": 0
      },
      "text/plain": [
       "  0%|          | 0/200 [00:00<?, ?it/s]"
      ]
     },
     "metadata": {},
     "output_type": "display_data"
    },
    {
     "name": "stdout",
     "output_type": "stream",
     "text": [
      "Progress: 53%"
     ]
    },
    {
     "data": {
      "application/vnd.jupyter.widget-view+json": {
       "model_id": "aa497e6e703c42bf8156f9c3853bcec4",
       "version_major": 2,
       "version_minor": 0
      },
      "text/plain": [
       "  0%|          | 0/200 [00:00<?, ?it/s]"
      ]
     },
     "metadata": {},
     "output_type": "display_data"
    },
    {
     "name": "stdout",
     "output_type": "stream",
     "text": [
      "Progress: 55%"
     ]
    },
    {
     "data": {
      "application/vnd.jupyter.widget-view+json": {
       "model_id": "cc0d50cfe4c2482cab68690a8dd7ce0d",
       "version_major": 2,
       "version_minor": 0
      },
      "text/plain": [
       "  0%|          | 0/200 [00:00<?, ?it/s]"
      ]
     },
     "metadata": {},
     "output_type": "display_data"
    },
    {
     "name": "stdout",
     "output_type": "stream",
     "text": [
      "Progress: 58%"
     ]
    },
    {
     "data": {
      "application/vnd.jupyter.widget-view+json": {
       "model_id": "ab2d711b66d64c31af82f0f6cbe684ce",
       "version_major": 2,
       "version_minor": 0
      },
      "text/plain": [
       "  0%|          | 0/200 [00:00<?, ?it/s]"
      ]
     },
     "metadata": {},
     "output_type": "display_data"
    },
    {
     "name": "stdout",
     "output_type": "stream",
     "text": [
      "Progress: 61%"
     ]
    },
    {
     "data": {
      "application/vnd.jupyter.widget-view+json": {
       "model_id": "186f6b9503764ce5a5bc9fa9e3e42b9d",
       "version_major": 2,
       "version_minor": 0
      },
      "text/plain": [
       "  0%|          | 0/200 [00:00<?, ?it/s]"
      ]
     },
     "metadata": {},
     "output_type": "display_data"
    },
    {
     "name": "stdout",
     "output_type": "stream",
     "text": [
      "Progress: 63%"
     ]
    },
    {
     "data": {
      "application/vnd.jupyter.widget-view+json": {
       "model_id": "6f9bdaf5fba74d52909ebeb12f28e0bf",
       "version_major": 2,
       "version_minor": 0
      },
      "text/plain": [
       "  0%|          | 0/200 [00:00<?, ?it/s]"
      ]
     },
     "metadata": {},
     "output_type": "display_data"
    },
    {
     "name": "stdout",
     "output_type": "stream",
     "text": [
      "Progress: 66%"
     ]
    },
    {
     "data": {
      "application/vnd.jupyter.widget-view+json": {
       "model_id": "ffe58f09a576402b8d2e39cd666e52ca",
       "version_major": 2,
       "version_minor": 0
      },
      "text/plain": [
       "  0%|          | 0/200 [00:00<?, ?it/s]"
      ]
     },
     "metadata": {},
     "output_type": "display_data"
    },
    {
     "name": "stdout",
     "output_type": "stream",
     "text": [
      "Progress: 68%"
     ]
    },
    {
     "data": {
      "application/vnd.jupyter.widget-view+json": {
       "model_id": "1f11dbbe207a48b8a3e87fd6ffec8d29",
       "version_major": 2,
       "version_minor": 0
      },
      "text/plain": [
       "  0%|          | 0/200 [00:00<?, ?it/s]"
      ]
     },
     "metadata": {},
     "output_type": "display_data"
    },
    {
     "name": "stdout",
     "output_type": "stream",
     "text": [
      "Progress: 71%"
     ]
    },
    {
     "data": {
      "application/vnd.jupyter.widget-view+json": {
       "model_id": "f36b2401167d42b6a566173ab0f66f89",
       "version_major": 2,
       "version_minor": 0
      },
      "text/plain": [
       "  0%|          | 0/200 [00:00<?, ?it/s]"
      ]
     },
     "metadata": {},
     "output_type": "display_data"
    },
    {
     "name": "stdout",
     "output_type": "stream",
     "text": [
      "Progress: 74%"
     ]
    },
    {
     "data": {
      "application/vnd.jupyter.widget-view+json": {
       "model_id": "bac915153efc41668e6a6cdac7ab59f8",
       "version_major": 2,
       "version_minor": 0
      },
      "text/plain": [
       "  0%|          | 0/200 [00:00<?, ?it/s]"
      ]
     },
     "metadata": {},
     "output_type": "display_data"
    },
    {
     "name": "stdout",
     "output_type": "stream",
     "text": [
      "Progress: 76%"
     ]
    },
    {
     "data": {
      "application/vnd.jupyter.widget-view+json": {
       "model_id": "3afc3b291e0944bdab1ec177e44f4b00",
       "version_major": 2,
       "version_minor": 0
      },
      "text/plain": [
       "  0%|          | 0/200 [00:00<?, ?it/s]"
      ]
     },
     "metadata": {},
     "output_type": "display_data"
    },
    {
     "name": "stdout",
     "output_type": "stream",
     "text": [
      "Progress: 79%"
     ]
    },
    {
     "data": {
      "application/vnd.jupyter.widget-view+json": {
       "model_id": "73221dd00fa1485888573c4a428e6832",
       "version_major": 2,
       "version_minor": 0
      },
      "text/plain": [
       "  0%|          | 0/200 [00:00<?, ?it/s]"
      ]
     },
     "metadata": {},
     "output_type": "display_data"
    },
    {
     "name": "stdout",
     "output_type": "stream",
     "text": [
      "Progress: 82%"
     ]
    },
    {
     "data": {
      "application/vnd.jupyter.widget-view+json": {
       "model_id": "6d7c69506fca4044988895853772e366",
       "version_major": 2,
       "version_minor": 0
      },
      "text/plain": [
       "  0%|          | 0/200 [00:00<?, ?it/s]"
      ]
     },
     "metadata": {},
     "output_type": "display_data"
    },
    {
     "name": "stdout",
     "output_type": "stream",
     "text": [
      "Progress: 84%"
     ]
    },
    {
     "data": {
      "application/vnd.jupyter.widget-view+json": {
       "model_id": "92dd33d911ee4282b7dce2a1fb11dd3b",
       "version_major": 2,
       "version_minor": 0
      },
      "text/plain": [
       "  0%|          | 0/200 [00:00<?, ?it/s]"
      ]
     },
     "metadata": {},
     "output_type": "display_data"
    },
    {
     "name": "stdout",
     "output_type": "stream",
     "text": [
      "Progress: 87%"
     ]
    },
    {
     "data": {
      "application/vnd.jupyter.widget-view+json": {
       "model_id": "49aad3ee254a4f2fa4e4f10a74267e68",
       "version_major": 2,
       "version_minor": 0
      },
      "text/plain": [
       "  0%|          | 0/200 [00:00<?, ?it/s]"
      ]
     },
     "metadata": {},
     "output_type": "display_data"
    },
    {
     "name": "stdout",
     "output_type": "stream",
     "text": [
      "Progress: 89%"
     ]
    },
    {
     "data": {
      "application/vnd.jupyter.widget-view+json": {
       "model_id": "42989c1696d24660ad8750c273070b01",
       "version_major": 2,
       "version_minor": 0
      },
      "text/plain": [
       "  0%|          | 0/200 [00:00<?, ?it/s]"
      ]
     },
     "metadata": {},
     "output_type": "display_data"
    },
    {
     "name": "stdout",
     "output_type": "stream",
     "text": [
      "Progress: 92%"
     ]
    },
    {
     "data": {
      "application/vnd.jupyter.widget-view+json": {
       "model_id": "588430b797b441c6920195124bc688ff",
       "version_major": 2,
       "version_minor": 0
      },
      "text/plain": [
       "  0%|          | 0/200 [00:00<?, ?it/s]"
      ]
     },
     "metadata": {},
     "output_type": "display_data"
    },
    {
     "name": "stdout",
     "output_type": "stream",
     "text": [
      "Progress: 95%"
     ]
    },
    {
     "data": {
      "application/vnd.jupyter.widget-view+json": {
       "model_id": "a06564bd4712460cbbcb93cbe8fa72af",
       "version_major": 2,
       "version_minor": 0
      },
      "text/plain": [
       "  0%|          | 0/200 [00:00<?, ?it/s]"
      ]
     },
     "metadata": {},
     "output_type": "display_data"
    },
    {
     "name": "stdout",
     "output_type": "stream",
     "text": [
      "Progress: 97%"
     ]
    },
    {
     "data": {
      "application/vnd.jupyter.widget-view+json": {
       "model_id": "aa3daf7e0658431b911901ff444ea657",
       "version_major": 2,
       "version_minor": 0
      },
      "text/plain": [
       "  0%|          | 0/101 [00:00<?, ?it/s]"
      ]
     },
     "metadata": {},
     "output_type": "display_data"
    },
    {
     "name": "stdout",
     "output_type": "stream",
     "text": [
      "Progress: 100%"
     ]
    }
   ],
   "source": [
    "from tqdm.auto import tqdm\n",
    "tqdm.pandas()\n",
    "\n",
    "files = sorted(glob(\"../data/processed_files/pgrna/pgrna_flank200_*\"))\n",
    "\n",
    "for i in files:\n",
    "    path, basename = os.path.split(i)\n",
    "    index = int(basename.split(\"_\")[2])\n",
    "    \n",
    "    hbvdb = pd.read_csv(i, sep=\"\\t\", header=None)\n",
    "    hbvdb.columns = [\"tid\",\"genotype\",\"length\",\"seq\"]\n",
    "\n",
    "    hbvdb[\"splicebert_cls\"] = hbvdb.seq.progress_apply(lambda x: predict_with_sliding_window(\n",
    "            x,\n",
    "            model,\n",
    "            tokenizer,\n",
    "            max_len=400,\n",
    "            stride=1, # Slide by 1 nucleotide\n",
    "            dnabert_k=None,\n",
    "            device=device\n",
    "        ))\n",
    "    hbvdb.to_pickle(f\"{path}/splicebert_hbvdb_{index}.AG.pkl.gz\")\n",
    "    sys.stdout.write(f\"\\rProgress: {round((index+1)/len(files)*100)}%\")\n",
    "    sys.stdout.flush()"
   ]
  },
  {
   "cell_type": "code",
   "execution_count": null,
   "id": "c2739d6a-9e0c-4c56-ac97-67d33bdd21d2",
   "metadata": {},
   "outputs": [],
   "source": []
  },
  {
   "cell_type": "markdown",
   "id": "bf7a989e-b325-4c48-a80a-b83f497b014e",
   "metadata": {},
   "source": [
    "Process sliding window output"
   ]
  },
  {
   "cell_type": "code",
   "execution_count": 4,
   "id": "30aea95d-19e4-42a3-900a-eea12db85c9b",
   "metadata": {},
   "outputs": [
    {
     "data": {
      "text/plain": [
       "genotype  length\n",
       "C         3639      2084\n",
       "B         3639      1728\n",
       "D         3606      1059\n",
       "A         3645       856\n",
       "RF        3639       642\n",
       "E         3636       301\n",
       "F         3639       252\n",
       "RF        3606       237\n",
       "C         3621        40\n",
       "G         3708        37\n",
       "H         3639        27\n",
       "B         3645        17\n",
       "RF        3645        16\n",
       "          3636        14\n",
       "C         3624        14\n",
       "D         3639         9\n",
       "C         3597         9\n",
       "D         3612         8\n",
       "C         3588         7\n",
       "RF        3708         7\n",
       "Name: count, dtype: int64"
      ]
     },
     "execution_count": 4,
     "metadata": {},
     "output_type": "execute_result"
    }
   ],
   "source": [
    "pred_acceptor = []\n",
    "\n",
    "for i in glob(\"/home/limch05p/lim_group/cslim/hbv/doc/SRA/pgrna/*.AG.pkl.gz\"):\n",
    "    pred = pd.read_pickle(i)\n",
    "    pred_acceptor.append(pred)\n",
    "    \n",
    "pred_acceptor = pd.concat(pred_acceptor)\n",
    "pred_acceptor[\"genotype\"] = pred_acceptor[\"genotype\"].str.replace(\".fa\",\"\")\n",
    "pred_acceptor['seq'] = pred_acceptor.seq.apply(lambda x: list(x[200:-199]))\n",
    "pred_acceptor.value_counts([\"genotype\",\"length\"]).head(20)"
   ]
  },
  {
   "cell_type": "code",
   "execution_count": 5,
   "id": "afcc93e3-ae3d-49cf-a6a5-32c0a6c56735",
   "metadata": {},
   "outputs": [],
   "source": [
    "pred_acceptor = pred_acceptor[(pred_acceptor[\"length\"]==3639)].copy()\n",
    "pred_acceptor[\"splicebert_cls\"]= pred_acceptor[\"splicebert_cls\"].apply(lambda x: pd.DataFrame(x))\n",
    "apreds = pd.concat(pred_acceptor[\"splicebert_cls\"].tolist())\n",
    "apreds[0] = apreds[0].apply(lambda x: x-200)\n",
    "apreds.columns = [\"position\",\"logit\",\"prob\"]\n",
    "apreds.reset_index(drop=True, inplace=True)\n",
    "apreds[\"id\"] = pred_acceptor[\"tid\"].repeat(3240).reset_index().tid\n",
    "apreds = pd.merge(apreds, pred_acceptor[[\"tid\",\"genotype\"]].rename(columns={\"tid\":\"id\"}))\n",
    "apreds[\"base\"] = list(np.concatenate(pred_acceptor[\"seq\"].tolist()))"
   ]
  },
  {
   "cell_type": "code",
   "execution_count": 6,
   "id": "1729778e-3871-45c6-9d98-bbe1ddb6f98c",
   "metadata": {},
   "outputs": [],
   "source": [
    "aset = apreds[apreds.genotype.str.contains(\"B|C|RF|F\")].copy()\n",
    "aset = aset[~aset.genotype.str.contains(\"RFC\")].copy()\n",
    "asl = aset.groupby([\"id\",\"genotype\"]).logit.apply(list).reset_index()"
   ]
  },
  {
   "cell_type": "code",
   "execution_count": null,
   "id": "aabe4210-23ab-4248-8432-7cca1158e1e9",
   "metadata": {},
   "outputs": [],
   "source": []
  },
  {
   "cell_type": "markdown",
   "id": "6dface66-bd11-4a41-a4ca-0aca170e063b",
   "metadata": {},
   "source": [
    "Dimensional reduction and clustering"
   ]
  },
  {
   "cell_type": "code",
   "execution_count": 8,
   "id": "eb1e134c-1fed-44db-91ff-a64aa91a0445",
   "metadata": {
    "tags": []
   },
   "outputs": [
    {
     "name": "stderr",
     "output_type": "stream",
     "text": [
      "/tmp/ipykernel_665438/374722927.py:10: FutureWarning: In the future, the default backend for leiden will be igraph instead of leidenalg.\n",
      "\n",
      " To achieve the future defaults please pass: flavor=\"igraph\" and n_iterations=2.  directed must also be False to work with igraph's implementation.\n",
      "  sc.tl.leiden(adata, resolution=0.2)\n"
     ]
    }
   ],
   "source": [
    "import scanpy as sc\n",
    "\n",
    "adata = sc.AnnData(np.array(asl.logit.tolist()))\n",
    "adata.obs[\"id\"] = asl[\"id\"].tolist()\n",
    "adata.obs[\"genotype\"] = asl[\"genotype\"].tolist()\n",
    "\n",
    "sc.pp.pca(adata, n_comps=128, random_state=0)\n",
    "sc.pp.neighbors(adata, use_rep='X_pca', n_neighbors=50)\n",
    "sc.tl.umap(adata, random_state=0)\n",
    "sc.tl.leiden(adata, resolution=0.2)"
   ]
  },
  {
   "cell_type": "code",
   "execution_count": 6,
   "id": "3e6d935d-5901-4141-8c90-a78edd84b8d2",
   "metadata": {},
   "outputs": [
    {
     "data": {
      "image/png": "[encoded data removed]",
      "text/plain": [
       "<Figure size 300x300 with 1 Axes>"
      ]
     },
     "metadata": {},
     "output_type": "display_data"
    },
    {
     "data": {
      "text/plain": [
       "<Figure size 640x480 with 0 Axes>"
      ]
     },
     "metadata": {},
     "output_type": "display_data"
    }
   ],
   "source": [
    "fig, ax = plt.subplots(figsize=(3, 3))\n",
    "\n",
    "sc.pl.umap(adata, ax=ax, color=\"genotype\", size=10, palette=\"tab20b\", alpha=0.5)\n",
    "\n",
    "plt.tight_layout()\n",
    "fig.savefig(\"../results/figures/fig4/umap.logit_acceptors.png\", bbox_inches='tight', dpi=300)"
   ]
  },
  {
   "cell_type": "code",
   "execution_count": 7,
   "id": "e1b3e493-4bcf-4aa2-8823-70375cf5e8e2",
   "metadata": {},
   "outputs": [
    {
     "data": {
      "image/png": "[encoded data removed]",
      "text/plain": [
       "<Figure size 300x300 with 1 Axes>"
      ]
     },
     "metadata": {},
     "output_type": "display_data"
    },
    {
     "data": {
      "text/plain": [
       "<Figure size 640x480 with 0 Axes>"
      ]
     },
     "metadata": {},
     "output_type": "display_data"
    }
   ],
   "source": [
    "fig, ax = plt.subplots(figsize=(3, 3))\n",
    "\n",
    "sc.pl.umap(adata, ax=ax, color=\"leiden\", size=10, palette=\"tab20\", alpha=0.5)\n",
    "\n",
    "plt.tight_layout()\n",
    "fig.savefig(\"../results/figures/fig4/umap.logit_acceptors.leiden.png\", bbox_inches='tight', dpi=300)"
   ]
  },
  {
   "cell_type": "code",
   "execution_count": 9,
   "id": "e1533fb7-4620-4e16-a699-46a29d3ee1d3",
   "metadata": {},
   "outputs": [
    {
     "data": {
      "text/plain": [
       "0.5464636264466872"
      ]
     },
     "execution_count": 9,
     "metadata": {},
     "output_type": "execute_result"
    }
   ],
   "source": [
    "cal_metric_by_group(adata.obs[\"genotype\"], adata.obs[\"leiden\"], acceptors=adata.obs[\"genotype\"].unique().tolist())"
   ]
  },
  {
   "cell_type": "code",
   "execution_count": null,
   "id": "a9217a4c-f216-4d15-9119-c64f50a44c58",
   "metadata": {},
   "outputs": [],
   "source": []
  },
  {
   "cell_type": "code",
   "execution_count": 11,
   "id": "e87204f0-3718-4cd1-8fef-0215cd69aa3f",
   "metadata": {},
   "outputs": [],
   "source": [
    "x,a,ag,y = extract_quadruplet_rows(aset.reset_index(drop=True), \"base\", \"A\", \"G\", pre_value_any=True)\n",
    "ag[\"position\"] = ag[\"position\"] + 1"
   ]
  },
  {
   "cell_type": "code",
   "execution_count": 12,
   "id": "f0cbe167-ff61-44fe-8e06-60c9c94d1a9c",
   "metadata": {},
   "outputs": [
    {
     "data": {
      "text/plain": [
       "genotype  base\n",
       "C         G       2084\n",
       "B         G       1728\n",
       "RF        G        642\n",
       "F         G        252\n",
       "Name: count, dtype: int64"
      ]
     },
     "execution_count": 12,
     "metadata": {},
     "output_type": "execute_result"
    }
   ],
   "source": [
    "ag.drop_duplicates([\"id\",\"base\"]).value_counts([\"genotype\",\"base\"])"
   ]
  },
  {
   "cell_type": "code",
   "execution_count": 13,
   "id": "7d170d82-6ac5-4394-880c-16a9d7f06abc",
   "metadata": {},
   "outputs": [],
   "source": [
    "cosi_long = pd.read_pickle(\"../data/processed_files/cosi_long.pkl.gz\")\n",
    "h = cosi_long[cosi_long[\"Splicing efficiency\"]>=0.1].copy()\n",
    "h[\"group\"] = \"Higher usage\"\n",
    "\n",
    "l = cosi_long[cosi_long[\"Splicing efficiency\"]<0.1].copy()\n",
    "l[\"group\"] = \"Lower usage\"\n",
    "\n",
    "hl = pd.concat([h,l])\n",
    "\n",
    "pos = hl[hl[\"coSI\"]=='$\\\\theta_3$'].copy()\n",
    "pos[\"position\"] =  pos[\"end\"]\n",
    "\n",
    "a = pd.merge(ag, pos[[\"position\",\"group\",\"Splicing efficiency\",\"Splice site\"]], how=\"left\")\n",
    "a = a.sort_values(\"Splicing efficiency\", ascending=False).drop_duplicates([\"position\",\"logit\",\"prob\",\"id\",\"genotype\"])\n",
    "a[\"group\"] = a[\"group\"].fillna(\"Non-acceptor\")"
   ]
  },
  {
   "cell_type": "code",
   "execution_count": 14,
   "id": "19a01297-c516-45eb-a9a0-d7d6287df910",
   "metadata": {},
   "outputs": [
    {
     "data": {
      "image/png": "[encoded data removed]",
      "text/plain": [
       "<Figure size 500x300 with 1 Axes>"
      ]
     },
     "metadata": {},
     "output_type": "display_data"
    }
   ],
   "source": [
    "plt.figure(figsize=(5,3))\n",
    "\n",
    "flierprops = dict(markersize=1, alpha=0.005)\n",
    "g = sns.boxplot(data=a.sort_values(\"genotype\"), x=\"group\", y=\"logit\", hue=\"genotype\", \n",
    "                palette=\"tab10\", flierprops=flierprops,\n",
    "                order=[\"Higher usage\",\"Lower usage\",\"Non-acceptor\"])#, showfliers=False)\n",
    "# g = sns.stripplot(data=a, x=\"group\", y=\"logit\", hue=\"genotype\", \n",
    "#                   edgecolor='black', linewidth=0.1, alpha=0.01, jitter=0.25, s=1, \n",
    "#                   palette=\"tab10\", dodge=True, legend=False)\n",
    "plt.xlabel(\"acceptor\")\n",
    "# g.set(xlabel=None)\n",
    "plt.ylabel(\"Logit\")\n",
    "sns.move_legend(g, \"upper left\", bbox_to_anchor=(1, 0.75))\n",
    "plt.savefig(\"../results/figures/fig5/logit_acceptors.png\", bbox_inches='tight', dpi=300)"
   ]
  },
  {
   "cell_type": "code",
   "execution_count": 11,
   "id": "0b2f8c00-e25c-4c0a-9f0c-70084967cabb",
   "metadata": {},
   "outputs": [
    {
     "data": {
      "text/plain": [
       "genotype  Splice site  group       \n",
       "B         acceptor     Lower usage     12\n",
       "C         acceptor     Lower usage     12\n",
       "RF        acceptor     Lower usage     12\n",
       "F         acceptor     Lower usage     10\n",
       "C         acceptor     Higher usage     6\n",
       "B         acceptor     Higher usage     5\n",
       "F         acceptor     Higher usage     5\n",
       "RF        acceptor     Higher usage     5\n",
       "Name: count, dtype: int64"
      ]
     },
     "execution_count": 11,
     "metadata": {},
     "output_type": "execute_result"
    }
   ],
   "source": [
    "a[a.base==\"G\"].drop_duplicates([\"Splice site\",\"genotype\",\"position\"]).value_counts([\"genotype\",\"Splice site\",\"group\"])"
   ]
  },
  {
   "cell_type": "code",
   "execution_count": 12,
   "id": "be992340-ff55-4593-b510-a40adf06aee4",
   "metadata": {},
   "outputs": [
    {
     "data": {
      "text/plain": [
       "Splice site  group       \n",
       "acceptor     Lower usage     46\n",
       "             Higher usage    21\n",
       "Name: count, dtype: int64"
      ]
     },
     "execution_count": 12,
     "metadata": {},
     "output_type": "execute_result"
    }
   ],
   "source": [
    "a[a.base==\"G\"].drop_duplicates([\"Splice site\",\"genotype\",\"position\"]).value_counts([\"Splice site\",\"group\"])"
   ]
  },
  {
   "cell_type": "code",
   "execution_count": 13,
   "id": "b0872c62-7d5a-4069-9eee-bc8fccef7494",
   "metadata": {},
   "outputs": [
    {
     "data": {
      "text/plain": [
       "Splice site  group       \n",
       "acceptor     Lower usage     12\n",
       "             Higher usage     6\n",
       "Name: count, dtype: int64"
      ]
     },
     "execution_count": 13,
     "metadata": {},
     "output_type": "execute_result"
    }
   ],
   "source": [
    "a[a.base==\"G\"].drop_duplicates([\"Splice site\",\"position\"]).value_counts([\"Splice site\",\"group\"])"
   ]
  },
  {
   "cell_type": "code",
   "execution_count": 14,
   "id": "91422a1a-2b16-4001-8303-4d0b2960e409",
   "metadata": {},
   "outputs": [
    {
     "data": {
      "text/plain": [
       "group\n",
       "Non-acceptor    652160\n",
       "Lower usage      47042\n",
       "Higher usage     20220\n",
       "Name: count, dtype: int64"
      ]
     },
     "execution_count": 14,
     "metadata": {},
     "output_type": "execute_result"
    }
   ],
   "source": [
    "a.value_counts(\"group\")"
   ]
  },
  {
   "cell_type": "code",
   "execution_count": 14,
   "id": "207ad512-f516-4179-9fcf-e61dbba1757d",
   "metadata": {},
   "outputs": [
    {
     "data": {
      "text/html": [
       "<div>\n",
       "<style scoped>\n",
       "    .dataframe tbody tr th:only-of-type {\n",
       "        vertical-align: middle;\n",
       "    }\n",
       "\n",
       "    .dataframe tbody tr th {\n",
       "        vertical-align: top;\n",
       "    }\n",
       "\n",
       "    .dataframe thead th {\n",
       "        text-align: right;\n",
       "    }\n",
       "</style>\n",
       "<table border=\"1\" class=\"dataframe\">\n",
       "  <thead>\n",
       "    <tr style=\"text-align: right;\">\n",
       "      <th></th>\n",
       "      <th>position</th>\n",
       "      <th>logit</th>\n",
       "      <th>prob</th>\n",
       "      <th>id</th>\n",
       "      <th>genotype</th>\n",
       "      <th>base</th>\n",
       "      <th>group</th>\n",
       "      <th>Splicing efficiency</th>\n",
       "      <th>Splice site</th>\n",
       "    </tr>\n",
       "  </thead>\n",
       "  <tbody>\n",
       "    <tr>\n",
       "      <th>0</th>\n",
       "      <td>55</td>\n",
       "      <td>-1.567383</td>\n",
       "      <td>0.172607</td>\n",
       "      <td>&gt;gnl|hbvnuc|MG571333_FT00000_P</td>\n",
       "      <td>B</td>\n",
       "      <td>G</td>\n",
       "      <td>Non-acceptor</td>\n",
       "      <td>NaN</td>\n",
       "      <td>NaN</td>\n",
       "    </tr>\n",
       "    <tr>\n",
       "      <th>1</th>\n",
       "      <td>63</td>\n",
       "      <td>-4.226562</td>\n",
       "      <td>0.014389</td>\n",
       "      <td>&gt;gnl|hbvnuc|MG571333_FT00000_P</td>\n",
       "      <td>B</td>\n",
       "      <td>G</td>\n",
       "      <td>Non-acceptor</td>\n",
       "      <td>NaN</td>\n",
       "      <td>NaN</td>\n",
       "    </tr>\n",
       "    <tr>\n",
       "      <th>2</th>\n",
       "      <td>84</td>\n",
       "      <td>4.832031</td>\n",
       "      <td>0.992188</td>\n",
       "      <td>&gt;gnl|hbvnuc|MG571333_FT00000_P</td>\n",
       "      <td>B</td>\n",
       "      <td>G</td>\n",
       "      <td>Non-acceptor</td>\n",
       "      <td>NaN</td>\n",
       "      <td>NaN</td>\n",
       "    </tr>\n",
       "    <tr>\n",
       "      <th>3</th>\n",
       "      <td>109</td>\n",
       "      <td>-4.976562</td>\n",
       "      <td>0.006851</td>\n",
       "      <td>&gt;gnl|hbvnuc|MG571333_FT00000_P</td>\n",
       "      <td>B</td>\n",
       "      <td>G</td>\n",
       "      <td>Non-acceptor</td>\n",
       "      <td>NaN</td>\n",
       "      <td>NaN</td>\n",
       "    </tr>\n",
       "    <tr>\n",
       "      <th>4</th>\n",
       "      <td>118</td>\n",
       "      <td>-4.851562</td>\n",
       "      <td>0.007755</td>\n",
       "      <td>&gt;gnl|hbvnuc|MG571333_FT00000_P</td>\n",
       "      <td>B</td>\n",
       "      <td>G</td>\n",
       "      <td>Non-acceptor</td>\n",
       "      <td>NaN</td>\n",
       "      <td>NaN</td>\n",
       "    </tr>\n",
       "    <tr>\n",
       "      <th>...</th>\n",
       "      <td>...</td>\n",
       "      <td>...</td>\n",
       "      <td>...</td>\n",
       "      <td>...</td>\n",
       "      <td>...</td>\n",
       "      <td>...</td>\n",
       "      <td>...</td>\n",
       "      <td>...</td>\n",
       "      <td>...</td>\n",
       "    </tr>\n",
       "    <tr>\n",
       "      <th>3061082</th>\n",
       "      <td>1905</td>\n",
       "      <td>-4.433594</td>\n",
       "      <td>0.011734</td>\n",
       "      <td>&gt;gnl|hbvnuc|FJ562328_FT00000_P</td>\n",
       "      <td>RF</td>\n",
       "      <td>G</td>\n",
       "      <td>Non-acceptor</td>\n",
       "      <td>NaN</td>\n",
       "      <td>NaN</td>\n",
       "    </tr>\n",
       "    <tr>\n",
       "      <th>3061099</th>\n",
       "      <td>2325</td>\n",
       "      <td>-5.222656</td>\n",
       "      <td>0.005363</td>\n",
       "      <td>&gt;gnl|hbvnuc|FJ562328_FT00000_P</td>\n",
       "      <td>RF</td>\n",
       "      <td>G</td>\n",
       "      <td>Non-acceptor</td>\n",
       "      <td>NaN</td>\n",
       "      <td>NaN</td>\n",
       "    </tr>\n",
       "    <tr>\n",
       "      <th>3071250</th>\n",
       "      <td>910</td>\n",
       "      <td>-4.957031</td>\n",
       "      <td>0.006985</td>\n",
       "      <td>&gt;gnl|hbvnuc|KJ803803_FT00000_P</td>\n",
       "      <td>RF</td>\n",
       "      <td>G</td>\n",
       "      <td>Non-acceptor</td>\n",
       "      <td>NaN</td>\n",
       "      <td>NaN</td>\n",
       "    </tr>\n",
       "    <tr>\n",
       "      <th>3102538</th>\n",
       "      <td>1842</td>\n",
       "      <td>-1.366211</td>\n",
       "      <td>0.203247</td>\n",
       "      <td>&gt;gnl|hbvnuc|AY161145_FT00000_P</td>\n",
       "      <td>RF</td>\n",
       "      <td>G</td>\n",
       "      <td>Non-acceptor</td>\n",
       "      <td>NaN</td>\n",
       "      <td>NaN</td>\n",
       "    </tr>\n",
       "    <tr>\n",
       "      <th>3103514</th>\n",
       "      <td>35</td>\n",
       "      <td>-1.371094</td>\n",
       "      <td>0.202393</td>\n",
       "      <td>&gt;gnl|hbvnuc|KF214656_FT00000_P</td>\n",
       "      <td>RF</td>\n",
       "      <td>G</td>\n",
       "      <td>Non-acceptor</td>\n",
       "      <td>NaN</td>\n",
       "      <td>NaN</td>\n",
       "    </tr>\n",
       "  </tbody>\n",
       "</table>\n",
       "<p>943 rows × 9 columns</p>\n",
       "</div>"
      ],
      "text/plain": [
       "         position     logit      prob                              id  \\\n",
       "0              55 -1.567383  0.172607  >gnl|hbvnuc|MG571333_FT00000_P   \n",
       "1              63 -4.226562  0.014389  >gnl|hbvnuc|MG571333_FT00000_P   \n",
       "2              84  4.832031  0.992188  >gnl|hbvnuc|MG571333_FT00000_P   \n",
       "3             109 -4.976562  0.006851  >gnl|hbvnuc|MG571333_FT00000_P   \n",
       "4             118 -4.851562  0.007755  >gnl|hbvnuc|MG571333_FT00000_P   \n",
       "...           ...       ...       ...                             ...   \n",
       "3061082      1905 -4.433594  0.011734  >gnl|hbvnuc|FJ562328_FT00000_P   \n",
       "3061099      2325 -5.222656  0.005363  >gnl|hbvnuc|FJ562328_FT00000_P   \n",
       "3071250       910 -4.957031  0.006985  >gnl|hbvnuc|KJ803803_FT00000_P   \n",
       "3102538      1842 -1.366211  0.203247  >gnl|hbvnuc|AY161145_FT00000_P   \n",
       "3103514        35 -1.371094  0.202393  >gnl|hbvnuc|KF214656_FT00000_P   \n",
       "\n",
       "        genotype base         group  Splicing efficiency Splice site  \n",
       "0              B    G  Non-acceptor                  NaN         NaN  \n",
       "1              B    G  Non-acceptor                  NaN         NaN  \n",
       "2              B    G  Non-acceptor                  NaN         NaN  \n",
       "3              B    G  Non-acceptor                  NaN         NaN  \n",
       "4              B    G  Non-acceptor                  NaN         NaN  \n",
       "...          ...  ...           ...                  ...         ...  \n",
       "3061082       RF    G  Non-acceptor                  NaN         NaN  \n",
       "3061099       RF    G  Non-acceptor                  NaN         NaN  \n",
       "3071250       RF    G  Non-acceptor                  NaN         NaN  \n",
       "3102538       RF    G  Non-acceptor                  NaN         NaN  \n",
       "3103514       RF    G  Non-acceptor                  NaN         NaN  \n",
       "\n",
       "[943 rows x 9 columns]"
      ]
     },
     "execution_count": 14,
     "metadata": {},
     "output_type": "execute_result"
    }
   ],
   "source": [
    "a[a.group==\"Non-acceptor\"].drop_duplicates(\"position\")"
   ]
  },
  {
   "cell_type": "code",
   "execution_count": 21,
   "id": "69746927-e305-4874-acb8-a79ad288715f",
   "metadata": {},
   "outputs": [
    {
     "data": {
      "text/plain": [
       "genotype\n",
       "C     2084\n",
       "B     1728\n",
       "RF     642\n",
       "F      252\n",
       "Name: count, dtype: int64"
      ]
     },
     "execution_count": 21,
     "metadata": {},
     "output_type": "execute_result"
    }
   ],
   "source": [
    "a.drop_duplicates('id').value_counts(\"genotype\")"
   ]
  },
  {
   "cell_type": "code",
   "execution_count": null,
   "id": "1fb61fd6-4350-4f76-b876-96edb900f927",
   "metadata": {},
   "outputs": [],
   "source": []
  },
  {
   "cell_type": "markdown",
   "id": "0636d3e2-f494-4074-9110-48e9b7ef31b1",
   "metadata": {},
   "source": [
    "Conservation of splice acceptor sites vs non-acceptor AG sites"
   ]
  },
  {
   "cell_type": "code",
   "execution_count": 15,
   "id": "c794db96-fbb6-4da4-9b33-0797157e293b",
   "metadata": {},
   "outputs": [],
   "source": [
    "astats = pd.merge(a[[\"position\",\"group\",\"genotype\"]].drop_duplicates(), a.groupby([\"position\",\"genotype\"]).logit.describe().reset_index())\n",
    "agcounts = ag.drop_duplicates(\"id\").value_counts(\"genotype\").reset_index()\n",
    "agcounts.columns = [\"genotype\",\"total sequences\"]\n",
    "astats = pd.merge(astats, agcounts, on=\"genotype\")\n",
    "astats[\"% Conserved AG sites\"] = astats[\"count\"]/astats[\"total sequences\"] *100"
   ]
  },
  {
   "cell_type": "code",
   "execution_count": 16,
   "id": "70d01bf9-3d50-4fdf-97df-fdaefc1d4450",
   "metadata": {},
   "outputs": [
    {
     "data": {
      "image/png": "[encoded data removed]",
      "text/plain": [
       "<Figure size 500x300 with 1 Axes>"
      ]
     },
     "metadata": {},
     "output_type": "display_data"
    }
   ],
   "source": [
    "plt.figure(figsize=(5,3))\n",
    "g = sns.boxplot(data=astats.sort_values(\"genotype\"), x=\"group\", y=\"% Conserved AG sites\", hue=\"genotype\", \n",
    "                order=[\"Higher usage\",\"Lower usage\",\"Non-acceptor\"],\n",
    "                palette=\"tab10\", showfliers=False)\n",
    "g = sns.stripplot(data=astats.sort_values(\"genotype\"), x=\"group\", y=\"% Conserved AG sites\", hue=\"genotype\", \n",
    "                  order=[\"Higher usage\",\"Lower usage\",\"Non-acceptor\"],\n",
    "                  edgecolor='black', linewidth=0.1, alpha=0.2, jitter=0.25, s=2, \n",
    "                  palette=\"tab10\", dodge=True, legend=False)\n",
    "plt.xlabel(\"acceptor\")\n",
    "# g.set(xlabel=None)\n",
    "sns.move_legend(g, \"upper left\", bbox_to_anchor=(1, 0.75))\n",
    "plt.savefig(\"../results/figures/fig5/conservation_acceptors.png\", bbox_inches='tight', dpi=300)"
   ]
  },
  {
   "cell_type": "code",
   "execution_count": null,
   "id": "7afc42f6-1b61-4c80-8ee8-e00e8822e7a7",
   "metadata": {},
   "outputs": [],
   "source": []
  },
  {
   "cell_type": "markdown",
   "id": "f4b8e87d-f3dc-412a-b727-0e9d380ef68e",
   "metadata": {},
   "source": [
    "Calculate performance metrics for splice acceptor sites"
   ]
  },
  {
   "cell_type": "code",
   "execution_count": 15,
   "id": "3556815f-60fa-49cf-a3eb-984ea1b457c3",
   "metadata": {},
   "outputs": [],
   "source": [
    "usage = {'Higher usage':1, 'Lower usage':1, 'Non-acceptor':0}\n",
    "\n",
    "a[\"label\"] = a.group.apply(lambda x: usage[x])\n",
    "\n",
    "y_true = a[\"label\"].to_numpy()\n",
    "y_pred = a.logit.to_numpy()"
   ]
  },
  {
   "cell_type": "code",
   "execution_count": 16,
   "id": "a8ec012c-6066-4844-8c3c-dba7bcc46f53",
   "metadata": {},
   "outputs": [
    {
     "name": "stdout",
     "output_type": "stream",
     "text": [
      "\n",
      "AUROC: 0.90\n",
      "AUPRC: 0.60\n",
      "\n",
      "Predicted binary labels unique values: [0 1]\n",
      "\n",
      "Metrics at threshold=0.5:\n",
      "Accuracy: 0.93\n",
      "F1-Score: 0.60\n",
      "Precision: 0.65\n",
      "Recall: 0.56\n",
      "\n",
      "Classification Report at threshold=0.5:\n",
      "              precision    recall  f1-score   support\n",
      "\n",
      "Not Positive       0.96      0.97      0.96    652160\n",
      "    Positive       0.65      0.56      0.60     67262\n",
      "\n",
      "    accuracy                           0.93    719422\n",
      "   macro avg       0.80      0.76      0.78    719422\n",
      "weighted avg       0.93      0.93      0.93    719422\n",
      "\n"
     ]
    }
   ],
   "source": [
    "performance_metrics(y_true, y_pred, 0.5)"
   ]
  },
  {
   "cell_type": "code",
   "execution_count": null,
   "id": "28b2d6ff-7c02-476a-8b9a-34eb7c778b5a",
   "metadata": {},
   "outputs": [],
   "source": []
  }
 ],
 "metadata": {
  "kernelspec": {
   "display_name": "Python [conda env:llm]",
   "language": "python",
   "name": "conda-env-llm-py"
  },
  "language_info": {
   "codemirror_mode": {
    "name": "ipython",
    "version": 3
   },
   "file_extension": ".py",
   "mimetype": "text/x-python",
   "name": "python",
   "nbconvert_exporter": "python",
   "pygments_lexer": "ipython3",
   "version": "3.9.16"
  }
 },
 "nbformat": 4,
 "nbformat_minor": 5
}
